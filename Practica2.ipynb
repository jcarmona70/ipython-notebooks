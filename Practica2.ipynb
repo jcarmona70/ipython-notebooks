{
 "metadata": {
  "name": "Practica2"
 },
 "nbformat": 3,
 "nbformat_minor": 0,
 "worksheets": [
  {
   "cells": [
    {
     "cell_type": "heading",
     "level": 1,
     "metadata": {},
     "source": [
      "Fractales de Newton."
     ]
    },
    {
     "cell_type": "heading",
     "level": 2,
     "metadata": {},
     "source": [
      "Ceros de polinomios, aproximaciones de Newton y bonitos dibujos."
     ]
    },
    {
     "cell_type": "markdown",
     "metadata": {},
     "source": [
      "Desde hace mucho tiempo los matem\u00e1ticos se han preocupado de hallar soluciones de ecuaciones. \n",
      "\n",
      "De estas las m\u00e1s sencillas son las polin\u00f3micas.\n",
      "\n",
      "Si la soluci\u00f3n $x$ a un problema cumple $a\\cdot x+b=0$, con $a,b$ n\u00fameros reales la cosa es muy f\u00e1cil: $x=-b/a$.\n",
      "\n",
      "Todo el mundo sabe que si un problema se reduce a resolver una ecuaci\u00f3n del tipo $a\\cdot x^2+b\\cdot x + c=0$, con $a,b$ y $c$ n\u00fameros reales, basta aplicar una sencilla f\u00f3rmula para obtener los dos posibles valores de $x$.\n",
      "\n",
      "Para las de grado 3 y 4 existen f\u00f3rmulas para obtener las ra\u00edces pero la cosa ya se pone un poco m\u00e1s complicada (de hecho, salvo raras excepciones, no se  estudian  esas f\u00f3rmulas en la educaci\u00f3n secundaria).\n",
      "\n",
      "La cosa se pone peor para las de grado 5, para algunos polinomios existe una f\u00f3rmula que nos d\u00e1 las ra\u00edces en funci\u00f3n de los coeficientes y para otros se sabe que no existe tal f\u00f3rmula. Demostrar eso es una cuesti\u00f3n algebraica avanzada, la wikipedia nos d\u00e1 buena informaci\u00f3n sobre esto: http://en.wikipedia.org/wiki/Quintic_function\n",
      "\n",
      "Afortunadamente existen m\u00e9todos num\u00e9ricos para aproximar las soluciones de una ecuaci\u00f3n."
     ]
    },
    {
     "cell_type": "heading",
     "level": 2,
     "metadata": {},
     "source": [
      "M\u00e9todo de Newton"
     ]
    },
    {
     "cell_type": "markdown",
     "metadata": {},
     "source": [
      "Si tenemos un polinomio $f(x)$ y un $x_0$, podemos sustituir el polinomio $f(x)$ por la recta tangente a la curva $y=f(x)$ en el punto $(x_0,f(x_0))$. Esa recta corta al eje $x$ en un punto cuya coordenada $x$ es $x_1=x_0-{f(x_0)\\over f'(x_0)}$.\n",
      "\n",
      "Si repetimos el proceso obtenemos una sucesi\u00f3n: $x_{k+1}=x_k-{f(x_k)\\over f'(x_k)}$. Salvo para unas pocas elecciones de $x_0$\n",
      "la sucesi\u00f3n converge a un cero de $f$.\n",
      "\n"
     ]
    },
    {
     "cell_type": "markdown",
     "metadata": {},
     "source": [
      "Se trata de definir una funci\u00f3n newton que dados: una funci\u00f3n ($f$), su derivada ($derf$), un valor inicial($x_0$), un epsilon  y un n\u00famero m\u00e1ximo de iteracciones(max_iter), devuelva:\n",
      "\n",
      "-una aproximaci\u00f3n de un cero de la funci\u00f3n f obtenida aplicando el m\u00e9todo de Newton y el n\u00famero de iteraciones que hemos necesitado. (consideramos que un $x_k$ es suficientemente bueno si abs($f(x_k)$)<epsilon\n",
      "\n",
      "-o si tras realizar el n\u00famero maximo de iteraciones la aproximaci\u00f3n no es aceptable devolvemos el valor alcanzado y el n\u00famero de iteraciones.\n",
      "\n",
      "He aqu\u00ed la cabecera de la funci\u00f3n a definir:\n",
      "\n",
      "def newton(f,derf,z0,epsilon,max_steps):\n",
      "\n",
      "Un ejemplo de uso de la funci\u00f3n:\n",
      "\n",
      "Supongamos definidas las funciones f y derf de la siguiente forma:"
     ]
    },
    {
     "cell_type": "code",
     "collapsed": false,
     "input": [
      "def f(x):\n",
      "    return x**4-1\n",
      "def derf(x):\n",
      "    return 4*(x**3)"
     ],
     "language": "python",
     "metadata": {},
     "outputs": [],
     "prompt_number": 7
    },
    {
     "cell_type": "code",
     "collapsed": false,
     "input": [
      " print newton(f,derf,1234.,2**(-32),100)\n",
      " print newton(f,derf,-1234.,2**(-32),100)"
     ],
     "language": "python",
     "metadata": {},
     "outputs": [
      {
       "output_type": "stream",
       "stream": "stdout",
       "text": [
        "(1.0000000000000069, 29)\n",
        "(-1.0000000000000069, 29)\n"
       ]
      }
     ],
     "prompt_number": 8
    },
    {
     "cell_type": "markdown",
     "metadata": {},
     "source": [
      "Todo lo anterior sigue siendo cierto si nuestra variable se mueve en los n\u00fameros complejos y, seguramente, la funci\u00f3n que has escrito en Python funciona para este caso (si no deber\u00e1s cambiarla para que lo haga)"
     ]
    },
    {
     "cell_type": "code",
     "collapsed": false,
     "input": [
      "print newton(f,derf,complex(0,7),2**(-32),100)\n",
      "print newton(f,derf,complex(0,-7),2**(-32),100)"
     ],
     "language": "python",
     "metadata": {},
     "outputs": [
      {
       "output_type": "stream",
       "stream": "stdout",
       "text": [
        "(1.000000000000011j, 11)\n",
        "(-1.000000000000011j, 11)\n"
       ]
      }
     ],
     "prompt_number": 9
    },
    {
     "cell_type": "markdown",
     "metadata": {},
     "source": [
      "As\u00ed que hemos obtenido las cuatro soluciones complejas de la funci\u00f3n $f$.(Lo cual no tiene mucho m\u00e9rito pues sabemos hacerlas a mano). "
     ]
    },
    {
     "cell_type": "code",
     "collapsed": false,
     "input": [
      "r0=newton(f,derf,complex(0,2),2**(-32),100000)[0]\n",
      "r1=newton(f,derf,complex(0,-2),2**(-32),100000)[0]\n",
      "r2=newton(f,derf,complex(2,0),2**(-32),100000)[0]\n",
      "r3=newton(f,derf,complex(-2,0),2**(-32),100000)[0]"
     ],
     "language": "python",
     "metadata": {},
     "outputs": [],
     "prompt_number": 10
    },
    {
     "cell_type": "markdown",
     "metadata": {},
     "source": [
      "Hay sitios desde los que la convergencia no se produce:"
     ]
    },
    {
     "cell_type": "code",
     "collapsed": false,
     "input": [
      "newton(f,derf,complex(2,2),2**(-32),100000)"
     ],
     "language": "python",
     "metadata": {},
     "outputs": [
      {
       "metadata": {},
       "output_type": "pyout",
       "prompt_number": 11,
       "text": [
        "((6110783.794324929+6110783.794324929j), 100000)"
       ]
      }
     ],
     "prompt_number": 11
    },
    {
     "cell_type": "markdown",
     "metadata": {},
     "source": [
      "Surge una interesante pregunta, \u00bfComo cambia la ra\u00edz que encontramos cuando cambiamos un poco la aproximaci\u00f3n inicial?\n",
      "El objetivo de la pr\u00e1ctica es generar un dibujo que nos muestre esa informaci\u00f3n, para ello recorreremos los puntos de \n",
      "un rect\u00e1ngulo de n\u00fameros complejos y pintaremos cada uno de ellos de un color diferente determinado por la ra\u00edz a la que converga el m\u00e9todo de Newton (o lo dejaremos blanco si no converge).\n",
      "\n",
      "Un ejemplo de lo que deber\u00eda funcionar despu\u00e9s de definir la funci\u00f3n newton_fractal:"
     ]
    },
    {
     "cell_type": "code",
     "collapsed": false,
     "input": [
      "from PIL import Image\n",
      "raices=[r0,r1,r2,r3]\n",
      "fractal=newton_fractal(f,derf,raices,[(255,0,0),(0,255,0),(0,0,255),(255,0,255)],2,2,0.005)\n",
      "fractal.show()"
     ],
     "language": "python",
     "metadata": {},
     "outputs": [],
     "prompt_number": 12
    },
    {
     "cell_type": "markdown",
     "metadata": {},
     "source": [
      "Como puedes ver, para ello necesitamos usar el m\u00f3dulo Image de Python. Un peque\u00f1o programa que usa dicho m\u00f3dulo puede clarificar su uso: "
     ]
    },
    {
     "cell_type": "code",
     "collapsed": false,
     "input": [
      "from PIL import Image\n",
      "red = (255,0,0)\n",
      "green = (0,255,0)\n",
      "width = 600\n",
      "height = 400\n",
      "i = Image.new(\"RGB\", (width,height), red)\n",
      "for x in range(height):\n",
      "    i.putpixel((x,x),green)\n",
      "i.show()"
     ],
     "language": "python",
     "metadata": {},
     "outputs": [],
     "prompt_number": 1
    },
    {
     "cell_type": "markdown",
     "metadata": {},
     "source": [
      "<img src=\"http://wild.mat.ucm.es/z4-1.jpg\">"
     ]
    },
    {
     "cell_type": "markdown",
     "metadata": {},
     "source": [
      "Si, ante import Image, tu int\u00e9rprete de Python se queja de que no existe el m\u00f3dulo Image no te preocupes, \u00e9ste m\u00f3dulo es muy f\u00e1cil de instalar para windows desde \n",
      "\n",
      "http://www.pythonware.com/products/pil/\n",
      "\n",
      "O con la instrucci\u00f3n \n",
      "\n",
      "sudo apt-get install python-imaging\n",
      "\n",
      "en la linea de comandos de Linux."
     ]
    },
    {
     "cell_type": "heading",
     "level": 1,
     "metadata": {},
     "source": [
      "Combinar dos dibujos distintos, por ejemplo el del polinomio $f$ anterior y el de $f2=z^3+2$, produce sorprendentes resultados."
     ]
    },
    {
     "cell_type": "markdown",
     "metadata": {},
     "source": [
      "A la hora de elegir nuestros polinomios, es importante que no tengan ra\u00edces m\u00faltiples (por ejemplo si multiplicamos dos con ra\u00edces comunes), en esas situaciones el m\u00e9todo de Newton no funciona tan bien. De ah\u00ed que $f2$ est\u00e9 definido como $x^3+2$ y no \n",
      "el que ser\u00eda m\u00e1s sencillo $x^3+1$"
     ]
    },
    {
     "cell_type": "code",
     "collapsed": false,
     "input": [
      "def f2(z):\n",
      "    return z**3+2\n",
      "def derf2(z):\n",
      "    return 3*z**2\n",
      "s0=newton(f2,derf2,4.,2**(-32),100)[0]\n",
      "s1=newton(f2,derf2,complex(4,1),2**(-32),100)[0]\n",
      "s2=newton(f2,derf2,complex(4,-1),2**(-32),100)[0]\n",
      "\n",
      "def f3(z):\n",
      "    return f(z)*f2(z)\n",
      "def derf3(z):\n",
      "    return derf(z)*f2(z)+f(z)*derf2(z)\n",
      "raices=[r0,r1,r2,r3,s0,s1,s2]\n",
      "colores=[(33,29,115),(115,29,39),(105,94,29),(222,195,22),(222,65,22),(10,247,235),(230,140,85)]\n",
      "fractal=newton_fractal(f3,derf3,raices,colores,2,2,0.005)\n",
      "fractal.show()"
     ],
     "language": "python",
     "metadata": {},
     "outputs": [],
     "prompt_number": 9
    },
    {
     "cell_type": "markdown",
     "metadata": {},
     "source": [
      "<img src=\"http://wild.mat.ucm.es/z4-1xz3+1.jpeg\">"
     ]
    }
   ],
   "metadata": {}
  }
 ]
}