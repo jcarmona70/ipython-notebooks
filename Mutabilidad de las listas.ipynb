{
 "metadata": {
  "name": "Mutabilidad de las listas"
 },
 "nbformat": 3,
 "nbformat_minor": 0,
 "worksheets": [
  {
   "cells": [
    {
     "cell_type": "code",
     "collapsed": false,
     "input": "def inc(n):\n    n=n+1",
     "language": "python",
     "metadata": {},
     "outputs": [],
     "prompt_number": 1
    },
    {
     "cell_type": "code",
     "collapsed": false,
     "input": "n=6",
     "language": "python",
     "metadata": {},
     "outputs": [],
     "prompt_number": 2
    },
    {
     "cell_type": "code",
     "collapsed": false,
     "input": "inc(n)",
     "language": "python",
     "metadata": {},
     "outputs": [],
     "prompt_number": 3
    },
    {
     "cell_type": "code",
     "collapsed": false,
     "input": "n",
     "language": "python",
     "metadata": {},
     "outputs": [
      {
       "metadata": {},
       "output_type": "pyout",
       "prompt_number": 4,
       "text": "6"
      }
     ],
     "prompt_number": 4
    },
    {
     "cell_type": "code",
     "collapsed": false,
     "input": "def cambia_elemento(lista,ind,valor):\n    lista[ind]=valor",
     "language": "python",
     "metadata": {},
     "outputs": [],
     "prompt_number": 5
    },
    {
     "cell_type": "code",
     "collapsed": false,
     "input": "l=[0,1,2,3,4,5,6]",
     "language": "python",
     "metadata": {},
     "outputs": [],
     "prompt_number": 6
    },
    {
     "cell_type": "code",
     "collapsed": false,
     "input": "cambia_elemento(l,5,10)",
     "language": "python",
     "metadata": {},
     "outputs": [],
     "prompt_number": 7
    },
    {
     "cell_type": "code",
     "collapsed": false,
     "input": "l",
     "language": "python",
     "metadata": {},
     "outputs": [
      {
       "metadata": {},
       "output_type": "pyout",
       "prompt_number": 8,
       "text": "[0, 1, 2, 3, 4, 10, 6]"
      }
     ],
     "prompt_number": 8
    },
    {
     "cell_type": "code",
     "collapsed": false,
     "input": "l=l+[7]\nl",
     "language": "python",
     "metadata": {},
     "outputs": [
      {
       "metadata": {},
       "output_type": "pyout",
       "prompt_number": 9,
       "text": "[0, 1, 2, 3, 4, 10, 6, 7]"
      }
     ],
     "prompt_number": 9
    },
    {
     "cell_type": "markdown",
     "metadata": {},
     "source": "Un intento de procedimiento que a\u00f1ada un elemento  a una lista"
    },
    {
     "cell_type": "code",
     "collapsed": false,
     "input": "def aniadir(lista,e):\n    lista=lista+[e]",
     "language": "python",
     "metadata": {},
     "outputs": [],
     "prompt_number": 10
    },
    {
     "cell_type": "code",
     "collapsed": false,
     "input": "aniadir(l,8)\nl",
     "language": "python",
     "metadata": {},
     "outputs": [
      {
       "metadata": {},
       "output_type": "pyout",
       "prompt_number": 11,
       "text": "[0, 1, 2, 3, 4, 10, 6, 7]"
      }
     ],
     "prompt_number": 11
    },
    {
     "cell_type": "markdown",
     "metadata": {},
     "source": "Los objetos tienen \"m\u00e9todos\", son procedimientos que \nmodifican el objeto sobre el que se aplican. El m\u00e9todo que a\u00f1ade\nun elemento a una lista se llama append la sintaxis se muestra a \ncontinuaci\u00f3n"
    },
    {
     "cell_type": "code",
     "collapsed": false,
     "input": "l.append(8)",
     "language": "python",
     "metadata": {},
     "outputs": [],
     "prompt_number": 12
    },
    {
     "cell_type": "code",
     "collapsed": false,
     "input": "l",
     "language": "python",
     "metadata": {},
     "outputs": [
      {
       "metadata": {},
       "output_type": "pyout",
       "prompt_number": 13,
       "text": "[0, 1, 2, 3, 4, 10, 6, 7, 8]"
      }
     ],
     "prompt_number": 13
    },
    {
     "cell_type": "markdown",
     "metadata": {},
     "source": "Aunque ya resulta superfluo ya podemos escribir el procedimiento aniadir."
    },
    {
     "cell_type": "code",
     "collapsed": false,
     "input": "def aniadir(l,e):\n    l.append(e)",
     "language": "python",
     "metadata": {},
     "outputs": [],
     "prompt_number": 14
    },
    {
     "cell_type": "code",
     "collapsed": false,
     "input": "aniadir(l,9)\nl",
     "language": "python",
     "metadata": {},
     "outputs": [
      {
       "metadata": {},
       "output_type": "pyout",
       "prompt_number": 15,
       "text": "[0, 1, 2, 3, 4, 10, 6, 7, 8, 9]"
      }
     ],
     "prompt_number": 15
    },
    {
     "cell_type": "markdown",
     "metadata": {},
     "source": "No hay manera de incrementar el entero al que apunta una varible a\ntrav\u00e9s de una llamada a un procedimiento pero s\u00ed a\u00f1adir un elemento a una lista.\nLa raz\u00f3n es que las listas son mutables y los enteros son inmutables."
    },
    {
     "cell_type": "markdown",
     "metadata": {},
     "source": "Otro efecto interesante"
    },
    {
     "cell_type": "code",
     "collapsed": false,
     "input": "l=[1,2,3]\nl1=l\nl1[0]=100\nprint l[0]\n",
     "language": "python",
     "metadata": {},
     "outputs": [
      {
       "output_type": "stream",
       "stream": "stdout",
       "text": "100\n"
      }
     ],
     "prompt_number": 16
    },
    {
     "cell_type": "code",
     "collapsed": false,
     "input": "a=1\na1=a\na1=100\nprint a",
     "language": "python",
     "metadata": {},
     "outputs": [
      {
       "output_type": "stream",
       "stream": "stdout",
       "text": "1\n"
      }
     ],
     "prompt_number": 17
    },
    {
     "cell_type": "markdown",
     "metadata": {},
     "source": "Como el entero 1 es inmutable nadie puede modificar el valor apuntado por la variable a usando otra variable distinta. Sin embargo podemos cambiar el valor \napuntado por l[0] a trav\u00e9s de otra referencia, l1, a la lista."
    }
   ],
   "metadata": {}
  }
 ]
}