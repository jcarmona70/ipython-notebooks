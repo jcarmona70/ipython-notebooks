{
 "metadata": {
<<<<<<< HEAD
  "name": "Untitled2"
 }, 
 "nbformat": 2, 
=======
  "name": ""
 },
 "nbformat": 3,
 "nbformat_minor": 0,
>>>>>>> 1cc81c3a5282ecbc468884fda5337e338835026d
 "worksheets": []
}