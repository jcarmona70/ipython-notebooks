{
 "metadata": {
  "name": "prueba1"
 },
 "nbformat": 3,
 "nbformat_minor": 0,
 "worksheets": [
  {
   "cells": [
    {
     "cell_type": "markdown",
     "metadata": {
      "slideshow": {
       "slide_type": "notes"
      }
     },
     "source": "Una soluci\u00f3n al problema de devoluci\u00f3n de cambio.\nEl programa pide una cantidad en Euros y devuelve \nla cantidad de monedas de cada tipo para devolver el cambio."
    },
    {
     "cell_type": "code",
     "collapsed": false,
     "input": "def escribe_cambio(num_mon,valor):\n    if num_mon==1:\n        if valor==200:\n            print \"  \",num_mon,\"moneda de 2 Euros\"\n        elif valor==100:\n            print \"  \",num_mon,\"moneda de 1 Euro\"\n        elif valor==1:\n            print \"  \",num_mon,\"moneda de 1 Centimo\"\n        else:\n            print \"  \",num_mon,\"moneda de \"+str(valor)+\" Centimos\"\n    elif num_mon!=0:\n        if valor==200:\n            print \"  \",num_mon,\"monedas de 2 Euros\"\n        elif valor==100:\n            print \"  \",num_mon,\"monedas de 1 Euro\"\n        elif valor==1:\n            print \"  \",num_mon,\"monedas de 1 Centimo\"\n        else:\n            print \"  \",num_mon,\"monedas de \"+str(valor)+\" Centimos\"\n\ncambio=float(raw_input(\"Introduce el cambio en Euros (por ejemplo 2.35):\"))\ncentimos=int(round(cambio*100))\nm2e=centimos/200    #monedas de 2 euros\nresto=centimos%200  #lo que nos queda por devolver\n#lo mismo para el resto de monedas\nm1e=resto/100\nresto=resto%100\n\nm50cent=resto/50\nresto=resto%50\n\nm20cent=resto/20\nresto=resto%20\n\nm10cent=resto/10\nresto=resto%10\n\nm5cent=resto/5\nresto=resto%5\n\nm2cent=resto/2\nresto=resto%2\n\nm1cent=resto\nresto=0\n\nprint \"Su cambio:\"\nescribe_cambio(m2e,200)\nescribe_cambio(m1e,100)\nescribe_cambio(m50cent,50)\nescribe_cambio(m20cent,20)\nescribe_cambio(m10cent,10)\nescribe_cambio(m5cent,5)\nescribe_cambio(m2cent,2)\nescribe_cambio(m1cent,1)",
     "language": "python",
     "metadata": {
      "slideshow": {
       "slide_type": "slide"
      }
     },
     "outputs": [
      {
       "name": "stdout",
       "output_type": "stream",
       "stream": "stdout",
       "text": "Introduce el cambio en Euros (por ejemplo 2.35):89.38\n"
      },
      {
       "output_type": "stream",
       "stream": "stdout",
       "text": "Su cambio:\n   44 monedas de 2 Euros\n   1 moneda de 1 Euro\n   1 moneda de 20 Centimos\n   1 moneda de 10 Centimos\n   1 moneda de 5 Centimos\n   1 moneda de 2 Centimos\n   1 moneda de 1 Centimo\n"
      }
     ],
     "prompt_number": 12
    },
    {
     "cell_type": "markdown",
     "metadata": {},
     "source": "$x^2-x$"
    },
    {
     "cell_type": "code",
     "collapsed": false,
     "input": "map(lambda a:a**2, l)",
     "language": "python",
     "metadata": {},
     "outputs": [
      {
       "metadata": {},
       "output_type": "pyout",
       "prompt_number": 4,
       "text": "[1, 4, 9, 81]"
      }
     ],
     "prompt_number": 4
    },
    {
     "cell_type": "code",
     "collapsed": false,
     "input": "",
     "language": "python",
     "metadata": {},
     "outputs": []
    }
   ],
   "metadata": {}
  }
 ]
}