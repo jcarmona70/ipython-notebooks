{
 "metadata": {
  "name": "B\u00fasquedas"
 }, 
 "nbformat": 2, 
 "worksheets": [
  {
   "cells": [
    {
     "cell_type": "markdown", 
     "source": [
      "Buscar si un elemento est\u00e1 en una lista no es dif\u00edcil:"
     ]
    }, 
    {
     "cell_type": "code", 
     "collapsed": true, 
     "input": [
      "def esta(l,e):", 
      "    #l es una lista, e un elemento", 
      "    #devuelve true si e est\u00e1 en la lista", 
      "    result=False #Hasta que no lo vemos no est\u00e1", 
      "    for x in l:", 
      "        if x==e:", 
      "            result=True", 
      "    return result"
     ], 
     "language": "python", 
     "outputs": [], 
     "prompt_number": 102
    }, 
    {
     "cell_type": "code", 
     "collapsed": false, 
     "input": [
      "print esta([2,3,4],5)", 
      "print esta([3,2,6,7],10)"
     ], 
     "language": "python", 
     "outputs": [
      {
       "output_type": "stream", 
       "stream": "stdout", 
       "text": [
        "False", 
        "False"
       ]
      }
     ], 
     "prompt_number": 103
    }, 
    {
     "cell_type": "markdown", 
     "source": [
      "Aunque la versi\u00f3n anterior es mejorable, si ya lo hemos encontrado no hace falta seguir. ", 
      "Se impone usar un bucle `while` "
     ]
    }, 
    {
     "cell_type": "code", 
     "collapsed": true, 
     "input": [
      "def esta(l,e):", 
      "    #l es una lista, e un elemento", 
      "    #devuelve true si e est\u00e1 en la lista", 
      "    result=False #Hasta que no lo vemos no est\u00e1", 
      "    i=0", 
      "    while i<len(l) and not result:", 
      "        if l[i]==e:", 
      "            result=True", 
      "        i=i+1", 
      "    return result"
     ], 
     "language": "python", 
     "outputs": [], 
     "prompt_number": 104
    }, 
    {
     "cell_type": "markdown", 
     "source": [
      "Y podemos aprovechar para devolver tambi\u00e9n la posici\u00f3n del elemento"
     ]
    }, 
    {
     "cell_type": "code", 
     "collapsed": true, 
     "input": [
      "def esta(l,e):", 
      "    #l es una lista, e un elemento", 
      "    #devuelve true y la posici\u00f3n del elemento si e est\u00e1 en la lista.", 
      "    #y False si no esta.", 
      "    result=False #Hasta que no lo vemos no est\u00e1", 
      "    i=0", 
      "    while i<len(l) and not result:", 
      "        if l[i]==e:", 
      "            result=True", 
      "        i=i+1", 
      "    return result,i-1"
     ], 
     "language": "python", 
     "outputs": [], 
     "prompt_number": 105
    }, 
    {
     "cell_type": "code", 
     "collapsed": false, 
     "input": [
      "esta([2,1,45,12,11],12)"
     ], 
     "language": "python", 
     "outputs": [
      {
       "output_type": "pyout", 
       "prompt_number": 106, 
       "text": [
        "(True, 3)"
       ]
      }
     ], 
     "prompt_number": 106
    }, 
    {
     "cell_type": "markdown", 
     "source": [
      "Si sabemos que la lista est\u00e1 ordenada, podemos hacer las cosas mejor"
     ]
    }, 
    {
     "cell_type": "code", 
     "collapsed": true, 
     "input": [
      "def esta_ord(l,e):", 
      "    #l es una lista ordenada", 
      "    #devuelve true y la posici\u00f3n del elemento si e est\u00e1 en la lista.", 
      "    #y False y la posici\u00f3n que ocupar\u00eda el elemento si no esta.", 
      "    i=0", 
      "    while i<len(l) and l[i]<e:", 
      "        i=i+1", 
      "    return i<len(l) and l[i]==e,i"
     ], 
     "language": "python", 
     "outputs": [], 
     "prompt_number": 107
    }, 
    {
     "cell_type": "code", 
     "collapsed": false, 
     "input": [
      "esta_ord([2,3,7,9,10],12)"
     ], 
     "language": "python", 
     "outputs": [
      {
       "output_type": "pyout", 
       "prompt_number": 108, 
       "text": [
        "(False, 5)"
       ]
      }
     ], 
     "prompt_number": 108
    }, 
    {
     "cell_type": "markdown", 
     "source": [
      "Aunque si la lista es grande y esta ordenada hay mejores formas de act\u00faar.", 
      "Para ver si el `10` est\u00e1 en la lista `l=[2,3,5,7,8,9,11,13,15,23,30,31,33,36,40,100]`", 
      "podemos act\u00faar as\u00ed:", 
      "", 
      "* el elemento central es `l[7]=13>10`", 
      "* luego el `10` estar\u00eda entre las posiciones 0 a 6, es decir miraremos si el `10` est\u00e1 en ", 
      "`l1=l[0:7]=[2,3,5,7,8,9,11]`", 
      "* el  elemento central de `l1` es `l1[3]=7<10`", 
      "* luego el 10 estar\u00eda entre las posiciones 4 y 6 de l1, es decir miraremos si el `10` est\u00e1 en ", 
      "`l2=l1[4:7]=[8,9,11]`", 
      "* el elemento central de `l2`es `l2[1]=9<10`", 
      "* luego `10` estar\u00eda entre las posiciones 2 y 2 de `l2`, es decir miraremos si est\u00e1 en ", 
      "`l3=l2[2:3]=[11]` ", 
      "* el elemeto central de `l3` es `l3[0]=11>10` y la siguiente lesta a considerar es `l4=l3[0:0]=[]` ", 
      "y, como es obvio 10 no est\u00e1 en `l4`"
     ]
    }, 
    {
     "cell_type": "code", 
     "collapsed": true, 
     "input": [
      "def esta_ord_bin_rec(l,e):", 
      "    if len(l)==0:", 
      "        result =False", 
      "    else:", 
      "        med=len(l)/2", 
      "        if l[med]==e:", 
      "            result=True", 
      "        elif l[med]>e:", 
      "            result=esta_ord_bin_rec(l[:med],e)", 
      "        else:", 
      "            result=esta_ord_bin_rec(l[med+1:],e)", 
      "    return result"
     ], 
     "language": "python", 
     "outputs": [], 
     "prompt_number": 109
    }, 
    {
     "cell_type": "code", 
     "collapsed": false, 
     "input": [
      "esta_ord_bin_rec([2,3,5,7,8,9,11,13,15,23,30,31,33,36,40,100],9)"
     ], 
     "language": "python", 
     "outputs": [
      {
       "output_type": "pyout", 
       "prompt_number": 110, 
       "text": [
        "True"
       ]
      }
     ], 
     "prompt_number": 110
    }, 
    {
     "cell_type": "code", 
     "collapsed": true, 
     "input": [
      "def pos_ord_bin_rec(l,e):", 
      "    if len(l)==0:", 
      "        result =False", 
      "        pos=0", 
      "    else:", 
      "        med=len(l)/2", 
      "        if l[med]==e:", 
      "            result=True", 
      "            pos=med", 
      "        elif l[med]>e:", 
      "            result,pos=pos_ord_bin_rec(l[:med],e)", 
      "        else:", 
      "            result,pos=pos_ord_bin_rec(l[med+1:],e)", 
      "            pos=pos+med+1", 
      "    return result,pos"
     ], 
     "language": "python", 
     "outputs": [], 
     "prompt_number": 111
    }, 
    {
     "cell_type": "code", 
     "collapsed": false, 
     "input": [
      "pos_ord_bin_rec([2,3,5,7,8,9,11,13,15,23,30,31,33,36,40,100],36)"
     ], 
     "language": "python", 
     "outputs": [
      {
       "output_type": "pyout", 
       "prompt_number": 112, 
       "text": [
        "(True, 13)"
       ]
      }
     ], 
     "prompt_number": 112
    }, 
    {
     "cell_type": "markdown", 
     "source": [
      "No controlamos si nos devuelve la primera,segunda ... aparici\u00f3n del elemento en la lista "
     ]
    }, 
    {
     "cell_type": "code", 
     "collapsed": false, 
     "input": [
      "pos_ord_bin_rec([2,3,5,7,8,9,11,13,15,23,30,31,33,36,36,36,36,40,100],36)"
     ], 
     "language": "python", 
     "outputs": [
      {
       "output_type": "pyout", 
       "prompt_number": 113, 
       "text": [
        "(True, 14)"
       ]
      }
     ], 
     "prompt_number": 113
    }, 
    {
     "cell_type": "code", 
     "collapsed": true, 
     "input": [
      "def pos_ord_bin_rec1(l,e):", 
      "    if len(l)==0:", 
      "        result =False", 
      "        pos=0", 
      "    else:", 
      "        med=len(l)/2", 
      "        if l[med]>=e:", 
      "            result,pos=pos_ord_bin_rec1(l[:med],e)", 
      "            result=(l[med]==e)", 
      "        else:", 
      "            result,pos=pos_ord_bin_rec1(l[med+1:],e)", 
      "            pos=pos+med+1", 
      "    return result,pos"
     ], 
     "language": "python", 
     "outputs": [], 
     "prompt_number": 114
    }, 
    {
     "cell_type": "code", 
     "collapsed": false, 
     "input": [
      "pos_ord_bin_rec1([2,3,5,7,8,9,11,13,15,23,30,31,33,36,36,36,36,40,100],36)"
     ], 
     "language": "python", 
     "outputs": [
      {
       "output_type": "pyout", 
       "prompt_number": 115, 
       "text": [
        "(True, 13)"
       ]
      }
     ], 
     "prompt_number": 115
    }, 
    {
     "cell_type": "code", 
     "collapsed": true, 
     "input": [
      "def pos_ord_bin_rec2(l,i,j,e):", 
      "    if i>j:", 
      "        pos=i", 
      "        result=False", 
      "    else:", 
      "        med=(i+j)/2", 
      "        if l[med]>=e:", 
      "            result,pos=pos_ord_bin_rec2(l,i,med-1,e)", 
      "            result=(l[med]==e)", 
      "        else:", 
      "            result,pos=pos_ord_bin_rec2(l,med+1,j,e)", 
      "    return result,pos", 
      "            ", 
      "            "
     ], 
     "language": "python", 
     "outputs": [], 
     "prompt_number": 116
    }, 
    {
     "cell_type": "code", 
     "collapsed": false, 
     "input": [
      "l=[2,3,5,7,8,9,11,13,15,23,30,31,33,36,36,36,36,40,100]", 
      "print pos_ord_bin_rec2(l,0,len(l)-1,36)", 
      "print pos_ord_bin_rec2(l,0,len(l)-1,200)"
     ], 
     "language": "python", 
     "outputs": [
      {
       "output_type": "stream", 
       "stream": "stdout", 
       "text": [
        "(True, 13)", 
        "(False, 19)"
       ]
      }
     ], 
     "prompt_number": 117
    }, 
    {
     "cell_type": "code", 
     "collapsed": false, 
     "input": [
      "len(l)"
     ], 
     "language": "python", 
     "outputs": [
      {
       "output_type": "pyout", 
       "prompt_number": 118, 
       "text": [
        "19"
       ]
      }
     ], 
     "prompt_number": 118
    }, 
    {
     "cell_type": "code", 
     "collapsed": false, 
     "input": [
      "def pos_ord_bin_iter(l,e):", 
      "    i=0", 
      "    j=len(l)-1", 
      "    while i<=j:", 
      "        med=(i+j)/2", 
      "        if l[med]>=e:", 
      "            j=med-1", 
      "        else:", 
      "            i=med+1", 
      "    return (i<len(l) and l[i]==e),i"
     ], 
     "language": "python", 
     "outputs": [], 
     "prompt_number": 119
    }, 
    {
     "cell_type": "code", 
     "collapsed": false, 
     "input": [
      "print pos_ord_bin_rec2(l,0,len(l)-1,36)", 
      "print pos_ord_bin_rec2(l,0,len(l)-1,200)"
     ], 
     "language": "python", 
     "outputs": [
      {
       "output_type": "stream", 
       "stream": "stdout", 
       "text": [
        "(True, 13)", 
        "(False, 19)"
       ]
      }
     ], 
     "prompt_number": 120
    }, 
    {
     "cell_type": "code", 
     "collapsed": true, 
     "input": [
      "def ordena_sel(l):", 
      "    #ordena la lista l", 
      "    def menor_el(l,j):", 
      "        #l lista, j<len(l)", 
      "        #devuelve el \u00edndice del menor elemento de l desde j hasta el final", 
      "        menor=l[j]", 
      "        ind=j", 
      "        for k in range(j+1,len(l)):", 
      "            if l[k]<menor:", 
      "                menor=l[k]", 
      "                ind=k", 
      "        return ind", 
      "    for i in range(len(l)-1):", 
      "        k=menor_el(l,i)", 
      "        l[i],l[k]=l[k],l[i]", 
      "        ", 
      "        ", 
      "                "
     ], 
     "language": "python", 
     "outputs": [], 
     "prompt_number": 121
    }, 
    {
     "cell_type": "code", 
     "collapsed": true, 
     "input": [
      "l=[3,2,1,45,10,45,123]", 
      "ordena_sel(l)"
     ], 
     "language": "python", 
     "outputs": [], 
     "prompt_number": 122
    }, 
    {
     "cell_type": "code", 
     "collapsed": false, 
     "input": [
      "l"
     ], 
     "language": "python", 
     "outputs": [
      {
       "output_type": "pyout", 
       "prompt_number": 123, 
       "text": [
        "[1, 2, 3, 10, 45, 45, 123]"
       ]
      }
     ], 
     "prompt_number": 123
    }, 
    {
     "cell_type": "code", 
     "collapsed": true, 
     "input": [
      "def ordena_inser(l):", 
      "    def pos_bin(l,inic,fin,e):", 
      "        i=inic", 
      "        j=fin", 
      "        while i<=j:", 
      "            med=(i+j)/2", 
      "            if l[med]>=e:", 
      "                j=med-1", 
      "            else:", 
      "                i=med+1", 
      "        return i", 
      "        ", 
      "    for i in range(1,len(l)):", 
      "        j=pos_bin(l,0,i-1,l[i])", 
      "        el=l[i]", 
      "        for k in range(i,j,-1):", 
      "            l[k]=l[k-1]", 
      "        l[j]=el", 
      "        "
     ], 
     "language": "python", 
     "outputs": [], 
     "prompt_number": 124
    }, 
    {
     "cell_type": "code", 
     "collapsed": false, 
     "input": [
      "l=[3,2,1,45,10,45,123]", 
      "ordena_inser(l)"
     ], 
     "language": "python", 
     "outputs": [], 
     "prompt_number": 125
    }, 
    {
     "cell_type": "code", 
     "collapsed": false, 
     "input": [
      "l"
     ], 
     "language": "python", 
     "outputs": [
      {
       "output_type": "pyout", 
       "prompt_number": 126, 
       "text": [
        "[1, 2, 3, 10, 45, 45, 123]"
       ]
      }
     ], 
     "prompt_number": 126
    }, 
    {
     "cell_type": "code", 
     "collapsed": true, 
     "input": [
      "def ord_burbuja(l):", 
      "    for k in range(len(l)-1):", 
      "        for i in range(len(l)-k-1):", 
      "            if l[i+1]<l[i]:", 
      "                l[i],l[i+1]=l[i+1],l[i]", 
      "            ", 
      "        "
     ], 
     "language": "python", 
     "outputs": [], 
     "prompt_number": 127
    }, 
    {
     "cell_type": "code", 
     "collapsed": false, 
     "input": [
      "l=[3,2,1,45,10,45,123]", 
      "ord_burbuja(l)"
     ], 
     "language": "python", 
     "outputs": [], 
     "prompt_number": 128
    }, 
    {
     "cell_type": "code", 
     "collapsed": false, 
     "input": [], 
     "language": "python", 
     "outputs": [
      {
       "output_type": "pyout", 
       "prompt_number": 101, 
       "text": [
        "[1, 2, 3, 10, 45, 45, 123]"
       ]
      }
     ], 
     "prompt_number": 101
    }, 
    {
     "cell_type": "code", 
     "collapsed": true, 
     "input": [], 
     "language": "python", 
     "outputs": []
    }
   ]
  }
 ]
}