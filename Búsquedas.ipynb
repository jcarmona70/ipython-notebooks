{
 "metadata": {
  "name": ""
 },
 "nbformat": 3,
 "nbformat_minor": 0,
 "worksheets": [
  {
   "cells": [
    {
     "cell_type": "markdown",
     "metadata": {},
     "source": [
      "Buscar si un elemento est\u00e1 en una lista no es dif\u00edcil:"
     ]
    },
    {
     "cell_type": "code",
     "collapsed": true,
     "input": [
      "def esta(l,e):\n",
      "    #l es una lista, e un elemento\n",
      "    #devuelve true si e est\u00e1 en la lista\n",
      "    result=False #Hasta que no lo vemos no est\u00e1\n",
      "    for x in l:\n",
      "        if x==e:\n",
      "            result=True\n",
      "    return result"
     ],
     "language": "python",
     "metadata": {},
     "outputs": [],
     "prompt_number": 2
    },
    {
     "cell_type": "code",
     "collapsed": false,
     "input": [
      "print esta([2,3,4],5)\n",
      "print esta([3,2,6,7],10)"
     ],
     "language": "python",
     "metadata": {},
     "outputs": [
      {
       "output_type": "stream",
       "stream": "stdout",
       "text": [
        "False\n",
        "False\n"
       ]
      }
     ],
     "prompt_number": 3
    },
    {
     "cell_type": "markdown",
     "metadata": {},
     "source": [
      "Aunque la versi\u00f3n anterior es mejorable, si ya lo hemos encontrado no hace falta seguir. \n",
      "Se impone usar un bucle `while` "
     ]
    },
    {
     "cell_type": "code",
     "collapsed": true,
     "input": [
      "def esta(l,e):\n",
      "    #l es una lista, e un elemento\n",
      "    #devuelve true si e est\u00e1 en la lista\n",
      "    result=False #Hasta que no lo vemos no est\u00e1\n",
      "    i=0\n",
      "    while i<len(l) and not result:\n",
      "        if l[i]==e:\n",
      "            result=True\n",
      "        i=i+1\n",
      "    return result"
     ],
     "language": "python",
     "metadata": {},
     "outputs": [],
     "prompt_number": 4
    },
    {
     "cell_type": "markdown",
     "metadata": {},
     "source": [
      "Y podemos aprovechar para devolver tambi\u00e9n la posici\u00f3n del elemento"
     ]
    },
    {
     "cell_type": "code",
     "collapsed": true,
     "input": [
      "def esta(l,e):\n",
      "    #l es una lista, e un elemento\n",
      "    #devuelve true y la posici\u00f3n del elemento si e est\u00e1 en la lista.\n",
      "    #y False si no esta.\n",
      "    result=False #Hasta que no lo vemos no est\u00e1\n",
      "    i=0\n",
      "    while i<len(l) and not result:\n",
      "        if l[i]==e:\n",
      "            result=True\n",
      "        i=i+1\n",
      "    return result,i-1"
     ],
     "language": "python",
     "metadata": {},
     "outputs": [],
     "prompt_number": 5
    },
    {
     "cell_type": "code",
     "collapsed": false,
     "input": [
      "esta([2,1,45,12,11],12)"
     ],
     "language": "python",
     "metadata": {},
     "outputs": [
      {
       "metadata": {},
       "output_type": "pyout",
       "prompt_number": 6,
       "text": [
        "(True, 3)"
       ]
      }
     ],
     "prompt_number": 6
    },
    {
     "cell_type": "markdown",
     "metadata": {},
     "source": [
      "Si sabemos que la lista est\u00e1 ordenada, podemos hacer las cosas mejor"
     ]
    },
    {
     "cell_type": "code",
     "collapsed": true,
     "input": [
      "def esta_ord(l,e):\n",
      "    #l es una lista ordenada\n",
      "    #devuelve true y la posici\u00f3n del elemento si e est\u00e1 en la lista.\n",
      "    #y False y la posici\u00f3n que ocupar\u00eda el elemento si no esta.\n",
      "    i=0\n",
      "    while i<len(l) and l[i]<e:\n",
      "        i=i+1\n",
      "    return i<len(l) and l[i]==e,i"
     ],
     "language": "python",
     "metadata": {},
     "outputs": [],
     "prompt_number": 7
    },
    {
     "cell_type": "code",
     "collapsed": false,
     "input": [
      "esta_ord([2,3,7,9,10],12)"
     ],
     "language": "python",
     "metadata": {},
     "outputs": [
      {
       "metadata": {},
       "output_type": "pyout",
       "prompt_number": 8,
       "text": [
        "(False, 5)"
       ]
      }
     ],
     "prompt_number": 8
    },
    {
     "cell_type": "markdown",
     "metadata": {},
     "source": [
      "Aunque si la lista es grande y esta ordenada hay mejores formas de act\u00faar.\n",
      "Para ver si el `10` est\u00e1 en la lista `l=[2,3,5,7,8,9,11,13,15,23,30,31,33,36,40,100]`\n",
      "podemos act\u00faar as\u00ed:\n",
      "\n",
      "* el elemento central es `l[7]=13>10`\n",
      "* luego el `10` estar\u00eda entre las posiciones 0 a 6, es decir miraremos si el `10` est\u00e1 en \n",
      "`l1=l[0:7]=[2,3,5,7,8,9,11]`\n",
      "* el  elemento central de `l1` es `l1[3]=7<10`\n",
      "* luego el 10 estar\u00eda entre las posiciones 4 y 6 de l1, es decir miraremos si el `10` est\u00e1 en \n",
      "`l2=l1[4:7]=[8,9,11]`\n",
      "* el elemento central de `l2`es `l2[1]=9<10`\n",
      "* luego `10` estar\u00eda entre las posiciones 2 y 2 de `l2`, es decir miraremos si est\u00e1 en \n",
      "`l3=l2[2:3]=[11]` \n",
      "* el elemeto central de `l3` es `l3[0]=11>10` y la siguiente lesta a considerar es `l4=l3[0:0]=[]` \n",
      "y, como es obvio 10 no est\u00e1 en `l4`"
     ]
    },
    {
     "cell_type": "code",
     "collapsed": true,
     "input": [
      "def esta_ord_bin_rec(l,e):\n",
      "    if len(l)==0:\n",
      "        result =False\n",
      "    else:\n",
      "        med=len(l)/2\n",
      "        if l[med]==e:\n",
      "            result=True\n",
      "        elif l[med]>e:\n",
      "            result=esta_ord_bin_rec(l[:med],e)\n",
      "        else:\n",
      "            result=esta_ord_bin_rec(l[med+1:],e)\n",
      "    return result"
     ],
     "language": "python",
     "metadata": {},
     "outputs": [],
     "prompt_number": 9
    },
    {
     "cell_type": "code",
     "collapsed": false,
     "input": [
      "esta_ord_bin_rec([2,3,5,7,8,9,11,13,15,23,30,31,33,36,40,100],9)"
     ],
     "language": "python",
     "metadata": {},
     "outputs": [
      {
       "metadata": {},
       "output_type": "pyout",
       "prompt_number": 10,
       "text": [
        "True"
       ]
      }
     ],
     "prompt_number": 10
    },
    {
     "cell_type": "code",
     "collapsed": true,
     "input": [
      "def pos_ord_bin_rec(l,e):\n",
      "    if len(l)==0:\n",
      "        result =False\n",
      "        pos=0\n",
      "    else:\n",
      "        med=len(l)/2\n",
      "        if l[med]==e:\n",
      "            result=True\n",
      "            pos=med\n",
      "        elif l[med]>e:\n",
      "            result,pos=pos_ord_bin_rec(l[:med],e)\n",
      "        else:\n",
      "            result,pos=pos_ord_bin_rec(l[med+1:],e)\n",
      "            pos=pos+med+1\n",
      "    return result,pos"
     ],
     "language": "python",
     "metadata": {},
     "outputs": [],
     "prompt_number": 11
    },
    {
     "cell_type": "code",
     "collapsed": false,
     "input": [
      "pos_ord_bin_rec([2,3,5,7,8,9,11,13,15,23,30,31,33,36,40,100],36)"
     ],
     "language": "python",
     "metadata": {},
     "outputs": [
      {
       "metadata": {},
       "output_type": "pyout",
       "prompt_number": 12,
       "text": [
        "(True, 13)"
       ]
      }
     ],
     "prompt_number": 12
    },
    {
     "cell_type": "markdown",
     "metadata": {},
     "source": [
      "No controlamos si nos devuelve la primera,segunda ... aparici\u00f3n del elemento en la lista "
     ]
    },
    {
     "cell_type": "code",
     "collapsed": false,
     "input": [
      "pos_ord_bin_rec([2,3,5,7,8,9,11,13,15,23,30,31,33,36,36,36,36,40,100],36)"
     ],
     "language": "python",
     "metadata": {},
     "outputs": [
      {
       "metadata": {},
       "output_type": "pyout",
       "prompt_number": 13,
       "text": [
        "(True, 14)"
       ]
      }
     ],
     "prompt_number": 13
    },
    {
     "cell_type": "code",
     "collapsed": true,
     "input": [
      "def pos_ord_bin_rec1(l,e):\n",
      "    if len(l)==0:\n",
      "        result =False\n",
      "        pos=0\n",
      "    else:\n",
      "        med=len(l)/2\n",
      "        if l[med]>=e:\n",
      "            result,pos=pos_ord_bin_rec1(l[:med],e)\n",
      "            result=(l[med]==e)\n",
      "        else:\n",
      "            result,pos=pos_ord_bin_rec1(l[med+1:],e)\n",
      "            pos=pos+med+1\n",
      "    return result,pos"
     ],
     "language": "python",
     "metadata": {},
     "outputs": [],
     "prompt_number": 14
    },
    {
     "cell_type": "code",
     "collapsed": false,
     "input": [
      "pos_ord_bin_rec1([2,3,5,7,8,9,11,13,15,23,30,31,33,36,36,36,36,40,100],36)"
     ],
     "language": "python",
     "metadata": {},
     "outputs": [
      {
       "metadata": {},
       "output_type": "pyout",
       "prompt_number": 15,
       "text": [
        "(True, 13)"
       ]
      }
     ],
     "prompt_number": 15
    },
    {
     "cell_type": "code",
     "collapsed": true,
     "input": [
      "def pos_ord_bin_rec2(l,i,j,e):\n",
      "    if i>j:\n",
      "        pos=i\n",
      "        result=False\n",
      "    else:\n",
      "        med=(i+j)/2\n",
      "        if l[med]>=e:\n",
      "            result,pos=pos_ord_bin_rec2(l,i,med-1,e)\n",
      "            result=(l[med]==e)\n",
      "        else:\n",
      "            result,pos=pos_ord_bin_rec2(l,med+1,j,e)\n",
      "    return result,pos\n",
      "            \n",
      "            "
     ],
     "language": "python",
     "metadata": {},
     "outputs": [],
     "prompt_number": 16
    },
    {
     "cell_type": "code",
     "collapsed": false,
     "input": [
      "l=[2,3,5,7,8,9,11,13,15,23,30,31,33,36,36,36,36,40,100]\n",
      "print pos_ord_bin_rec2(l,0,len(l)-1,36)\n",
      "print pos_ord_bin_rec2(l,0,len(l)-1,200)"
     ],
     "language": "python",
     "metadata": {},
     "outputs": [
      {
       "output_type": "stream",
       "stream": "stdout",
       "text": [
        "(True, 13)\n",
        "(False, 19)\n"
       ]
      }
     ],
     "prompt_number": 17
    },
    {
     "cell_type": "code",
     "collapsed": false,
     "input": [
      "len(l)"
     ],
     "language": "python",
     "metadata": {},
     "outputs": [
      {
       "metadata": {},
       "output_type": "pyout",
       "prompt_number": 18,
       "text": [
        "19"
       ]
      }
     ],
     "prompt_number": 18
    },
    {
     "cell_type": "code",
     "collapsed": false,
     "input": [
      "def pos_ord_bin_iter(l,e):\n",
      "    i=0\n",
      "    j=len(l)-1\n",
      "    while i<=j:\n",
      "        med=(i+j)/2\n",
      "        if l[med]>=e:\n",
      "            j=med-1\n",
      "        else:\n",
      "            i=med+1\n",
      "    return (i<len(l) and l[i]==e),i"
     ],
     "language": "python",
     "metadata": {},
     "outputs": [],
     "prompt_number": 19
    },
    {
     "cell_type": "code",
     "collapsed": false,
     "input": [
      "print pos_ord_bin_rec2(l,0,len(l)-1,36)\n",
      "print pos_ord_bin_rec2(l,0,len(l)-1,200)"
     ],
     "language": "python",
     "metadata": {},
     "outputs": [
      {
       "output_type": "stream",
       "stream": "stdout",
       "text": [
        "(True, 13)\n",
        "(False, 19)\n"
       ]
      }
     ],
     "prompt_number": 20
    },
    {
     "cell_type": "code",
     "collapsed": true,
     "input": [
      "def ordena_sel(l):\n",
      "    #ordena la lista l\n",
      "    def menor_el(l,j):\n",
      "        #l lista, j<len(l)\n",
      "        #devuelve el \u00edndice del menor elemento de l desde j hasta el final\n",
      "        menor=l[j]\n",
      "        ind=j\n",
      "        for k in range(j+1,len(l)):\n",
      "            if l[k]<menor:\n",
      "                menor=l[k]\n",
      "                ind=k\n",
      "        return ind\n",
      "    for i in range(len(l)-1):\n",
      "        k=menor_el(l,i)\n",
      "        l[i],l[k]=l[k],l[i]\n",
      "        \n",
      "        \n",
      "                "
     ],
     "language": "python",
     "metadata": {},
     "outputs": [],
     "prompt_number": 21
    },
    {
     "cell_type": "code",
     "collapsed": true,
     "input": [
      "l=[3,2,1,45,10,45,123]\n",
      "ordena_sel(l)"
     ],
     "language": "python",
     "metadata": {},
     "outputs": [],
     "prompt_number": 22
    },
    {
     "cell_type": "code",
     "collapsed": false,
     "input": [
      "l"
     ],
     "language": "python",
     "metadata": {},
     "outputs": [
      {
       "metadata": {},
       "output_type": "pyout",
       "prompt_number": 23,
       "text": [
        "[1, 2, 3, 10, 45, 45, 123]"
       ]
      }
     ],
     "prompt_number": 23
    },
    {
     "cell_type": "code",
     "collapsed": true,
     "input": [
      "def ordena_inser(l):\n",
      "    def pos_bin(l,inic,fin,e):\n",
      "        i=inic\n",
      "        j=fin\n",
      "        while i<=j:\n",
      "            med=(i+j)/2\n",
      "            if l[med]>=e:\n",
      "                j=med-1\n",
      "            else:\n",
      "                i=med+1\n",
      "        return i\n",
      "        \n",
      "    for i in range(1,len(l)):\n",
      "        j=pos_bin(l,0,i-1,l[i])\n",
      "        el=l[i]\n",
      "        for k in range(i,j,-1):\n",
      "            l[k]=l[k-1]\n",
      "        l[j]=el\n",
      "        "
     ],
     "language": "python",
     "metadata": {},
     "outputs": [],
     "prompt_number": 24
    },
    {
     "cell_type": "code",
     "collapsed": false,
     "input": [
      "l=[3,2,1,45,10,45,123]\n",
      "ordena_inser(l)"
     ],
     "language": "python",
     "metadata": {},
     "outputs": [],
     "prompt_number": 25
    },
    {
     "cell_type": "code",
     "collapsed": false,
     "input": [
      "l"
     ],
     "language": "python",
     "metadata": {},
     "outputs": [
      {
       "metadata": {},
       "output_type": "pyout",
       "prompt_number": 26,
       "text": [
        "[1, 2, 3, 10, 45, 45, 123]"
       ]
      }
     ],
     "prompt_number": 26
    },
    {
     "cell_type": "code",
     "collapsed": true,
     "input": [
      "def ord_burbuja(l):\n",
      "    for k in range(len(l)-1):\n",
      "        for i in range(len(l)-k-1):\n",
      "            if l[i+1]<l[i]:\n",
      "                l[i],l[i+1]=l[i+1],l[i]\n",
      "            \n",
      "        "
     ],
     "language": "python",
     "metadata": {},
     "outputs": [],
     "prompt_number": 27
    },
    {
     "cell_type": "code",
     "collapsed": false,
     "input": [
      "l=[3,2,1,45,10,45,123]\n",
      "ord_burbuja(l)"
     ],
     "language": "python",
     "metadata": {},
     "outputs": [],
     "prompt_number": 28
    },
    {
     "cell_type": "code",
     "collapsed": false,
     "input": [],
     "language": "python",
     "metadata": {},
     "outputs": [],
     "prompt_number": 28
    },
    {
     "cell_type": "code",
     "collapsed": true,
     "input": [],
     "language": "python",
     "metadata": {},
     "outputs": [],
     "prompt_number": 28
    }
   ],
   "metadata": {}
  }
 ]
}