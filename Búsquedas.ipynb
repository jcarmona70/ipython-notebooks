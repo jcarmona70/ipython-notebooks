{
 "metadata": {
  "name": "B\u00fasquedas"
 }, 
 "nbformat": 2, 
 "worksheets": [
  {
   "cells": [
    {
     "cell_type": "markdown", 
     "source": [
      "Buscar si un elemento est\u00e1 en una lista no es dif\u00edcil:"
     ]
    }, 
    {
     "cell_type": "code", 
     "collapsed": true, 
     "input": [
      "def esta(l,e):", 
      "    #l es una lista, e un elemento", 
      "    #devuelve true si e est\u00e1 en la lista", 
      "    result=False #Hasta que no lo vemos no est\u00e1", 
      "    for x in l:", 
      "        if x==e:", 
      "            result=True", 
      "    return result"
     ], 
     "language": "python", 
     "outputs": [], 
     "prompt_number": 102
    }, 
    {
     "cell_type": "code", 
     "collapsed": false, 
     "input": [
      "print esta([2,3,4],5)", 
      "print esta([3,2,6,7],10)"
     ], 
     "language": "python", 
     "outputs": [
      {
       "output_type": "stream", 
       "stream": "stdout", 
       "text": [
        "False", 
        "False"
       ]
      }
     ], 
     "prompt_number": 103
    }, 
    {
     "cell_type": "markdown", 
     "source": [
      "Aunque la versi\u00f3n anterior es mejorable, si ya lo hemos encontrado no hace falta seguir. ", 
      "Se impone usar un bucle `while` "
     ]
    }, 
    {
     "cell_type": "code", 
     "collapsed": true, 
     "input": [
      "def esta(l,e):", 
      "    #l es una lista, e un elemento", 
      "    #devuelve true si e est\u00e1 en la lista", 
      "    result=False #Hasta que no lo vemos no est\u00e1", 
      "    i=0", 
      "    while i<len(l) and not result:", 
      "        if l[i]==e:", 
      "            result=True", 
      "        i=i+1", 
      "    return result"
     ], 
     "language": "python", 
     "outputs": [], 
     "prompt_number": 104
    }, 
    {
     "cell_type": "markdown", 
     "source": [
      "Y podemos aprovechar para devolver tambi\u00e9n la posici\u00f3n del elemento"
     ]
    }, 
    {
     "cell_type": "code", 
     "collapsed": true, 
     "input": [
      "def esta(l,e):", 
      "    #l es una lista, e un elemento", 
      "    #devuelve true y la posici\u00f3n del elemento si e est\u00e1 en la lista.", 
      "    #y False si no esta.", 
      "    result=False #Hasta que no lo vemos no est\u00e1", 
      "    i=0", 
      "    while i<len(l) and not result:", 
      "        if l[i]==e:", 
      "            result=True", 
      "        i=i+1", 
      "    return result,i-1"
     ], 
     "language": "python", 
     "outputs": [], 
     "prompt_number": 105
    }, 
    {
     "cell_type": "code", 
     "collapsed": false, 
     "input": [
      "esta([2,1,45,12,11],12)"
     ], 
     "language": "python", 
     "outputs": [
      {
       "output_type": "pyout", 
       "prompt_number": 106, 
       "text": [
        "(True, 3)"
       ]
      }
     ], 
     "prompt_number": 106
    }, 
    {
     "cell_type": "markdown", 
     "source": [
      "Si sabemos que la lista est\u00e1 ordenada, podemos hacer las cosas mejor"
     ]
    }, 
    {
     "cell_type": "code", 
     "collapsed": true, 
     "input": [
      "def esta_ord(l,e):", 
      "    #l es una lista ordenada", 
      "    #devuelve true y la posici\u00f3n del elemento si e est\u00e1 en la lista.", 
      "    #y False y la posici\u00f3n que ocupar\u00eda el elemento si no esta.", 
      "    i=0", 
      "    while i<len(l) and l[i]<e:", 
      "        i=i+1", 
      "    return i<len(l) and l[i]==e,i"
     ], 
     "language": "python", 
     "outputs": [], 
     "prompt_number": 107
    }, 
    {
     "cell_type": "code", 
     "collapsed": false, 
     "input": [
      "esta_ord([2,3,7,9,10],12)"
     ], 
     "language": "python", 
     "outputs": [
      {
       "output_type": "pyout", 
       "prompt_number": 108, 
       "text": [
        "(False, 5)"
       ]
      }
     ], 
     "prompt_number": 108
    }, 
    {
     "cell_type": "markdown", 
     "source": [
      "Aunque si la lista es grande y esta ordenada hay mejores formas de act\u00faar.", 
      "Para ver si el `10` est\u00e1 en la lista `l=[2,3,5,7,8,9,11,13,15,23,30,31,33,36,40,100]`", 
      "podemos act\u00faar as\u00ed:", 
      "", 
      "* el elemento central es `l[7]=13>10`", 
      "* luego el `10` estar\u00eda entre las posiciones 0 a 6, es decir miraremos si el `10` est\u00e1 en ", 
      "`l1=l[0:7]=[2,3,5,7,8,9,11]`", 
      "* el  elemento central de `l1` es `l1[3]=7<10`", 
      "* luego el 10 estar\u00eda entre las posiciones 4 y 6 de l1, es decir miraremos si el `10` est\u00e1 en ", 
      "`l2=l1[4:7]=[8,9,11]`", 
      "* el elemento central de `l2`es `l2[1]=9<10`", 
      "* luego `10` estar\u00eda entre las posiciones 2 y 2 de `l2`, es decir miraremos si est\u00e1 en ", 
      "`l3=l2[2:3]=[11]` ", 
      "* el elemeto central de `l3` es `l3[0]=11>10` y la siguiente lesta a considerar es `l4=l3[0:0]=[]` ", 
      "y, como es obvio 10 no est\u00e1 en `l4`"
     ]
    }, 
    {
     "cell_type": "code", 
     "collapsed": true, 
     "input": [
      "def esta_ord_bin_rec(l,e):", 
      "    if len(l)==0:", 
      "        result =False", 
      "    else:", 
      "        med=len(l)/2", 
      "        if l[med]==e:", 
      "            result=True", 
      "        elif l[med]>e:", 
      "            result=esta_ord_bin_rec(l[:med],e)", 
      "        else:", 
      "            result=esta_ord_bin_rec(l[med+1:],e)", 
      "    return result"
     ], 
     "language": "python", 
     "outputs": [], 
     "prompt_number": 109
    }, 
    {
     "cell_type": "code", 
     "collapsed": false, 
     "input": [
      "esta_ord_bin_rec([2,3,5,7,8,9,11,13,15,23,30,31,33,36,40,100],9)"
     ], 
     "language": "python", 
     "outputs": [
      {
       "output_type": "pyout", 
       "prompt_number": 110, 
       "text": [
        "True"
       ]
      }
     ], 
     "prompt_number": 110
    }, 
    {
     "cell_type": "code", 
     "collapsed": true, 
     "input": [
      "def pos_ord_bin_rec(l,e):", 
      "    if len(l)==0:", 
      "        result =False", 
      "        pos=0", 
      "    else:", 
      "        med=len(l)/2", 
      "        if l[med]==e:", 
      "            result=True", 
      "            pos=med", 
      "        elif l[med]>e:", 
      "            result,pos=pos_ord_bin_rec(l[:med],e)", 
      "        else:", 
      "            result,pos=pos_ord_bin_rec(l[med+1:],e)", 
      "            pos=pos+med+1", 
      "    return result,pos"
     ], 
     "language": "python", 
     "outputs": [], 
     "prompt_number": 111
    }, 
    {
     "cell_type": "code", 
     "collapsed": false, 
     "input": [
      "pos_ord_bin_rec([2,3,5,7,8,9,11,13,15,23,30,31,33,36,40,100],36)"
     ], 
     "language": "python", 
     "outputs": [
      {
       "output_type": "pyout", 
       "prompt_number": 112, 
       "text": [
        "(True, 13)"
       ]
      }
     ], 
     "prompt_number": 112
    }, 
    {
     "cell_type": "markdown", 
     "source": [
      "No controlamos si nos devuelve la primera,segunda ... aparici\u00f3n del elemento en la lista "
     ]
    }, 
    {
     "cell_type": "code", 
     "collapsed": false, 
     "input": [
      "pos_ord_bin_rec([2,3,5,7,8,9,11,13,15,23,30,31,33,36,36,36,36,40,100],36)"
     ], 
     "language": "python", 
     "outputs": [
      {
       "output_type": "pyout", 
       "prompt_number": 113, 
       "text": [
        "(True, 14)"
       ]
      }
     ], 
     "prompt_number": 113
    }, 
    {
     "cell_type": "code", 
     "collapsed": true, 
     "input": [
      "def pos_ord_bin_rec1(l,e):", 
      "    if len(l)==0:", 
      "        result =False", 
      "        pos=0", 
      "    else:", 
      "        med=len(l)/2", 
      "        if l[med]>=e:", 
      "            result,pos=pos_ord_bin_rec1(l[:med],e)", 
      "            result=(l[med]==e or result)", 
      "        else:", 
      "            result,pos=pos_ord_bin_rec1(l[med+1:],e)", 
      "            pos=pos+med+1", 
      "    return result,pos"
     ], 
     "language": "python", 
     "outputs": [], 
     "prompt_number": 114
    }, 
    {
     "cell_type": "code", 
     "collapsed": false, 
     "input": [
      "pos_ord_bin_rec1([2,3,5,7,8,9,11,13,15,23,30,31,33,36,36,36,36,40,100],36)"
     ], 
     "language": "python", 
     "outputs": [
      {
       "output_type": "pyout", 
       "prompt_number": 115, 
       "text": [
        "(True, 13)"
       ]
      }
     ], 
     "prompt_number": 115
    }, 
    {
     "cell_type": "code", 
     "collapsed": true, 
     "input": [
      "def pos_ord_bin_rec2(l,i,j,e):", 
      "    if i>j:", 
      "        pos=i", 
      "        result=False", 
      "    else:", 
      "        med=(i+j)/2", 
      "        if l[med]>=e:", 
      "            result,pos=pos_ord_bin_rec2(l,i,med-1,e)", 
      "            result=(l[med]==e or result)", 
      "        else:", 
      "            result,pos=pos_ord_bin_rec2(l,med+1,j,e)", 
      "    return result,pos", 
      "            ", 
      "            "
     ], 
     "language": "python", 
     "outputs": [], 
     "prompt_number": 116
    }, 
    {
     "cell_type": "code", 
     "collapsed": false, 
     "input": [
      "l=[2,3,5,7,8,9,11,13,15,23,30,31,33,36,36,36,36,40,100]", 
      "print pos_ord_bin_rec2(l,0,len(l)-1,36)", 
      "print pos_ord_bin_rec2(l,0,len(l)-1,200)"
     ], 
     "language": "python", 
     "outputs": [
      {
       "output_type": "stream", 
       "stream": "stdout", 
       "text": [
        "(True, 13)", 
        "(False, 19)"
       ]
      }
     ], 
     "prompt_number": 117
    }, 
    {
     "cell_type": "code", 
     "collapsed": false, 
     "input": [
      "len(l)"
     ], 
     "language": "python", 
     "outputs": [
      {
       "output_type": "pyout", 
       "prompt_number": 118, 
       "text": [
        "19"
       ]
      }
     ], 
     "prompt_number": 118
    }, 
    {
     "cell_type": "code", 
     "collapsed": true, 
     "input": [
      "def pos_ord_bin_iter(l,e):", 
      "    i=0", 
      "    j=len(l)-1", 
      "    while i<=j:", 
      "        med=(i+j)/2", 
      "        if l[med]>=e:", 
      "            j=med-1", 
      "        else:", 
      "            i=med+1", 
      "    return (i<len(l) and l[i]==e),i"
     ], 
     "language": "python", 
     "outputs": [], 
     "prompt_number": 119
    }, 
    {
     "cell_type": "code", 
     "collapsed": false, 
     "input": [
      "print pos_ord_bin_rec2(l,0,len(l)-1,36)", 
      "print pos_ord_bin_rec2(l,0,len(l)-1,200)"
     ], 
     "language": "python", 
     "outputs": [
      {
       "output_type": "stream", 
       "stream": "stdout", 
       "text": [
        "(True, 13)", 
        "(False, 19)"
       ]
      }
     ], 
     "prompt_number": 120
    }, 
    {
     "cell_type": "code", 
     "collapsed": true, 
     "input": [
      "def ordena_sel(l):", 
      "    #ordena la lista l", 
      "    def menor_el(l,j):", 
      "        #l lista, j<len(l)", 
      "        #devuelve el \u00edndice del menor elemento de l desde j hasta el final", 
      "        menor=l[j]", 
      "        ind=j", 
      "        for k in range(j+1,len(l)):", 
      "            if l[k]<menor:", 
      "                menor=l[k]", 
      "                ind=k", 
      "        return ind", 
      "    for i in range(len(l)-1):", 
      "        k=menor_el(l,i)", 
      "        l[i],l[k]=l[k],l[i]", 
      "        ", 
      "        ", 
      "                "
     ], 
     "language": "python", 
     "outputs": [], 
     "prompt_number": 17
    }, 
    {
     "cell_type": "code", 
     "collapsed": true, 
     "input": [
      "l=[3,2,1,45,10,45,123]", 
      "ordena_sel(l)"
     ], 
     "language": "python", 
     "outputs": [], 
     "prompt_number": 122
    }, 
    {
     "cell_type": "code", 
     "collapsed": false, 
     "input": [
      "l"
     ], 
     "language": "python", 
     "outputs": [
      {
       "output_type": "pyout", 
       "prompt_number": 123, 
       "text": [
        "[1, 2, 3, 10, 45, 45, 123]"
       ]
      }
     ], 
     "prompt_number": 123
    }, 
    {
     "cell_type": "code", 
     "collapsed": true, 
     "input": [
      "def ordena_inser(l):", 
      "    def pos_bin(l,inic,fin,e):", 
      "        i=inic", 
      "        j=fin", 
      "        while i<=j:", 
      "            med=(i+j)/2", 
      "            if l[med]>=e:", 
      "                j=med-1", 
      "            else:", 
      "                i=med+1", 
      "        return i", 
      "        ", 
      "    for i in range(1,len(l)):", 
      "        j=pos_bin(l,0,i-1,l[i])", 
      "        el=l[i]", 
      "        for k in range(i,j,-1):", 
      "            l[k]=l[k-1]", 
      "        l[j]=el", 
      "        "
     ], 
     "language": "python", 
     "outputs": [], 
     "prompt_number": 18
    }, 
    {
     "cell_type": "code", 
     "collapsed": true, 
     "input": [
      "l=[3,2,1,45,10,45,123]", 
      "ordena_inser(l)"
     ], 
     "language": "python", 
     "outputs": [], 
     "prompt_number": 125
    }, 
    {
     "cell_type": "code", 
     "collapsed": false, 
     "input": [
      "l"
     ], 
     "language": "python", 
     "outputs": [
      {
       "output_type": "pyout", 
       "prompt_number": 126, 
       "text": [
        "[1, 2, 3, 10, 45, 45, 123]"
       ]
      }
     ], 
     "prompt_number": 126
    }, 
    {
     "cell_type": "code", 
     "collapsed": true, 
     "input": [
      "def ord_burbuja(l):", 
      "    cambiado=True", 
      "    k=0", 
      "    while k<len(l) and cambiado:", 
      "        cambiado=False", 
      "        for i in range(len(l)-k-1):", 
      "            if l[i+1]<l[i]:", 
      "                l[i],l[i+1]=l[i+1],l[i]", 
      "                cambiado=True", 
      "            ", 
      "        "
     ], 
     "language": "python", 
     "outputs": [], 
     "prompt_number": 19
    }, 
    {
     "cell_type": "code", 
     "collapsed": true, 
     "input": [
      "l=[3,2,1,45,10,45,123]", 
      "ord_burbuja(l)"
     ], 
     "language": "python", 
     "outputs": [], 
     "prompt_number": 7
    }, 
    {
     "cell_type": "code", 
     "collapsed": false, 
     "input": [
      "l"
     ], 
     "language": "python", 
     "outputs": [
      {
       "output_type": "pyout", 
       "prompt_number": 8, 
       "text": [
        "[1, 2, 3, 10, 45, 45, 123]"
       ]
      }
     ], 
     "prompt_number": 8
    }, 
    {
     "cell_type": "code", 
     "collapsed": true, 
     "input": [
      "def mezcla(l,i,j,med):", 
      "    #l ordenada en i...med-1 y med...j", 
      "    #ordena l entre i..j", 
      "    aux=[]", 
      "    in1=i", 
      "    in2=med", 
      "    while in1<=med-1 and in2<=j:", 
      "        if l[in1]<l[in2]:", 
      "            aux.append(l[in1])", 
      "            in1=in1+1", 
      "        else:", 
      "            aux.append(l[in2])", 
      "            in2=in2+1", 
      "    for k in range(in1,med):", 
      "        aux.append(l[k])", 
      "    for k in range(in2,j+1):", 
      "        aux.append(l[k])", 
      "    for k in range(len(aux)):", 
      "        l[i+k]=aux[k]"
     ], 
     "language": "python", 
     "outputs": [], 
     "prompt_number": 20
    }, 
    {
     "cell_type": "code", 
     "collapsed": true, 
     "input": [
      "l=[1,5,8,10,4,7,9,11,12]", 
      "mezcla(l,0,8,4)"
     ], 
     "language": "python", 
     "outputs": [], 
     "prompt_number": 17
    }, 
    {
     "cell_type": "code", 
     "collapsed": false, 
     "input": [
      "l"
     ], 
     "language": "python", 
     "outputs": [
      {
       "output_type": "pyout", 
       "prompt_number": 18, 
       "text": [
        "[1, 4, 5, 7, 8, 9, 10, 11, 12]"
       ]
      }
     ], 
     "prompt_number": 18
    }, 
    {
     "cell_type": "code", 
     "collapsed": true, 
     "input": [
      "def ordena_mezcla(l,i,j):", 
      "    if j>i:", 
      "        medio=(i+j)/2+1", 
      "        ordena_mezcla(l,i,medio-1)", 
      "        ordena_mezcla(l,medio,j)", 
      "        mezcla(l,i,j,medio)"
     ], 
     "language": "python", 
     "outputs": [], 
     "prompt_number": 21
    }, 
    {
     "cell_type": "code", 
     "collapsed": true, 
     "input": [
      "l=[8,5,2,10,1,3]", 
      "ordena_mezcla(l,0,len(l)-1)"
     ], 
     "language": "python", 
     "outputs": [], 
     "prompt_number": 26
    }, 
    {
     "cell_type": "code", 
     "collapsed": false, 
     "input": [
      "l"
     ], 
     "language": "python", 
     "outputs": [
      {
       "output_type": "pyout", 
       "prompt_number": 27, 
       "text": [
        "[1, 2, 3, 5, 8, 10]"
       ]
      }
     ], 
     "prompt_number": 27
    }, 
    {
     "cell_type": "code", 
     "collapsed": false, 
     "input": [
      "def pivotar(l,i,j):", 
      "    #recoloca los elementos de l entre i..j", 
      "    #coloca l[i] en la posicion p ", 
      "    #los menores que l[i] van en las posiciones i..p-1, y los mayores entre p+1..j", 
      "    e=l[i]", 
      "    p=i", 
      "    b=j", 
      "    while b>p:", 
      "        if l[p+1]>e:", 
      "            l[p+1],l[b]=l[b],l[p+1]", 
      "            b=b-1", 
      "        elif l[p+1]<e:", 
      "             l[p],l[p+1]=l[p+1],l[p]", 
      "             p=p+1", 
      "        else:", 
      "            p=p+1", 
      "    return p"
     ], 
     "language": "python", 
     "outputs": [], 
     "prompt_number": 22
    }, 
    {
     "cell_type": "code", 
     "collapsed": false, 
     "input": [
      "l=[7,2,8,9,1,1,7]", 
      "pivotar(l,0,len(l)-1)"
     ], 
     "language": "python", 
     "outputs": [
      {
       "output_type": "pyout", 
       "prompt_number": 3, 
       "text": [
        "4"
       ]
      }
     ], 
     "prompt_number": 3
    }, 
    {
     "cell_type": "code", 
     "collapsed": false, 
     "input": [
      "l"
     ], 
     "language": "python", 
     "outputs": [
      {
       "output_type": "pyout", 
       "prompt_number": 4, 
       "text": [
        "[2, 7, 1, 1, 7, 9, 8]"
       ]
      }
     ], 
     "prompt_number": 4
    }, 
    {
     "cell_type": "code", 
     "collapsed": false, 
     "input": [
      "pivotar(l,0,3)"
     ], 
     "language": "python", 
     "outputs": [
      {
       "output_type": "pyout", 
       "prompt_number": 5, 
       "text": [
        "2"
       ]
      }
     ], 
     "prompt_number": 5
    }, 
    {
     "cell_type": "code", 
     "collapsed": false, 
     "input": [
      "l"
     ], 
     "language": "python", 
     "outputs": [
      {
       "output_type": "pyout", 
       "prompt_number": 6, 
       "text": [
        "[1, 1, 2, 7, 7, 9, 8]"
       ]
      }
     ], 
     "prompt_number": 6
    }, 
    {
     "cell_type": "code", 
     "collapsed": false, 
     "input": [
      "pivotar(l,5,len(l)-1)"
     ], 
     "language": "python", 
     "outputs": [
      {
       "output_type": "pyout", 
       "prompt_number": 7, 
       "text": [
        "6"
       ]
      }
     ], 
     "prompt_number": 7
    }, 
    {
     "cell_type": "code", 
     "collapsed": false, 
     "input": [
      "l"
     ], 
     "language": "python", 
     "outputs": [
      {
       "output_type": "pyout", 
       "prompt_number": 8, 
       "text": [
        "[1, 1, 2, 7, 7, 8, 9]"
       ]
      }
     ], 
     "prompt_number": 8
    }, 
    {
     "cell_type": "code", 
     "collapsed": true, 
     "input": [
      "def quicksort(l,i,j):", 
      "    if i<j:", 
      "        p=pivotar(l,i,j)", 
      "        quicksort(l,i,p-1)", 
      "        quicksort(l,p+1,j)"
     ], 
     "language": "python", 
     "outputs": [], 
     "prompt_number": 23
    }, 
    {
     "cell_type": "code", 
     "collapsed": true, 
     "input": [
      "l=[7,4,7,10,1,2,3,9,3,5]", 
      "quicksort(l,0,len(l)-1)"
     ], 
     "language": "python", 
     "outputs": [], 
     "prompt_number": 12
    }, 
    {
     "cell_type": "code", 
     "collapsed": false, 
     "input": [
      "l"
     ], 
     "language": "python", 
     "outputs": [
      {
       "output_type": "pyout", 
       "prompt_number": 13, 
       "text": [
        "[1, 2, 3, 3, 4, 5, 7, 7, 9, 10]"
       ]
      }
     ], 
     "prompt_number": 13
    }, 
    {
     "cell_type": "code", 
     "collapsed": false, 
     "input": [
      "import random", 
      "import time", 
      "def aleatoria(n,max):", 
      "    result=[0]*n", 
      "    for i in range(n):", 
      "        result[i]=random.randint(0,max)", 
      "    return result", 
      "l=aleatoria(100000,100000)", 
      "l1=l[:]", 
      "t0=time.time()", 
      "ordena_sel(l1)", 
      "print \"seleccion:\",time.time()-t0", 
      "l1=l[:]", 
      "t0=time.time()", 
      "ordena_inser(l1)", 
      "print \"inserccion:\",time.time()-t0", 
      "l1=l[:]", 
      "t0=time.time()", 
      "ord_burbuja(l1)", 
      "print \"burbuja:\",time.time()-t0", 
      "l1=l[:]", 
      "t0=time.time()", 
      "ordena_mezcla(l1,0,len(l1)-1)", 
      "print \"mezcla:\",time.time()-t0", 
      "l1=l[:]", 
      "t0=time.time()", 
      "quicksort(l1,0,len(l1)-1)", 
      "print \"quicksort:\",time.time()-t0"
     ], 
     "language": "python", 
     "outputs": [
      {
       "output_type": "stream", 
       "stream": "stdout", 
       "text": [
        "seleccion: 358.783027887", 
        "inserccion:"
       ]
      }, 
      {
       "output_type": "stream", 
       "stream": "stdout", 
       "text": [
        " 303.308477879", 
        "burbuja:"
       ]
      }, 
      {
       "output_type": "stream", 
       "stream": "stdout", 
       "text": [
        " 1609.74829292", 
        "mezcla:"
       ]
      }, 
      {
       "output_type": "stream", 
       "stream": "stdout", 
       "text": [
        " 0.77033996582", 
        "quicksort:"
       ]
      }, 
      {
       "output_type": "stream", 
       "stream": "stdout", 
       "text": [
        " 0.661063909531"
       ]
      }
     ], 
     "prompt_number": 32
    }, 
    {
     "cell_type": "code", 
     "collapsed": true, 
     "input": [], 
     "language": "python", 
     "outputs": []
    }
   ]
  }
 ]
}