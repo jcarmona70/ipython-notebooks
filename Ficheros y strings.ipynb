{
 "metadata": {
  "name": "Ficheros y strings"
 }, 
 "name": "Ficheros y strings", 
 "nbformat": 2, 
 "worksheets": [
  {
   "cells": [
    {
     "cell_type": "markdown", 
     "source": "# Ficheros que contienen datos.\n\nLectura de un fichero con los datos de un sudoku."
    }, 
    {
     "cell_type": "code", 
     "collapsed": true, 
     "input": "fichero=open('sudoku.txt','r')", 
     "language": "python", 
     "outputs": [], 
     "prompt_number": 2
    }, 
    {
     "cell_type": "markdown", 
     "source": "Leemos el texto del fichero en un string con el m\u00e9todo `read`"
    }, 
    {
     "cell_type": "code", 
     "collapsed": true, 
     "input": "texto_sudoku=fichero.read()", 
     "language": "python", 
     "outputs": [], 
     "prompt_number": 3
    }, 
    {
     "cell_type": "code", 
     "collapsed": false, 
     "input": "texto_sudoku", 
     "language": "python", 
     "outputs": [
      {
       "output_type": "pyout", 
       "prompt_number": 4, 
       "text": "'9 0 0 0 4 0 8 7 0\\r\\n0 0 0 9 0 1 0 6 0\\r\\n0 0 5 7 0 3 4 0 0\\r\\n1 5 0 0 7 6 0 0 9\\r\\n4 9 0 0 0 0 0 5 6\\r\\n3 0 0 1 9 0 0 8 4\\r\\n0 0 6 8 0 7 9 0 0\\r\\n0 7 0 3 0 9 0 0 0\\r\\n0 3 9 0 1 0 0 0 7'"
      }
     ], 
     "prompt_number": 4
    }, 
    {
     "cell_type": "code", 
     "collapsed": false, 
     "input": "print texto_sudoku", 
     "language": "python", 
     "outputs": [
      {
       "output_type": "stream", 
       "stream": "stdout", 
       "text": "9 0 0 0 4 0 8 7 0\n0 0 0 9 0 1 0 6 0\n0 0 5 7 0 3 4 0 0\n1 5 0 0 7 6 0 0 9\n4 9 0 0 0 0 0 5 6\n3 0 0 1 9 0 0 8 4\n0 0 6 8 0 7 9 0 0\n0 7 0 3 0 9 0 0 0\n0 3 9 0 1 0 0 0 7"
      }
     ], 
     "prompt_number": 5
    }, 
    {
     "cell_type": "markdown", 
     "source": "Podemos leer cada linea en un string distinto, el m\u00e9todo `readlines` nos devuelve un string por linea, terminado con el car\u00e1cter \nde salto de linea."
    }, 
    {
     "cell_type": "code", 
     "collapsed": true, 
     "input": "lineas_sudoku=fichero.readlines()", 
     "language": "python", 
     "outputs": [], 
     "prompt_number": 6
    }, 
    {
     "cell_type": "code", 
     "collapsed": false, 
     "input": "lineas_sudoku", 
     "language": "python", 
     "outputs": [
      {
       "output_type": "pyout", 
       "prompt_number": 7, 
       "text": "[]"
      }
     ], 
     "prompt_number": 7
    }, 
    {
     "cell_type": "markdown", 
     "source": "\u00bfQu\u00e9 ha pasado?, ya hab\u00edamos leido las l\u00edneas y hemos llegado al \"fin del fichero\"."
    }, 
    {
     "cell_type": "code", 
     "collapsed": true, 
     "input": "fichero.close()\nfichero=open('sudoku.txt','r')", 
     "language": "python", 
     "outputs": [], 
     "prompt_number": 8
    }, 
    {
     "cell_type": "code", 
     "collapsed": true, 
     "input": "lineas_sudoku=fichero.readlines()\nfichero.close()", 
     "language": "python", 
     "outputs": [], 
     "prompt_number": 9
    }, 
    {
     "cell_type": "code", 
     "collapsed": false, 
     "input": "lineas_sudoku", 
     "language": "python", 
     "outputs": [
      {
       "output_type": "pyout", 
       "prompt_number": 10, 
       "text": "['9 0 0 0 4 0 8 7 0\\r\\n',\n '0 0 0 9 0 1 0 6 0\\r\\n',\n '0 0 5 7 0 3 4 0 0\\r\\n',\n '1 5 0 0 7 6 0 0 9\\r\\n',\n '4 9 0 0 0 0 0 5 6\\r\\n',\n '3 0 0 1 9 0 0 8 4\\r\\n',\n '0 0 6 8 0 7 9 0 0\\r\\n',\n '0 7 0 3 0 9 0 0 0\\r\\n',\n '0 3 9 0 1 0 0 0 7']"
      }
     ], 
     "prompt_number": 10
    }, 
    {
     "cell_type": "code", 
     "collapsed": true, 
     "input": "linea=lineas_sudoku[0]", 
     "language": "python", 
     "outputs": [], 
     "prompt_number": 11
    }, 
    {
     "cell_type": "code", 
     "collapsed": false, 
     "input": "lin1=linea.strip()\nlin1", 
     "language": "python", 
     "outputs": [
      {
       "output_type": "pyout", 
       "prompt_number": 15, 
       "text": "'9 0 0 0 4 0 8 7 0'"
      }
     ], 
     "prompt_number": 15
    }, 
    {
     "cell_type": "markdown", 
     "source": "`split` \"trocea\" la cadena en palabras, el separador de las palabras es el espacio. "
    }, 
    {
     "cell_type": "code", 
     "collapsed": false, 
     "input": "lin1=lin1.split()\nprint lin1", 
     "language": "python", 
     "outputs": [
      {
       "output_type": "stream", 
       "stream": "stdout", 
       "text": "['9', '0', '0', '0', '4', '0', '8', '7', '0']"
      }
     ], 
     "prompt_number": 16
    }, 
    {
     "cell_type": "code", 
     "collapsed": true, 
     "input": "numeros1=[]\nfor e in lin1:\n    numeros1.append(int(e))", 
     "language": "python", 
     "outputs": [], 
     "prompt_number": 17
    }, 
    {
     "cell_type": "code", 
     "collapsed": false, 
     "input": "numeros1", 
     "language": "python", 
     "outputs": [
      {
       "output_type": "pyout", 
       "prompt_number": 18, 
       "text": "[9, 0, 0, 0, 4, 0, 8, 7, 0]"
      }
     ], 
     "prompt_number": 18
    }, 
    {
     "cell_type": "markdown", 
     "source": "O de forma an\u00e1loga usando la funci\u00f3n `map`"
    }, 
    {
     "cell_type": "code", 
     "collapsed": true, 
     "input": "fichero.close()", 
     "language": "python", 
     "outputs": [], 
     "prompt_number": 19
    }, 
    {
     "cell_type": "markdown", 
     "source": "Escribimos la funci\u00f3n que devuelve en forma de matriz el sudoku de un fichero:"
    }, 
    {
     "cell_type": "code", 
     "collapsed": true, 
     "input": "def leer_sudoku(file_name):\n    result=[]\n    fichero=open(file_name,'r')\n    s=fichero.readline()\n    while s!='':\n        lista=s.strip().split()\n        numeros=map(int,lista)\n        result.append(numeros)\n        s=fichero.readline()\n    fichero.close()\n    return result", 
     "language": "python", 
     "outputs": [], 
     "prompt_number": 23
    }, 
    {
     "cell_type": "code", 
     "collapsed": false, 
     "input": "leer_sudoku('sudoku.txt')", 
     "language": "python", 
     "outputs": [
      {
       "output_type": "pyout", 
       "prompt_number": 24, 
       "text": "[[9, 0, 0, 0, 4, 0, 8, 7, 0],\n [0, 0, 0, 9, 0, 1, 0, 6, 0],\n [0, 0, 5, 7, 0, 3, 4, 0, 0],\n [1, 5, 0, 0, 7, 6, 0, 0, 9],\n [4, 9, 0, 0, 0, 0, 0, 5, 6],\n [3, 0, 0, 1, 9, 0, 0, 8, 4],\n [0, 0, 6, 8, 0, 7, 9, 0, 0],\n [0, 7, 0, 3, 0, 9, 0, 0, 0],\n [0, 3, 9, 0, 1, 0, 0, 0, 7]]"
      }
     ], 
     "prompt_number": 24
    }, 
    {
     "cell_type": "markdown", 
     "source": "# Algunos ejemplos sobre un fichero `.py`"
    }, 
    {
     "cell_type": "code", 
     "collapsed": true, 
     "input": "fichero=open('indice.py','r')", 
     "language": "python", 
     "outputs": [], 
     "prompt_number": 28
    }, 
    {
     "cell_type": "markdown", 
     "source": "Para leerlo y tenerlo en un string no hay nada nuevo:"
    }, 
    {
     "cell_type": "code", 
     "collapsed": false, 
     "input": "programa=fichero.read()\nprint programa\nfichero.close()", 
     "language": "python", 
     "outputs": [
      {
       "output_type": "stream", 
       "stream": "stdout", 
       "text": "\ufeff\ndef esLetra(c):\n    #nos dice si un caracter es una letra\n    esEspecial=(c in '\u00e1\u00e9\u00ed\u00f3\u00fa\u00f1\u00fc\u00c1\u00c9\u00cd\u00d3\u00da\u00d1\u00dc')\n    esLetra=(c>='a' and c<='z') or (c>='A' and c<='Z')\n    return esEspecial or esLetra\n\ndef listaPalabras(s):\n    #devuelve la lista de palabras del string s,\n    #consideramos palabra una sucesion de letras entre dos caracteres que no\n    #sean letras\n    result=[]\n    i=0\n    #nos colocamos al comienzo de la primera palabra\n    while i<len(s) and not esLetra(s[i]):\n        i=i+1\n    while i<len(s):\n        #construimos la siguiente palabra\n        palabra=''\n        while i<len(s) and esLetra(s[i]):\n            palabra=palabra+s[i]\n            i=i+1\n        result.append(palabra)\n        #nos colocamos al comienzo de la siguiente palabra\n        while i<len(s) and not esLetra(s[i]):\n            i=i+1\n    return result        \n        \n\n\n            \ndef aniadir(l,palabra,linea):\n    #l es de la forma\n    #[[palabra_1,[linea_1_1,linea_1_2..,linea_1_n_1]],...,\n    #[palabra_k,[linea_k_1,linea_k_2..,linea_k_n_k]]]\n    #con palabra_1<palabra_2....<palabra_k\n    #\n    #si palabra esta en la lista, a\u00f1ade linea a su lista de lineas, si\n    #no a\u00f1ade palabra con la lista de lineas [linea] manteniendo la lista\n    #ordenada\n    pos=0\n    while pos<len(l) and palabra>l[pos][0]:\n        pos=pos+1\n    if pos<len(l):\n        if l[pos][0]==palabra:\n            l[pos][1].append(linea)\n        else:\n            l.insert(pos,[palabra,[linea]])\n    else:\n        l.append([palabra,[linea]])\n    \n        \ndef listaPalabrasLineas(nombre):\n    #nombre es el nombre de un fichero de texto existente.\n    #devuelve el \u00edndice de palabras del texto del fichero.\n    #El \u00edndice es una lista con las  palabras y los n\u00fameros de l\u00ednea\n    #con el formato siguiente:\n    #[[palabra_1,[linea_1_1,linea_1_2..,linea_1_n_1]],...,\n    #[palabra_k,[linea_k_1,linea_k_2..,linea_k_n_k]]]\n    f=open(nombre,'r')\n    s=f.readline()\n    result=[]\n    linea=0\n    while s!='':\n        l=listaPalabras(s)\n        for palabra in l:\n            aniadir(result,palabra,linea)\n        s=f.readline()\n        linea=linea+1\n    f.close()\n    return result\n\ndef listaPalabrasLineasLim(nombre,n):\n    #como listaPalabrasLineas\n    #pero s\u00f3lo considerando las n primeras lineas del fichero\n    f=open(nombre,'r')\n    s=f.readline()\n    result=[]\n    linea=0\n    while s!='' and linea<n:\n        l=listaPalabras(s)\n        for palabra in l:\n            aniadir(result,palabra,linea)\n        s=f.readline()\n        linea=linea+1\n    f.close()\n    return result\n\ndef guardar(lista,nombre):\n    #lista es un indice de palabras como el devuelto por\n    # listaDePalabrasLineas\n    #Lo guarda en un fichero que se llama nombre.\n    #Si ya existe ser\u00e1 sobreescrito\n    f=open(nombre,'w')\n    for item in lista:\n        f.write(item[0]+':')\n        f.write(str(item[1]))\n        f.write('\\n')\n    f.close()\ndef mostrar(lista):\n    #Muestra por pantalla el indice de palabras representado por lista\n    for item in lista:\n        print item[0]+':',\n        print item[1]\n        \n\ndef main():\n    #escribe el indice de palabras del fichero con el nombre\n    #indicado por el usuario \n    #en el fichero con nombre indicado por el usuario.\n    #El fichero indicado por usuario debe existir,\n    #si existe un fichero con el mismo nombre que el de salida \u00e9ste\n    #se sobreescribe.\n    entrada=raw_input('De qu\u00e9 fichero quieres hacer el \u00edndice?')\n    salida=raw_input('Introduce el nombre del fichero de salida:')\n    l=listaPalabrasLineas(entrada)\n    guardar(l,salida)\n    print 'el siguiente \u00edndice de palabras ha sido guardado:'\n    mostrar(l)\nmain()"
      }
     ], 
     "prompt_number": 29
    }, 
    {
     "cell_type": "markdown", 
     "source": "Usamos la funci\u00f3n `find` de las cadenas en sus dos versiones:\n\n- `s.find(cadena)` devuelve la posici\u00f3n de la primera aparici\u00f3n de cadena en s\n- `s.find(cadena,inic)` devuelve la posici\u00f3n de la primera aparici\u00f3n de cadena en s a partir de inic \n\nEn este caso escribimos la l\u00ednea que contiene la primera  definici\u00f3n de funci\u00f3n."
    }, 
    {
     "cell_type": "code", 
     "collapsed": false, 
     "input": "pos_def=programa.find('def')\nfin_linea=programa.find('\\n',pos_def)\nprint programa[pos_def:fin_linea]", 
     "language": "python", 
     "outputs": [
      {
       "output_type": "stream", 
       "stream": "stdout", 
       "text": "def esLetra(c):"
      }
     ], 
     "prompt_number": 30
    }, 
    {
     "cell_type": "markdown", 
     "source": "escribir s\u00f3lo el nombre de la funci\u00f3n no es dif\u00edcil:"
    }, 
    {
     "cell_type": "code", 
     "collapsed": false, 
     "input": "print programa[pos_def+4:programa.find(\"(\",pos_def)]", 
     "language": "python", 
     "outputs": [
      {
       "output_type": "stream", 
       "stream": "stdout", 
       "text": "esLetra"
      }
     ], 
     "prompt_number": 31
    }, 
    {
     "cell_type": "markdown", 
     "source": "# Leyendo p\u00e1ginas web"
    }, 
    {
     "cell_type": "markdown", 
     "source": "Leer el texto de una p\u00e1gina es igual de f\u00e1cil que un fichero. (siempre y cuando tengamos conexi\u00f3n a internet)"
    }, 
    {
     "cell_type": "code", 
     "collapsed": false, 
     "input": "import urllib2\npagina=urllib2.urlopen('http://wild.mat.ucm.es/inf')\ntexto=pagina.read()\nprint texto", 
     "language": "python", 
     "outputs": [
      {
       "output_type": "stream", 
       "stream": "stdout", 
       "text": "<html>\n  <head>\n<title>P\u00e1gina de Inicio</title>\n</head>\n<body>\n<h1>P\u00e1gina de inicio</h1>\n\nEsta es la p\u00e1gina inicial en la que se habla \ndel <a href=\"mar.html\">mar</a> y los <a href=\"peces.html\">peces</a>...<br>\nPero si hace falta,\nhableremos de muchas otras cosas.\n</body>\n</html>"
      }
     ], 
     "prompt_number": 34
    }, 
    {
     "cell_type": "markdown", 
     "source": "hay p\u00e1ginas m\u00e1s complicadas:"
    }, 
    {
     "cell_type": "code", 
     "collapsed": true, 
     "input": "pagina=urllib2.urlopen('http://www.ucm.es')\ntexto=pagina.read()\npagina.close()", 
     "language": "python", 
     "outputs": [], 
     "prompt_number": 35
    }, 
    {
     "cell_type": "code", 
     "collapsed": false, 
     "input": "print texto", 
     "language": "python", 
     "outputs": [
      {
       "output_type": "stream", 
       "stream": "stdout", 
       "text": "<!DOCTYPE html>\n<html lang=\"es\">\n<head>\n\t<title>UCM-Universidad Complutense de Madrid</title>\n\t<meta charset=\"UTF-8\" />\n\t<meta name=\"description\" content=\"La Universidad Complutense de Madrid es una instituci\u00f3n de larga trayectoria y amplio reconocimiento social que aspira a situarse entre las primeras universidades de Europa y a consolidarse como centro de referencia para el continente latinoamericano\" />\n\t<meta name=\"keywords\" content=\"Universidad Complutense de Madrid, Complutense, UCM, Educaci\u00f3n, Innovaci\u00f3n, Universidad de excelencia, Formaci\u00f3n, Grado, M\u00e1ster, Doctorado, Postgrado\" />\n\t<link rel=\"apple-touch-icon\" href=\"/themes/ucm3/media/img/logoucm.ico\" />\n\t<link rel=\"shortcut icon\" href=\"/themes/ucm3/media/img/logoucm.ico\" />\n\t<link rel=\"icon\" href=\"/themes/ucm3/media/img/logoucm.ico\" />\n\t\t\t\t<link type=\"text/css\" media=\"screen\" rel=\"stylesheet\" href=\"/themes/ucm3/css/normal.css?a=1\" />\n\t<link type=\"text/css\" media=\"screen\" rel=\"stylesheet\" href=\"/themes/ucm3/css/portada.css?a=1\" />\n\t<link type=\"text/css\" media=\"screen\" rel=\"stylesheet\" href=\"/themes/ucm3/css/barra.css\" />\n\t<link type=\"text/css\" media=\"print\" rel=\"stylesheet\" href=\"/themes/ucm3/css/print.css\" />\n\t<style type=\"text/css\">#header, #header_pags { background:  rgba(180,180,180, 0.6) url('https://www.ucm.es/themes/ucm3/media/img/cabecera-1_lazo.png') top left no-repeat; }#barra li a{color:#ffffff;;}</style>\t<!--[if lt IE 8]><link type=\"text/css\" media=\"screen\" rel=\"stylesheet\" href=\"/themes/ucm3/css/normal_ie.css\" /><![endif]-->\n\t<!--[if lt IE 9]><link type=\"text/css\" media=\"screen\" rel=\"stylesheet\" href=\"/themes/ucm3/css/normal_ie8.css\" /><script src=\"http://www.ucm.es/themes/ucm3/script/html5shiv.js\"></script><![endif]-->\n\t</head>\n<body style=\"background-color:transparent\">\n\t<h1 id=\"hPortada\">Universidad Complutense de Madrid</h1>\n\t\t\n<div id=\"bg\">\n<img src='/data/cont/media/portada/noticias/3-2014-03-17-Foto 4.JPG' alt='UCM' /></div>\n\t<header>\n\t\t<div id=\"barra\">\n\t\t\t<nav class=\"barra_personal\">\n\t\t\t\t<ul>\n\t\t\t\t\t<li><a href=\"https://www.ucm.es/english\">| English</a></li>\n\t\t\t\t\t<li class=\"iniciasesion\"><a href=\"https://www.ucm.es/login_sso/\" title=\"Identif\u00edcate\">Navegar identificado</a></li>\n\t\t\t\t</ul><div class=\"spacer\"></div>\n\t\t\t</nav>\t\t\t\t\t\t\t\t</div>\n\t\t<div id=\"header\">\n\t\t\t<div id=\"logo\">\n\t\t\t\t<a  href=\"/\" title=\"Universidad Complutense de Madrid - Portada\"><img src=\"/nodes/web/00media/img/ucm-ws.png\" alt=\"Universidad Complutense de Madrid\" /></a>\n\t\t\t\t<a  href=\"/\"><img src=\"/nodes/web/org/ucm/media/img/ucm.png\" alt=\"Universidad Complutense de Madrid\"  title=\"Universidad Complutense de Madrid - Portada\"/></a>\n\t\t\t</div>\n\t\t\t<div id=\"buscador\">\n\t\t\t\t<form action=\"/buscador\" method=\"post\" class=\"fBuscar\">\n\t\t\t\t\t<label for=\"search\" class=\"nomovil\">Buscar en la web</label>\n\t\t\t\t\t<br/><br/><input type=\"text\" id=\"search\" name=\"search\" placeholder=\"Buscar en la web\" class=\"nomovil\"  required />\n\t\t\t\t\t<input type=\"image\" name=\"buscar\" src=\"/themes/ucm3/media/img/buscar_trans.gif\" alt=\"Buscar en la Web\" class=\"nomovil\" />\n\t\t\t\t\t<a href=\"/buscador\"><input type=\"button\" name=\"search\" id=\"search1\" style=\"display:none\" class=\"movil\" value=\"Buscador\"/></a>\n\t\t\t\t</form>\n\t\t\t</div>\n\t\t\t<div style=\"clear:both\"></div>\n\t\t\t<div class=\"cei\"><a href=\"http://www.campusmoncloa.es/\" target=\"_blank\">CAMPUS DE EXCELENCIA INTERNACIONAL</a></div>\t\t</div>\n\t\t<div class=\"spacer\"></div>\t\n\t</header>\n\t<div class=\"ventana_pagina1\" id=\"area_izq\" onclick=\"abre_menumov()\">\n\t\t<ul>\n\t\t\t<li class=\"menu_item\">\n\t\t\t\t<a title=\"Ver men&uacute; completo\" href=\"/laucm\">UCM</a>\n\t\t\t\t<ul class=\"dot\">\n\t\t\t\t\t<li><a href=\"/gobierno\">Gobierno</a></li>\n\t\t\t\t\t<li><a href=\"/centros\">Centros</a></li>\n\t\t\t\t\t<li><a href=\"/servicios_1\">Servicios</a></li>\n\t\t\t\t\t<li><a href=\"/unidad-de-igualdad\">Igualdad</a></li>\n\t\t\t\t</ul>\n\t\t\t</li>\n\t\t\t<li class=\"menu_item\">\n\t\t\t\t<a title=\"Ver men&uacute; completo\" href=\"/estudiar\">Estudiar</a>\n\t\t\t\t<ul class=\"dot\">\n\t\t\t\t\t<li><a href=\"/estudios-ofertados\">Estudios</a></li>\n\t\t\t\t\t<li><a href=\"/acceso\">Acceso</a></li>\n\t\t\t\t\t<li><a href=\"/coie\">COIE</a></li>\n\t\t\t\t\t<li><a href=\"/becas-ayudas\">Becas</a></li>\n\t\t\t\t</ul>\n\t\t\t</li>\n\t\t\t<li class=\"menu_item\">\n\t\t\t\t<a title=\"Ver men&uacute; completo\" href=\"/investigacion\">Investigar</a>\n\t\t\t\t<ul class=\"dot\">\n\t\t\t\t\t<li><a href=\"/investigar-investigacion\">Investigaci\u00f3n</a></li>\n\t\t\t\t\t<li><a href=\"http://biblioteca.ucm.es\">Biblioteca</a></li>\n\t\t\t\t\t<li><a href=\"/publicaciones_2\">Publicaciones</a></li>\n\t\t\t\t</ul>\n\t\t\t</li>\n\t\t\t<li class=\"menu_item\">\n\t\t\t\t<a title=\"Ver men&uacute; completo\" href=\"/internacional\">Internacional</a>\n\t\t\t\t<ul class=\"dot\">\n\t\t\t\t\t<li><a href=\"/movilidad-mobility\">Movilidad</a></li>\n\t\t\t\t\t<li><a href=\"/convenios\">Convenios</a></li>\n\t\t\t\t\t<li><a href=\"/programas-europeos\">Programas Europeos</a></li>\n\t\t\t\t</ul>\n\t\t\t</li>\n\t\t\t<li class=\"menu_item\">\n\t\t\t\t<a title=\"Ver men&uacute; completo\" href=\"/sociedad\">Vida universitaria</a>\n\t\t\t\t<ul class=\"dot\">\n\t\t\t\t\t<li><a href=\"/agenda-1\">Agenda</a></li>\n\t\t\t\t\t<li><a href=\"/deportes_2\">Deportes</a></li>\n\t\t\t\t\t<li><a href=\"/cultura_2\">Cultura</a></li>\n\t\t\t\t</ul>\n\t\t\t</li>\n\t\t\t<li class=\"menu_item\">\n\t\t\t\t<a title=\"Ver men&uacute; completo\" href=\"/blog/blog-del-rector\">Blog del Rector</a>\n\t\t\t\t<ul class=\"dot\">\n\t\t\t\t</ul>\n\t\t\t</li>\n\t\t\t<li class=\"menu_item\">\n\t\t\t\t<a title=\"Ver men&uacute; completo\" href=\"/biblia-poliglota\">Biblia Pol\u00edglota</a>\n\t\t\t\t<ul class=\"dot\">\n\t\t\t\t</ul>\n\t\t\t</li>\n\t\t</ul>\t</div>\n\t<div class=\"ventana_pagina2\" id=\"area_dcha\">\n\t\t<div class=\"spacer\"></div>\n\t\t<div class=\"portada2_izda\" id=\"marco_00\">\n\t<div class=\"column\" id=\"lista_n\">\n\t\t<div class=\"w_portada\">\n\t\t\n<div id=\"not_principal\"><a target=\"_blank\" href=\"https://www.ucm.es/data/cont/media/www/pag-10072/RedescubreN%C2%BA28.pdf\"><p class='not_ppal_titulo'>Investigadores UCM estudian la temperatura del mar como predictor de la variabilidad clim\u00e1tica (Red.escubre)</p><span class='not_ppal_resumen'></span></a></div>\n\t\t</div>\n\t<div class=\"spacer\"></div>\n\t</div>\n\t\n\t\n</div>\n\n<div class=\"portada2_dcha\" id=\"marco_01\">\n\t<div class=\"w_portada\">\n\t\t<a href=\"http://www.ucm.es/ayudas-al-estudio\"><img class=\"aviso_portada_img\" src=\"https://www.ucm.es/themes/ucm3/media/img/boton_ayudae.png\" /></a><br/><div class=\"notificacion_portada\"><h2>Claustro - Estatutos</h2><div class=\"wg_txt\"><ul id=\"notiPortada\"><li class=\"sub_link\"><div class=\"dot_not_portada\">&nbsp;</div><div class=\"not_secs_titulo\"><a target=\"_blank\" href=\"https://www.ucm.es/dok/2014-03-14-sesion-claustro-universitario-de-25032014-debate-y-votacion-de-enmiendas \">Nueva convocatoria de Claustro</a></div></li></ul></div></div><div class=\"spacer\"></div><div class=\"notificacion_portada\"><h2>Claustro Universitario</h2><div class=\"wg_txt\"><ul id=\"notiPortada\"><li class=\"sub_link\"><div class=\"dot_not_portada\">&nbsp;</div><div class=\"not_secs_titulo\"><a target=\"_blank\" href=\"/elecciones-claustro-universitario\">Elecciones a Claustro Universitario</a></div></li></ul></div></div><div class=\"spacer\"></div><div class=\"notificacion_portada\"><h2>Juntas de Facultad</h2><div class=\"wg_txt\"><ul id=\"notiPortada\"><li class=\"sub_link\"><div class=\"dot_not_portada\">&nbsp;</div><div class=\"not_secs_titulo\"><a target=\"_blank\" href=\"/elecciones-junta-de-facultad\">Elecciones a Juntas de Facultad</a></div></li></ul></div></div><div class=\"spacer\"></div>\t\t<div class=\"noticias_portada\">\n\t\t\t\t<h2>Titulares</h2>\n\t\t\t\t<ul id=\"notiPortada\"><li class=\"sub_link\"><div class=\"num_not_portada\">1</div><a href=\"noticias/biologos-complutense-concluyen-que-el-calentamiento-global-alterara-el-impacto-de-los-parasitos-sobre-la-fauna\"><div class=\"not_ppales_titulo\">Bi\u00f3logos complutenses concluyen que el calentamiento global alterar\u00e1 el impacto de los par\u00e1sitos sobre la fauna</div></a></li><li class=\"sub_link\"><div class=\"num_not_portada\">2</div><a target=\"_blank\" href=\"https://www.ucm.es/data/cont/media/www/pag-10072/RedescubreN%C2%BA28.pdf\"><div class=\"not_ppales_titulo\">Investigadores UCM estudian la temperatura del mar como predictor de la variabilidad clim\u00e1tica (Red.escubre)</div></a></li><li class=\"sub_link\"><div class=\"num_not_portada\">3</div><a target=\"_blank\" href=\"http://conectayemprende.com/\"><div class=\"not_ppales_titulo\">Semana Emprendedora Complutense, d\u00edas 18, 19 y 20. \u00a1Participa! </div></a></li><li class=\"sub_link\"><div class=\"num_not_portada\">4</div><a target=\"_blank\" href=\"http://biblioteca.ucm.es/blogs/Foliocomplutense/8672.php#.UyA-Jc4XetM\"><div class=\"not_ppales_titulo\">Mujeres en la Biblioteca Hist\u00f3rica: Mar\u00eda Sibylla Merian, la cient\u00edfica de las mariposas</div></a></li></ul><div class=\"wg_txt2\"><ul id=\"notiPortada2\"><li class=\"sub_link\"><div class=\"dot_not_portada\">&nbsp;</div><div class=\"not_secs_titulo\"><a target=\"_blank\" href=\"http://ceenvej.es/\">Ciclo de conferencias: Envejecimiento, Sociedad y Salud</a></div></li><li class=\"sub_link\"><div class=\"dot_not_portada\">&nbsp;</div><div class=\"not_secs_titulo\"><a target=\"_blank\" href=\"https://www.ucm.es/becas-iberoamerica-santander-universidades\">Becas Iberoam\u00e9rica para estudiantes de Grado. Hasta el 9 de abril</a></div></li><li class=\"sub_link\"><div class=\"dot_not_portada\">&nbsp;</div><div class=\"not_secs_titulo\"><a href=\"/noticias/el-patrimonio-complutense,-en-el-museo-de-la-evolucion-humana\">El patrimonio complutense, en el Museo de la Evoluci\u00f3n Humana</a></div></li><li class=\"sub_link\"><div class=\"dot_not_portada\">&nbsp;</div><div class=\"not_secs_titulo\"><a target=\"_blank\" href=\" http://www.ucm.es/convocatoria-web-ucm-12-3-2014-ct4-14\">Financiaci\u00f3n para la contrataci\u00f3n de personal investigador predoctoral en formaci\u00f3n</a></div></li><li class=\"sub_link\"><div class=\"dot_not_portada\">&nbsp;</div><div class=\"not_secs_titulo\"><a target=\"_blank\" href=\"http://www.flickr.com/photos/108559271@N02/sets/72157641892428923/\">Exposici\u00f3n 'Un paseo fotogr\u00e1fico por el Zoo de Madrid'. Hasta el 31 de marzo, en Veterinaria</a></div></li><li class=\"sub_link\"><div class=\"dot_not_portada\">&nbsp;</div><div class=\"not_secs_titulo\"><a target=\"_blank\" href=\"https://www.ucm.es/convocatorias-para-la-financiacion-de-grupos-de-investigacion\">Programa de financiaci\u00f3n de grupos de investigaci\u00f3n UCM </a></div></li><li class=\"sub_link\"><div class=\"dot_not_portada\">&nbsp;</div><div class=\"not_secs_titulo\"><a href=\"/noticias/convocadas-las-ayudas-extraordinarias-al-estudio-para-el-curso-2013-2014\">Convocadas las Ayudas Extraordinarias al Estudio para el curso 2013-2014</a></div></li></ul></div><div class=\"spacer\"></div><a href=\"/noticias\"><div class=\"masn_i\">M&aacute;s noticias</div></a><a href=\"http://www.ucm.es/rss/rss.php?weid=3\"><div class=\"masn_i\">RSS</div></a><a href=\"http://www.ucm.es/info/tribunacomplutense/\" target=\"_blank\"><div class=\"masn_d\">Tribuna Complutense</div></a><div class=\"spacer\"></div></div>\t</div>\n\t<div class=\"spacer\"></div>\n\t<div class=\"column\" id=\"lista_2\">\n\t\t<div class=\"w_portada_fot\">\n\t\t\t\t</div>\n\t<div class=\"spacer\"></div>\n\t</div>\n</div></div>\n<div class=\"spacer\"></div>\n\t</div>\n\t<div class=\"spacer\"></div>\n\t\t\n\t<footer id=\"area_pie\">\n\t\t\n\t\t\t\t<nav id=\"pieRSizq\">\n\t\t\t\t\t<div class=\"pie_contacto\">\n\t\t\t\t\t\t<a href=\"/contacto_ucm\">Contacto UCM</a><br/>\n\t\t\t\t\t\t<a href=\"/aviso-legal\">Aviso Legal</a><br/>\n\t\t\t\t\t</div>\n\t\t\t\t</nav>\n\t\t\t\t<nav id=\"pieRScent\">\n\t\t\t\t\t\n\t\t\t\t\t<ul id=\"pieCentWs\" style='border:0; float: left'>\n\t\t\t\t\t\t<li id=\"162\"><a href=\"/e-sede\"><span class=\"menu2_linea1\">Sede</span><br/><span class=\"menu2_linea2\">Electr\u00f3nica</span></a></li>\n\t\t\t\t\t\t<li id=\"244\"><a href=\"ucm-en-linea\"><span class=\"menu2_linea1\">Servicios</span><br/><span class=\"menu2_linea2\">UCM en l\u00ednea</span></a></li>\n\t\t\t\t\t\t<li id=\"175\"><a href=\"/empleo-ucm\"><span class=\"menu2_linea1\">Empleo</span><br/><span class=\"menu2_linea2\">UCM</span></a></li>\n\t\t\t\t\t\t<li id=\"75\"><a href=\"/fundacion\"><span class=\"menu2_linea1\">Fundaci\u00f3n</span><br/><span class=\"menu2_linea2\">General</span></a></li>\n\t\t\t\t\t\t<li id=\"276\"><a href=\"http://www.ucm.es/cursosdeverano\"><span class=\"menu2_linea1\">Cursos</span><br/><span class=\"menu2_linea2\">de Verano</span></a></li>\n\t\t\t\t\t\t<li id=\"177\"><a href=\"http://www.fpcm.es/\"><span class=\"menu2_linea1\">Parque</span><br/><span class=\"menu2_linea2\">Cient\u00edfico</span></a></li>\n\t\t\t\t\t\t<li id=\"12\"><a href=\"http://www.universia.es/\"><span class=\"menu2_linea1\">Universia</span><br/><span class=\"menu2_linea2\">Espa\u00f1a</span></a></li>\n\t\t\t\t\t</ul>\n\t\t\t\t</nav>\n\t\t\t\t<nav id=\"pieCentDer\">\n\t\t\t\t\t<a id=\"link_yb\" href=\"http://www.youtube.com/ucomplutensemadrid\" target=\"_blank\"><img alt=\"rss\" src=\"/themes/ucm3/media/img/ico_youtube.png\" /></a>\n\t\t\t\t\t<a id=\"link_fb\" href=\"https://www.facebook.com/UniComplutense\" target=\"_blank\"><img alt=\"facebook\" src=\"/themes/ucm3/media/img/ico_fb.png\" /></a>\n\t\t\t\t\t<a id=\"link_tw\" href=\"http://twitter.com/unicomplutense\" target=\"_blank\"><img alt=\"twitter\" src=\"/themes/ucm3/media/img/ico_tw.png\" /></a>\n\t\t\t\t\t<input type=\"hidden\" id=\"idws\" value=\"3\" />\n\t\t\t\t</nav>\t<div class=\"spacer\"></div>\n\t</footer>\n\t<div id=\"basic-modal-content\">Cargando...</div><script type=\"text/javascript\">\n\t\t\t  var _gaq = _gaq || [];\n\t\t\t  _gaq.push(['_setAccount', 'UA-299350-1']);\n\t\t\t  _gaq.push(['_trackPageview']);\n\t\t\t  setTimeout('_gaq.push([\\'_trackEvent\\', \\'NoBounce\\', \\'Over 5 seconds\\'])',5000);\n\t\t\t  (function() {\n\t\t\t    var ga = document.createElement('script'); ga.type = 'text/javascript'; ga.async = true;\n\t\t\t    ga.src = ('https:' == document.location.protocol ? 'https://ssl' : 'http://www') + '.google-analytics.com/ga.js';\n\t\t\t    var s = document.getElementsByTagName('script')[0]; s.parentNode.insertBefore(ga, s);\n\t\t\t  })();\n\t\t</script>\n\t\t\t  <script type=\"text/javascript\">\n\t\t\t\t  var _gaq = _gaq || [];\n\t\t\t  \t  _gaq.push(['_setAccount', 'UA-299350-23']);\n\t\t\t\t  _gaq.push(['_setDomainName', 'ucm.es']);\n\t\t\t\t  _gaq.push(['_trackPageview']);\n\t\t\t\t  setTimeout('_gaq.push([\\'_trackEvent\\', \\'NoBounce\\', \\'Over 5 seconds\\'])',5000);\n\t\t\t\t  (function() {\n\t\t\t\t    var ga = document.createElement('script'); ga.type = 'text/javascript'; ga.async = true;\n\t\t\t\t    ga.src = ('https:' == document.location.protocol ? 'https://ssl' : 'http://www') + '.google-analytics.com/ga.js';\n\t\t\t\t    var s = document.getElementsByTagName('script')[0]; s.parentNode.insertBefore(ga, s);\n\t\t\t\t  })();\n\t\t\t</script>  \t\t\t    \t\t\t    \n  \t\t\t<script type=\"text/javascript\">\n\t\t\t\t  (function(i,s,o,g,r,a,m){i['GoogleAnalyticsObject']=r;i[r]=i[r]||function(){\n\t\t\t\t  (i[r].q=i[r].q||[]).push(arguments)},i[r].l=1*new Date();a=s.createElement(o),\n\t\t\t\t  m=s.getElementsByTagName(o)[0];a.async=1;a.src=g;m.parentNode.insertBefore(a,m)\n\t\t\t\t  })(window,document,'script','//www.google-analytics.com/analytics.js','ga');\n\t\t\t\t\n\t\t\t\t  ga('create', 'UA-299350-23', 'ucm.es');\n\t\t\t\t  ga('send', 'pageview');\n\t\t\t\t\n\t\t\t\t</script>\t\n</body>\n</html>"
      }
     ], 
     "prompt_number": 36
    }, 
    {
     "cell_type": "markdown", 
     "source": "Como en el caso de los ficheros, podemos separar las lineas:"
    }, 
    {
     "cell_type": "code", 
     "collapsed": true, 
     "input": "import urllib2\npagina=urllib2.urlopen('http://www.ucm.es')\ntexto=pagina.readlines()\npagina.close()", 
     "language": "python", 
     "outputs": [], 
     "prompt_number": 37
    }, 
    {
     "cell_type": "markdown", 
     "source": "Y quedarnos con las que tienen alg\u00fan enlace (los enlaces en `html` empiezan por la cadena `<a href`)"
    }, 
    {
     "cell_type": "code", 
     "collapsed": false, 
     "input": "for linea in texto:\n    if '<a href' in linea:\n        print linea.strip()", 
     "language": "python", 
     "outputs": [
      {
       "output_type": "stream", 
       "stream": "stdout", 
       "text": "<li><a href=\"https://www.ucm.es/english\">| English</a></li>\n<li class=\"iniciasesion\"><a href=\"https://www.ucm.es/login_sso/\" title=\"Identif\u00edcate\">Navegar identificado</a></li>\n<a href=\"/buscador\"><input type=\"button\" name=\"search\" id=\"search1\" style=\"display:none\" class=\"movil\" value=\"Buscador\"/></a>\n<div class=\"cei\"><a href=\"http://www.campusmoncloa.es/\" target=\"_blank\">CAMPUS DE EXCELENCIA INTERNACIONAL</a></div>\t\t</div>\n<li><a href=\"/gobierno\">Gobierno</a></li>\n<li><a href=\"/centros\">Centros</a></li>\n<li><a href=\"/servicios_1\">Servicios</a></li>\n<li><a href=\"/unidad-de-igualdad\">Igualdad</a></li>\n<li><a href=\"/estudios-ofertados\">Estudios</a></li>\n<li><a href=\"/acceso\">Acceso</a></li>\n<li><a href=\"/coie\">COIE</a></li>\n<li><a href=\"/becas-ayudas\">Becas</a></li>\n<li><a href=\"/investigar-investigacion\">Investigaci\u00f3n</a></li>\n<li><a href=\"http://biblioteca.ucm.es\">Biblioteca</a></li>\n<li><a href=\"/publicaciones_2\">Publicaciones</a></li>\n<li><a href=\"/movilidad-mobility\">Movilidad</a></li>\n<li><a href=\"/convenios\">Convenios</a></li>\n<li><a href=\"/programas-europeos\">Programas Europeos</a></li>\n<li><a href=\"/agenda-1\">Agenda</a></li>\n<li><a href=\"/deportes_2\">Deportes</a></li>\n<li><a href=\"/cultura_2\">Cultura</a></li>\n<a href=\"http://www.ucm.es/ayudas-al-estudio\"><img class=\"aviso_portada_img\" src=\"https://www.ucm.es/themes/ucm3/media/img/boton_ayudae.png\" /></a><br/><div class=\"notificacion_portada\"><h2>Claustro - Estatutos</h2><div class=\"wg_txt\"><ul id=\"notiPortada\"><li class=\"sub_link\"><div class=\"dot_not_portada\">&nbsp;</div><div class=\"not_secs_titulo\"><a target=\"_blank\" href=\"https://www.ucm.es/dok/2014-03-14-sesion-claustro-universitario-de-25032014-debate-y-votacion-de-enmiendas \">Nueva convocatoria de Claustro</a></div></li></ul></div></div><div class=\"spacer\"></div><div class=\"notificacion_portada\"><h2>Claustro Universitario</h2><div class=\"wg_txt\"><ul id=\"notiPortada\"><li class=\"sub_link\"><div class=\"dot_not_portada\">&nbsp;</div><div class=\"not_secs_titulo\"><a target=\"_blank\" href=\"/elecciones-claustro-universitario\">Elecciones a Claustro Universitario</a></div></li></ul></div></div><div class=\"spacer\"></div><div class=\"notificacion_portada\"><h2>Juntas de Facultad</h2><div class=\"wg_txt\"><ul id=\"notiPortada\"><li class=\"sub_link\"><div class=\"dot_not_portada\">&nbsp;</div><div class=\"not_secs_titulo\"><a target=\"_blank\" href=\"/elecciones-junta-de-facultad\">Elecciones a Juntas de Facultad</a></div></li></ul></div></div><div class=\"spacer\"></div>\t\t<div class=\"noticias_portada\">\n<ul id=\"notiPortada\"><li class=\"sub_link\"><div class=\"num_not_portada\">1</div><a href=\"noticias/biologos-complutense-concluyen-que-el-calentamiento-global-alterara-el-impacto-de-los-parasitos-sobre-la-fauna\"><div class=\"not_ppales_titulo\">Bi\u00f3logos complutenses concluyen que el calentamiento global alterar\u00e1 el impacto de los par\u00e1sitos sobre la fauna</div></a></li><li class=\"sub_link\"><div class=\"num_not_portada\">2</div><a target=\"_blank\" href=\"https://www.ucm.es/data/cont/media/www/pag-10072/RedescubreN%C2%BA28.pdf\"><div class=\"not_ppales_titulo\">Investigadores UCM estudian la temperatura del mar como predictor de la variabilidad clim\u00e1tica (Red.escubre)</div></a></li><li class=\"sub_link\"><div class=\"num_not_portada\">3</div><a target=\"_blank\" href=\"http://conectayemprende.com/\"><div class=\"not_ppales_titulo\">Semana Emprendedora Complutense, d\u00edas 18, 19 y 20. \u00a1Participa! </div></a></li><li class=\"sub_link\"><div class=\"num_not_portada\">4</div><a target=\"_blank\" href=\"http://biblioteca.ucm.es/blogs/Foliocomplutense/8672.php#.UyA-Jc4XetM\"><div class=\"not_ppales_titulo\">Mujeres en la Biblioteca Hist\u00f3rica: Mar\u00eda Sibylla Merian, la cient\u00edfica de las mariposas</div></a></li></ul><div class=\"wg_txt2\"><ul id=\"notiPortada2\"><li class=\"sub_link\"><div class=\"dot_not_portada\">&nbsp;</div><div class=\"not_secs_titulo\"><a target=\"_blank\" href=\"http://ceenvej.es/\">Ciclo de conferencias: Envejecimiento, Sociedad y Salud</a></div></li><li class=\"sub_link\"><div class=\"dot_not_portada\">&nbsp;</div><div class=\"not_secs_titulo\"><a target=\"_blank\" href=\"https://www.ucm.es/becas-iberoamerica-santander-universidades\">Becas Iberoam\u00e9rica para estudiantes de Grado. Hasta el 9 de abril</a></div></li><li class=\"sub_link\"><div class=\"dot_not_portada\">&nbsp;</div><div class=\"not_secs_titulo\"><a href=\"/noticias/el-patrimonio-complutense,-en-el-museo-de-la-evolucion-humana\">El patrimonio complutense, en el Museo de la Evoluci\u00f3n Humana</a></div></li><li class=\"sub_link\"><div class=\"dot_not_portada\">&nbsp;</div><div class=\"not_secs_titulo\"><a target=\"_blank\" href=\" http://www.ucm.es/convocatoria-web-ucm-12-3-2014-ct4-14\">Financiaci\u00f3n para la contrataci\u00f3n de personal investigador predoctoral en formaci\u00f3n</a></div></li><li class=\"sub_link\"><div class=\"dot_not_portada\">&nbsp;</div><div class=\"not_secs_titulo\"><a target=\"_blank\" href=\"http://www.flickr.com/photos/108559271@N02/sets/72157641892428923/\">Exposici\u00f3n 'Un paseo fotogr\u00e1fico por el Zoo de Madrid'. Hasta el 31 de marzo, en Veterinaria</a></div></li><li class=\"sub_link\"><div class=\"dot_not_portada\">&nbsp;</div><div class=\"not_secs_titulo\"><a target=\"_blank\" href=\"https://www.ucm.es/convocatorias-para-la-financiacion-de-grupos-de-investigacion\">Programa de financiaci\u00f3n de grupos de investigaci\u00f3n UCM </a></div></li><li class=\"sub_link\"><div class=\"dot_not_portada\">&nbsp;</div><div class=\"not_secs_titulo\"><a href=\"/noticias/convocadas-las-ayudas-extraordinarias-al-estudio-para-el-curso-2013-2014\">Convocadas las Ayudas Extraordinarias al Estudio para el curso 2013-2014</a></div></li></ul></div><div class=\"spacer\"></div><a href=\"/noticias\"><div class=\"masn_i\">M&aacute;s noticias</div></a><a href=\"http://www.ucm.es/rss/rss.php?weid=3\"><div class=\"masn_i\">RSS</div></a><a href=\"http://www.ucm.es/info/tribunacomplutense/\" target=\"_blank\"><div class=\"masn_d\">Tribuna Complutense</div></a><div class=\"spacer\"></div></div>\t</div>\n<a href=\"/contacto_ucm\">Contacto UCM</a><br/>\n<a href=\"/aviso-legal\">Aviso Legal</a><br/>\n<li id=\"162\"><a href=\"/e-sede\"><span class=\"menu2_linea1\">Sede</span><br/><span class=\"menu2_linea2\">Electr\u00f3nica</span></a></li>\n<li id=\"244\"><a href=\"ucm-en-linea\"><span class=\"menu2_linea1\">Servicios</span><br/><span class=\"menu2_linea2\">UCM en l\u00ednea</span></a></li>\n<li id=\"175\"><a href=\"/empleo-ucm\"><span class=\"menu2_linea1\">Empleo</span><br/><span class=\"menu2_linea2\">UCM</span></a></li>\n<li id=\"75\"><a href=\"/fundacion\"><span class=\"menu2_linea1\">Fundaci\u00f3n</span><br/><span class=\"menu2_linea2\">General</span></a></li>\n<li id=\"276\"><a href=\"http://www.ucm.es/cursosdeverano\"><span class=\"menu2_linea1\">Cursos</span><br/><span class=\"menu2_linea2\">de Verano</span></a></li>\n<li id=\"177\"><a href=\"http://www.fpcm.es/\"><span class=\"menu2_linea1\">Parque</span><br/><span class=\"menu2_linea2\">Cient\u00edfico</span></a></li>\n<li id=\"12\"><a href=\"http://www.universia.es/\"><span class=\"menu2_linea1\">Universia</span><br/><span class=\"menu2_linea2\">Espa\u00f1a</span></a></li>"
      }
     ], 
     "prompt_number": 38
    }, 
    {
     "cell_type": "markdown", 
     "source": "### Ejercicio:\n\nEscribe una funci\u00f3n `enlaces_html` que devuelva una lista con los string que aparecen como direcciones de p\u00e1ginas web en el c\u00f3digo de una p\u00e1gina. Una vez definida\ndeber\u00eda funcionar el c\u00f3digo de la siguiente celda:"
    }, 
    {
     "cell_type": "code", 
     "collapsed": false, 
     "input": "pagina=urllib2.urlopen('http://www.ucm.es')\ntexto=pagina.read()\npagina.close()\nenlaces(texto)", 
     "language": "python", 
     "outputs": [
      {
       "output_type": "pyout", 
       "prompt_number": 41, 
       "text": "['https://www.ucm.es/english',\n 'https://www.ucm.es/login_sso/',\n 'http://www.campusmoncloa.es/',\n 'http://biblioteca.ucm.es',\n 'http://www.ucm.es/ayudas-al-estudio',\n 'http://www.ucm.es/rss/rss.php?weid=3',\n 'http://www.ucm.es/info/tribunacomplutense/',\n 'http://www.ucm.es/cursosdeverano',\n 'http://www.fpcm.es/',\n 'http://www.universia.es/']"
      }
     ], 
     "prompt_number": 41
    }, 
    {
     "cell_type": "markdown", 
     "source": "Aprenderemos lo que significan los enlaces que empiezan por `/` \npor el momento una funci\u00f3n enlaces adecuada para convertirlos en direcciones aceptables para usar con `urlopen` funcionar\u00eda as\u00ed: "
    }, 
    {
     "cell_type": "code", 
     "collapsed": false, 
     "input": "enlaces(texto,'http://www.ucm.es')", 
     "language": "python", 
     "outputs": [
      {
       "output_type": "pyout", 
       "prompt_number": 43, 
       "text": "['https://www.ucm.es/english',\n 'https://www.ucm.es/login_sso/',\n 'http://www.ucm.es/buscador',\n 'http://www.campusmoncloa.es/',\n 'http://www.ucm.es/gobierno',\n 'http://www.ucm.es/centros',\n 'http://www.ucm.es/servicios_1',\n 'http://www.ucm.es/unidad-de-igualdad',\n 'http://www.ucm.es/estudios-ofertados',\n 'http://www.ucm.es/acceso',\n 'http://www.ucm.es/coie',\n 'http://www.ucm.es/becas-ayudas',\n 'http://www.ucm.es/investigar-investigacion',\n 'http://biblioteca.ucm.es',\n 'http://www.ucm.es/publicaciones_2',\n 'http://www.ucm.es/movilidad-mobility',\n 'http://www.ucm.es/convenios',\n 'http://www.ucm.es/programas-europeos',\n 'http://www.ucm.es/agenda-1',\n 'http://www.ucm.es/deportes_2',\n 'http://www.ucm.es/cultura_2',\n 'http://www.ucm.es/ayudas-al-estudio',\n 'http://www.ucm.es/noticias/biologos-complutense-concluyen-que-el-calentamiento-global-alterara-el-impacto-de-los-parasitos-sobre-la-fauna',\n 'http://www.ucm.es/noticias/el-patrimonio-complutense,-en-el-museo-de-la-evolucion-humana',\n 'http://www.ucm.es/noticias/convocadas-las-ayudas-extraordinarias-al-estudio-para-el-curso-2013-2014',\n 'http://www.ucm.es/noticias',\n 'http://www.ucm.es/rss/rss.php?weid=3',\n 'http://www.ucm.es/info/tribunacomplutense/',\n 'http://www.ucm.es/contacto_ucm',\n 'http://www.ucm.es/aviso-legal',\n 'http://www.ucm.es/e-sede',\n 'http://www.ucm.es/ucm-en-linea',\n 'http://www.ucm.es/empleo-ucm',\n 'http://www.ucm.es/fundacion',\n 'http://www.ucm.es/cursosdeverano',\n 'http://www.fpcm.es/',\n 'http://www.universia.es/']"
      }
     ], 
     "prompt_number": 43
    }, 
    {
     "cell_type": "code", 
     "collapsed": true, 
     "input": "", 
     "language": "python", 
     "outputs": []
    }
   ]
  }
 ]
}