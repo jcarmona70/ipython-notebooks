{
 "metadata": {
  "name": "Geometr\u00eda"
 }, 
 "nbformat": 2, 
 "worksheets": [
  {
   "cells": [
    {
     "cell_type": "code", 
     "collapsed": false, 
     "input": [
      "import math ", 
      "class Punto(object):", 
      "    def __init__(self,x,y):", 
      "        self.x=x", 
      "        self.y=y", 
      "    def vector_to(self,otro):", 
      "        return Vector(otro.x-self.x,otro.y-self.y)", 
      "    def __str__(self):", 
      "        return 'Punto('+str(self.x)+','+str(self.y)+')'", 
      "    def distancia(self,otro):", 
      "        return self.vector_to(otro).modulo()", 
      "", 
      "class Vector(object):", 
      "    def __init__(self,x,y):", 
      "        self.x=x", 
      "        self.y=y", 
      "    def escalar(self,otro):", 
      "        return self.x*otro.x+self.y*otro.y", 
      "    def modulo(self):", 
      "        return math.sqrt(self.escalar(self))", 
      "        "
     ], 
     "language": "python", 
     "outputs": [], 
     "prompt_number": 24
    }, 
    {
     "cell_type": "code", 
     "collapsed": false, 
     "input": [
      "p=Punto(2,3)", 
      "p.distancia(Punto(0,0))"
     ], 
     "language": "python", 
     "outputs": [
      {
       "output_type": "pyout", 
       "prompt_number": 26, 
       "text": [
        "3.605551275463989"
       ]
      }
     ], 
     "prompt_number": 26
    }, 
    {
     "cell_type": "code", 
     "collapsed": false, 
     "input": [
      "p"
     ], 
     "language": "python", 
     "outputs": [
      {
       "output_type": "pyout", 
       "prompt_number": 18, 
       "text": [
        "<__main__.Punto at 0x1b1d210>"
       ]
      }
     ], 
     "prompt_number": 18
    }, 
    {
     "cell_type": "code", 
     "collapsed": true, 
     "input": [
      "c=complex(2,3)"
     ], 
     "language": "python", 
     "outputs": [], 
     "prompt_number": 4
    }, 
    {
     "cell_type": "code", 
     "collapsed": false, 
     "input": [
      "p.s=9"
     ], 
     "language": "python", 
     "outputs": [], 
     "prompt_number": 27
    }, 
    {
     "cell_type": "code", 
     "collapsed": false, 
     "input": [
      "p"
     ], 
     "language": "python", 
     "outputs": [
      {
       "output_type": "pyout", 
       "prompt_number": 28, 
       "text": [
        "<__main__.Punto at 0x1b23610>"
       ]
      }
     ], 
     "prompt_number": 28
    }, 
    {
     "cell_type": "code", 
     "collapsed": false, 
     "input": [
      "print p"
     ], 
     "language": "python", 
     "outputs": [
      {
       "output_type": "stream", 
       "stream": "stdout", 
       "text": [
        "Punto(2,3)"
       ]
      }
     ], 
     "prompt_number": 29
    }, 
    {
     "cell_type": "code", 
     "collapsed": true, 
     "input": [], 
     "language": "python", 
     "outputs": []
    }
   ]
  }
 ]
}