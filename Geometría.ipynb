{
 "metadata": {
  "name": "Geometr\u00eda"
 }, 
 "nbformat": 2, 
 "worksheets": [
  {
   "cells": [
    {
     "cell_type": "code", 
     "collapsed": true, 
     "input": [
      "import math ", 
      "class Punto(object):", 
      "    def __init__(self,x,y):", 
      "        self.x=x", 
      "        self.y=y", 
      "    def vector_to(self,otro):", 
      "        return Vector(otro.x-self.x,otro.y-self.y)", 
      "    def __str__(self):", 
      "        return 'Punto('+str(self.x)+','+str(self.y)+')'", 
      "    def distancia(self,otro):", 
      "        return self.vector_to(otro).modulo()", 
      "", 
      "class Vector(object):", 
      "    def __init__(self,x,y):", 
      "        self.x=x", 
      "        self.y=y", 
      "    def escalar(self,otro):", 
      "        return self.x*otro.x+self.y*otro.y", 
      "    def modulo(self):", 
      "        return math.sqrt(self.escalar(self))", 
      "        "
     ], 
     "language": "python", 
     "outputs": [], 
     "prompt_number": 1
    }, 
    {
     "cell_type": "code", 
     "collapsed": false, 
     "input": [
      "p=Punto(2,3)", 
      "p.distancia(Punto(0,0))"
     ], 
     "language": "python", 
     "outputs": [
      {
       "output_type": "pyout", 
       "prompt_number": 2, 
       "text": [
        "3.605551275463989"
       ]
      }
     ], 
     "prompt_number": 2
    }, 
    {
     "cell_type": "code", 
     "collapsed": false, 
     "input": [
      "p"
     ], 
     "language": "python", 
     "outputs": [
      {
       "output_type": "pyout", 
       "prompt_number": 3, 
       "text": [
        "<__main__.Punto at 0x17b07d0>"
       ]
      }
     ], 
     "prompt_number": 3
    }, 
    {
     "cell_type": "code", 
     "collapsed": false, 
     "input": [
      "print p"
     ], 
     "language": "python", 
     "outputs": [
      {
       "output_type": "stream", 
       "stream": "stdout", 
       "text": [
        "Punto(2,3)"
       ]
      }
     ], 
     "prompt_number": 4
    }
   ]
  }
 ]
}