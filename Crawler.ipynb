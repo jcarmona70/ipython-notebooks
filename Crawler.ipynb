{
 "metadata": {
  "name": "Crawler"
 }, 
 "nbformat": 2, 
 "worksheets": [
  {
   "cells": [
    {
     "cell_type": "code", 
     "collapsed": false, 
     "input": [
      "import urllib2", 
      "import ssl", 
      "def root(s):", 
      "    #s es un strig que representa una direcci\u00f3n http, se queda con la ra\u00edz (incluyendo el caracter \"/\")", 
      "    x=s.find('//')", 
      "    final=s.find('/',x+2)", 
      "    if final==-1:", 
      "        return s+'/'", 
      "    else:", 
      "        return s[:final+1]", 
      "def path(s):", 
      "    #s es un strig que representa una direcci\u00f3n http", 
      "    #devuelve la ruta hasta el archivo representado por s (incluyendo el caracter \"/\")  ", 
      "    pos=len(s)-1", 
      "    while s[pos]!='/':", 
      "        pos=pos-1", 
      "    if s[pos-1]=='/':", 
      "        return s+'/'", 
      "    else:", 
      "        return s[:pos+1]", 
      "", 
      "def enlaces(s,url):", 
      "    #s es un string con el contenido de una p\u00e1gina html", 
      "    #url es un string que corresponde a la direcci\u00f3n de la p\u00e1gina (se usa para componer los enlaces absolutos a partir de los relativos)", 
      "    #devuelve una lista con todos los enlaces que aparecen en s", 
      "    raiz=root(url)", 
      "    camino=path(url)", 
      "    result=[]", 
      "    next_label=s.find('<a href')", 
      "    while next_label!=-1:", 
      "        inic_url=s.find(\"\\\"\",next_label)+1", 
      "        fin_url=s.find(\"\\\"\",inic_url)", 
      "        enlace=s[inic_url:fin_url]", 
      "    ", 
      "        if enlace[0:4]=='http':", 
      "          result.append(s[inic_url:fin_url])", 
      "        elif len(enlace)>0 and enlace[0]=='/':", 
      "          result.append(raiz+enlace[1:])", 
      "        #else:", 
      "        #  result.append(camino+s[inic_url:fin_url])  ", 
      "        next_label=s.find('<a href',fin_url)", 
      "    return result", 
      "", 
      "def quita_labels(s):", 
      "    #s es un string con el contenido de una p\u00e1gina html", 
      "    #devuelve el resultado de eliminar las etiquetas html de s", 
      "    escribir=True", 
      "    result=''", 
      "    for c in s:", 
      "        if c=='<':", 
      "            escribir=False", 
      "            result=result+' '", 
      "        elif c=='>':", 
      "            escribir=True", 
      "        else:", 
      "            if escribir:", 
      "                result=result+c", 
      "    return result", 
      "", 
      "def es_letra(c):", 
      "    #nos dice si un caracter es una letra", 
      "    return c not in string.punctuation and c not in string.whitespace and c not in string.digits", 
      "", 
      "def palabras(s):", 
      "    #s es un string ", 
      "    #devuelve una lista con todas las palabras de s", 
      "    limpio=quita_labels(s)", 
      "    pos=0", 
      "    result=[]", 
      "    while pos<len(s) and not es_letra(s[pos]):", 
      "        pos=pos+1", 
      "    while pos<len(s):", 
      "        inic=pos", 
      "        while pos<len(s) and es_letra(s[pos]):", 
      "            pos=pos+1", 
      "        palabra=s[inic:pos].lower()", 
      "        if palabra not in result:", 
      "            result.append(palabra)", 
      "        while pos<len(s) and not es_letra(s[pos]):", 
      "            pos=pos+1", 
      "    return result", 
      "", 
      "", 
      "def busca_bin(ind,palabra):", 
      "    #ind es un \u00edndice", 
      "    #devueve un par esta,pos", 
      "    # esta es un booleano que nos indica si la palabra est\u00e1 en el \u00edndice", 
      "    # pos indica: la posici\u00f3n de la palabra en el \u00edndice (si est\u00e1) o", 
      "    #             la posici\u00f3n que ocupar\u00eda palabra en \u00edndica (si no est\u00e1)", 
      "    i=0", 
      "    j=len(ind)-1", 
      "    while i<=j:", 
      "        med=(i+j)/2", 
      "        if ind[med][0]>=palabra:", 
      "            j=med-1", 
      "        else:", 
      "            i=med+1", 
      "    return (i<len(ind) and ind[i][0]==palabra),i", 
      "", 
      "", 
      "", 
      "", 
      "", 
      "def aniadir(ind,palabra,pagina):", 
      "    #a\u00f1ade el par palabra,pagina al \u00edndice", 
      "    esta,pos=busca_bin(ind,palabra)", 
      "    if esta:", 
      "        ind[pos][1].append(pagina)", 
      "    else:", 
      "        ind.insert(pos,[palabra,[pagina]])", 
      "    ", 
      "    ", 
      "def visita_paginas(visitadas,por_visitar,rotos,dic,max):", 
      "    while len(por_visitar)!=0 and len(visitadas)<max:", 
      "        actual=por_visitar[0]", 
      "        del por_visitar[0]", 
      "        visitadas.append(actual)", 
      "        try:", 
      "            pag=urllib2.urlopen(actual,timeout=10)", 
      "            contenido=pag.read()", 
      "            pag.close()", 
      "            links=enlaces(contenido,actual)", 
      "            words=palabras(contenido)", 
      "            for l in links:", 
      "                if l not in visitadas and l not in por_visitar and l not in rotos:", 
      "                    por_visitar.append(l)", 
      "            for p in words:", 
      "                aniadir(dic,p,actual)", 
      "            #print 'visitadas:',len(visitadas)", 
      "        except (urllib2.HTTPError,ssl.SSLError,urllib2.URLError) as e:", 
      "            rotos.append(actual)", 
      "def busca(palabra,indice):", 
      "    esta,pos=busca_bin(indice,palabra)", 
      "    if esta:", 
      "        return indice[pos][1]", 
      "    else:", 
      "        return []", 
      "    "
     ], 
     "language": "python", 
     "outputs": [], 
     "prompt_number": 30
    }, 
    {
     "cell_type": "code", 
     "collapsed": false, 
     "input": [
      "path('http://www.ucm.es/hola/pepe'),root('http://www.ucm.es/hola/')"
     ], 
     "language": "python", 
     "outputs": [
      {
       "output_type": "pyout", 
       "prompt_number": 5, 
       "text": [
        "('http://www.ucm.es/hola/', 'http://www.ucm.es/')"
       ]
      }
     ], 
     "prompt_number": 5
    }, 
    {
     "cell_type": "code", 
     "collapsed": false, 
     "input": [
      "visitadas=[]", 
      "por_visitar=['http://www.ucm.es/','http://holaprimo']", 
      "rotos=[]", 
      "dic=[]", 
      "visita_paginas(visitadas,por_visitar,rotos,dic,10)"
     ], 
     "language": "python", 
     "outputs": [], 
     "prompt_number": 34
    }, 
    {
     "cell_type": "code", 
     "collapsed": true, 
     "input": [
      "visita_paginas(visitadas,por_visitar,rotos,dic,100)"
     ], 
     "language": "python", 
     "outputs": [], 
     "prompt_number": 37
    }, 
    {
     "cell_type": "code", 
     "collapsed": false, 
     "input": [
      "", 
      "busca('grado',dic)"
     ], 
     "language": "python", 
     "outputs": [
      {
       "output_type": "pyout", 
       "prompt_number": 38, 
       "text": [
        "['http://www.ucm.es/',", 
        " 'http://www.ucm.es/buscador',", 
        " 'http://www.ucm.es/gobierno',", 
        " 'http://www.ucm.es/centros',", 
        " 'http://www.ucm.es/servicios_1',", 
        " 'http://www.ucm.es/unidad-de-igualdad',", 
        " 'http://www.ucm.es/estudios-ofertados',", 
        " 'http://www.ucm.es/acceso',", 
        " 'http://www.ucm.es/coie',", 
        " 'http://www.ucm.es/becas-ayudas',", 
        " 'http://www.ucm.es/investigar-investigacion',", 
        " 'http://biblioteca.ucm.es',", 
        " 'http://www.ucm.es/publicaciones_2',", 
        " 'http://www.ucm.es/movilidad-mobility',", 
        " 'http://www.ucm.es/convenios',", 
        " 'http://www.ucm.es/programas-europeos',", 
        " 'http://www.ucm.es/agenda-1',", 
        " 'http://www.ucm.es/deportes_2',", 
        " 'http://www.ucm.es/cultura_2',", 
        " 'http://www.ucm.es/ayudas-al-estudio',", 
        " 'http://www.ucm.es/noticias',", 
        " 'http://www.ucm.es/contacto_ucm',", 
        " 'http://www.ucm.es/aviso-legal',", 
        " 'http://www.ucm.es/e-sede',", 
        " 'http://www.ucm.es/empleo-ucm',", 
        " 'http://www.ucm.es/fundacion',", 
        " 'http://www.ucm.es/cursosdeverano',", 
        " 'http://www.universia.es/',", 
        " 'https://www.ucm.es/',", 
        " 'https://www.ucm.es/english/study-programmes',", 
        " 'https://biblioteca.ucm.es/',", 
        " 'https://www.ucm.es/empleo-ucm',", 
        " 'http://www.ucm.es',", 
        " 'http://www.ucm.es/buscador/avanzada',", 
        " 'http://www.upm.es',", 
        " 'http://www.ucm.es/laucm',", 
        " 'http://www.ucm.es/componentes-del-consejo-de-gobierno',", 
        " 'http://www.ucm.es/acuerdos-del-pleno-del-consejo-social',", 
        " 'http://www.ucm.es/legislacion-2',", 
        " 'http://www.ucm.es/secretaria-del-consejo-social-',", 
        " 'http://www.ucm.es/organizacion-consejo-social',", 
        " 'http://www.ucm.es/area-disiciplinaria',", 
        " 'http://www.ucm.es/area-de-seguimiento',", 
        " 'http://www.ucm.es/noticias-1',", 
        " 'http://www.ucm.es/contacto',", 
        " 'https://www.ucm.es/ccee',", 
        " 'http://www.ucm.es/alumnos',", 
        " 'http://www.ucm.es/unidad-tecnica-de-mejora-de-los-servicios',", 
        " 'http://www.ucm.es/departamento-de-estudios-e-imagen-corporativa',", 
        " 'http://www.ucm.es/servicios-internos-ucm',", 
        " 'http://www.ucm.es/data/cont/media/www/pag-1465/D&iacute;ptico%20definitivo%20PDF%20Sexualidad%20y%20G&eacute;nero%2022,29%20abril%206,13%20mayo.pdf',", 
        " 'http://www.ucm.es/data/cont/media/www/pag-1465/6%20de%20junio%202014%20PREVENCION%20MUTILACI&Oacute;N%20GENITAL.pdf',", 
        " 'http://www.ucm.es/data/cont/media/www/pag-1465/GU&Iacute;A_DEFINITIVA.pdf',", 
        " 'http://www.ucm.es/data/cont/media/www/pag-1465/Expo%20Cartel%20s&oacute;lo%20Unidad%20de%20Igualdad.JPG',", 
        " 'http://www.ucm.es/data/cont/media/www/pag-1465/cartel_todas%20las%20fac%20LAS%20MAESTRAS%20DE%20LA%20REP&Uacute;BLICA.pdf',", 
        " 'http://www.ucm.es/data/cont/media/www/pag-1465/d&iacute;ptico%20Igualdad,%20Nuevos%20Modelos%20Sociales%20Mujeres%20y%20Hombres%20abril%202014.pdf',", 
        " 'http://www.ucm.es/estudiar',", 
        " 'http://www.ucm.es/universidades-norteamericanas-reunidas',", 
        " 'https://www.facebook.com/pages/COIE-Centro-de-Orientaci%C3%B3n-e-Informaci%C3%B3n-de-Empleo-UCM/257887614257008']"
       ]
      }
     ], 
     "prompt_number": 38
    }, 
    {
     "cell_type": "code", 
     "collapsed": false, 
     "input": [
      "pagina=urllib2.urlopen('mi.casa')"
     ], 
     "language": "python", 
     "outputs": [
      {
       "ename": "ValueError", 
       "evalue": "unknown url type: mi.casa", 
       "output_type": "pyerr", 
       "traceback": [
        "\u001b[0;31m---------------------------------------------------------------------------\u001b[0m\n\u001b[0;31mValueError\u001b[0m                                Traceback (most recent call last)", 
        "\u001b[0;32m/home/jcarmona/ipython-notebooks/<ipython-input-39-8f48f1ac9012>\u001b[0m in \u001b[0;36m<module>\u001b[0;34m()\u001b[0m\n\u001b[0;32m----> 1\u001b[0;31m \u001b[0mpagina\u001b[0m\u001b[0;34m=\u001b[0m\u001b[0murllib2\u001b[0m\u001b[0;34m.\u001b[0m\u001b[0murlopen\u001b[0m\u001b[0;34m(\u001b[0m\u001b[0;34m'mi.casa'\u001b[0m\u001b[0;34m)\u001b[0m\u001b[0;34m\u001b[0m\u001b[0m\n\u001b[0m", 
        "\u001b[0;32m/usr/lib/python2.7/urllib2.pyc\u001b[0m in \u001b[0;36murlopen\u001b[0;34m(url, data, timeout)\u001b[0m\n\u001b[1;32m    124\u001b[0m     \u001b[0;32mif\u001b[0m \u001b[0m_opener\u001b[0m \u001b[0;32mis\u001b[0m \u001b[0mNone\u001b[0m\u001b[0;34m:\u001b[0m\u001b[0;34m\u001b[0m\u001b[0m\n\u001b[1;32m    125\u001b[0m         \u001b[0m_opener\u001b[0m \u001b[0;34m=\u001b[0m \u001b[0mbuild_opener\u001b[0m\u001b[0;34m(\u001b[0m\u001b[0;34m)\u001b[0m\u001b[0;34m\u001b[0m\u001b[0m\n\u001b[0;32m--> 126\u001b[0;31m     \u001b[0;32mreturn\u001b[0m \u001b[0m_opener\u001b[0m\u001b[0;34m.\u001b[0m\u001b[0mopen\u001b[0m\u001b[0;34m(\u001b[0m\u001b[0murl\u001b[0m\u001b[0;34m,\u001b[0m \u001b[0mdata\u001b[0m\u001b[0;34m,\u001b[0m \u001b[0mtimeout\u001b[0m\u001b[0;34m)\u001b[0m\u001b[0;34m\u001b[0m\u001b[0m\n\u001b[0m\u001b[1;32m    127\u001b[0m \u001b[0;34m\u001b[0m\u001b[0m\n\u001b[1;32m    128\u001b[0m \u001b[0;32mdef\u001b[0m \u001b[0minstall_opener\u001b[0m\u001b[0;34m(\u001b[0m\u001b[0mopener\u001b[0m\u001b[0;34m)\u001b[0m\u001b[0;34m:\u001b[0m\u001b[0;34m\u001b[0m\u001b[0m\n", 
        "\u001b[0;32m/usr/lib/python2.7/urllib2.pyc\u001b[0m in \u001b[0;36mopen\u001b[0;34m(self, fullurl, data, timeout)\u001b[0m\n\u001b[1;32m    390\u001b[0m \u001b[0;34m\u001b[0m\u001b[0m\n\u001b[1;32m    391\u001b[0m         \u001b[0mreq\u001b[0m\u001b[0;34m.\u001b[0m\u001b[0mtimeout\u001b[0m \u001b[0;34m=\u001b[0m \u001b[0mtimeout\u001b[0m\u001b[0;34m\u001b[0m\u001b[0m\n\u001b[0;32m--> 392\u001b[0;31m         \u001b[0mprotocol\u001b[0m \u001b[0;34m=\u001b[0m \u001b[0mreq\u001b[0m\u001b[0;34m.\u001b[0m\u001b[0mget_type\u001b[0m\u001b[0;34m(\u001b[0m\u001b[0;34m)\u001b[0m\u001b[0;34m\u001b[0m\u001b[0m\n\u001b[0m\u001b[1;32m    393\u001b[0m \u001b[0;34m\u001b[0m\u001b[0m\n\u001b[1;32m    394\u001b[0m         \u001b[0;31m# pre-process request\u001b[0m\n\u001b[0;34m\u001b[0m\u001b[0m\n", 
        "\u001b[0;32m/usr/lib/python2.7/urllib2.pyc\u001b[0m in \u001b[0;36mget_type\u001b[0;34m(self)\u001b[0m\n\u001b[1;32m    252\u001b[0m             \u001b[0mself\u001b[0m\u001b[0;34m.\u001b[0m\u001b[0mtype\u001b[0m\u001b[0;34m,\u001b[0m \u001b[0mself\u001b[0m\u001b[0;34m.\u001b[0m\u001b[0m__r_type\u001b[0m \u001b[0;34m=\u001b[0m \u001b[0msplittype\u001b[0m\u001b[0;34m(\u001b[0m\u001b[0mself\u001b[0m\u001b[0;34m.\u001b[0m\u001b[0m__original\u001b[0m\u001b[0;34m)\u001b[0m\u001b[0;34m\u001b[0m\u001b[0m\n\u001b[1;32m    253\u001b[0m             \u001b[0;32mif\u001b[0m \u001b[0mself\u001b[0m\u001b[0;34m.\u001b[0m\u001b[0mtype\u001b[0m \u001b[0;32mis\u001b[0m \u001b[0mNone\u001b[0m\u001b[0;34m:\u001b[0m\u001b[0;34m\u001b[0m\u001b[0m\n\u001b[0;32m--> 254\u001b[0;31m                 \u001b[0;32mraise\u001b[0m \u001b[0mValueError\u001b[0m\u001b[0;34m,\u001b[0m \u001b[0;34m\"unknown url type: %s\"\u001b[0m \u001b[0;34m%\u001b[0m \u001b[0mself\u001b[0m\u001b[0;34m.\u001b[0m\u001b[0m__original\u001b[0m\u001b[0;34m\u001b[0m\u001b[0m\n\u001b[0m\u001b[1;32m    255\u001b[0m         \u001b[0;32mreturn\u001b[0m \u001b[0mself\u001b[0m\u001b[0;34m.\u001b[0m\u001b[0mtype\u001b[0m\u001b[0;34m\u001b[0m\u001b[0m\n\u001b[1;32m    256\u001b[0m \u001b[0;34m\u001b[0m\u001b[0m\n", 
        "\u001b[0;31mValueError\u001b[0m: unknown url type: mi.casa"
       ]
      }
     ], 
     "prompt_number": 39
    }, 
    {
     "cell_type": "code", 
     "collapsed": false, 
     "input": [
      "rotos"
     ], 
     "language": "python", 
     "outputs": [
      {
       "output_type": "pyout", 
       "prompt_number": 33, 
       "text": [
        "['http://holaprimo']"
       ]
      }
     ], 
     "prompt_number": 33
    }, 
    {
     "cell_type": "code", 
     "collapsed": false, 
     "input": [
      "try:", 
      "    pagina=urllib2.urlopen('http://miprimo.es',timeout=5)", 
      "    contenido=pagina.read()", 
      "    print contenido", 
      "    ", 
      "except (urllib2.HTTPError,ssl.SSLError,urllib2.URLError) as e:", 
      "    print 'no existe http://miprimo.es'"
     ], 
     "language": "python", 
     "outputs": [
      {
       "output_type": "stream", 
       "stream": "stdout", 
       "text": [
        "no existe http://miprimo.es"
       ]
      }
     ], 
     "prompt_number": 41
    }, 
    {
     "cell_type": "code", 
     "collapsed": true, 
     "input": [], 
     "language": "python", 
     "outputs": []
    }
   ]
  }
 ]
}