{
 "metadata": {
<<<<<<< HEAD
  "name": "Untitled3"
 }, 
 "nbformat": 2, 
 "worksheets": []
=======
  "name": ""
 },
 "nbformat": 3,
 "nbformat_minor": 0,
 "worksheets": [
  {
   "cells": [
    {
     "cell_type": "code",
     "collapsed": false,
     "input": [
      "import urllib"
     ],
     "language": "python",
     "metadata": {},
     "outputs": [],
     "prompt_number": 1
    },
    {
     "cell_type": "code",
     "collapsed": false,
     "input": [
      "def enlaces(s,root):\n",
      "    result=[]\n",
      "    next_label=s.find('<a href')\n",
      "    while next_label!=-1:\n",
      "        inic_url=s.find(\"\\\"\",next_label)+1\n",
      "        fin_url=s.find(\"\\\"\",inic_url)\n",
      "        enlace=s[inic_url:fin_url]\n",
      "        if enlace[0:4]=='http':\n",
      "          result.append(enlace)\n",
      "        elif enlace[0]=='/':\n",
      "           result.append(root+enlace)\n",
      "        #    else:\n",
      "        #       result.append(root+enlace)\n",
      "        #else:\n",
      "        #  result.append(root+'/'+s[inic_url:fin_url])  \n",
      "        next_label=s.find('<a href',fin_url)\n",
      "    return result\n",
      "\n",
      "def root(url):\n",
      "    inic=url.find('//')\n",
      "    siguiente_barra=url.find('/',inic+2)\n",
      "    return url[:siguiente_barra]\n",
      "    \n",
      "def aniadir_enlaces(leidas,por_leer,url):\n",
      "    pagina=urllib.urlopen(url)\n",
      "    #pagina=urllib.urlopen('http://www.ucm.es')\n",
      "    texto=pagina.read()\n",
      "    pagina.close()\n",
      "    new_enlaces=enlaces(texto,root(url))\n",
      "    for link in new_enlaces:\n",
      "       if link not in leidas and link not in por_leer:\n",
      "          por_leer.append(link)\n",
      "\n",
      "def crawler(leidas,por_leer):\n",
      "    while len(por_leer)!=0 and len(leidas)<100:\n",
      "        url=por_leer[0]\n",
      "        #print len(leidas),len(por_leer)\n",
      "        aniadir_enlaces(leidas,por_leer,url)\n",
      "        leidas.append(url)\n",
      "        por_leer.pop(0)"
     ],
     "language": "python",
     "metadata": {},
     "outputs": [],
     "prompt_number": 3
    },
    {
     "cell_type": "code",
     "collapsed": false,
     "input": [
      "leidas=[]\n",
      "por_leer=['http://www.es.wikipedia.org/']\n",
      "crawler(leidas,por_leer)"
     ],
     "language": "python",
     "metadata": {},
     "outputs": [],
     "prompt_number": "*"
    },
    {
     "cell_type": "code",
     "collapsed": false,
     "input": [
      "len(por_leer),len(leidas)"
     ],
     "language": "python",
     "metadata": {},
     "outputs": [
      {
       "metadata": {},
       "output_type": "pyout",
       "prompt_number": 70,
       "text": [
        "(22264, 73)"
       ]
      }
     ],
     "prompt_number": 70
    },
    {
     "cell_type": "code",
     "collapsed": false,
     "input": [
      "for pag in leidas:\n",
      "    print pag"
     ],
     "language": "python",
     "metadata": {},
     "outputs": [
      {
       "output_type": "stream",
       "stream": "stdout",
       "text": [
        "http://www.es.wikipedia.org/\n",
        "http://www.es.wikipedia.org/wiki/Wikipedia:Bienvenidos\n",
        "http://www.es.wikipedia.org/wiki/Wikipedia\n",
        "http://www.es.wikipedia.org/wiki/Enciclopedia\n",
        "http://www.es.wikipedia.org/wiki/Contenido_libre\n",
        "http://www.es.wikipedia.org/wiki/Ayuda:Introducci%C3%B3n\n",
        "http://www.es.wikipedia.org/wiki/Wikipedia:Contacto\n",
        "http://www.es.wikipedia.org//wikimediafoundation.org/wiki/Donaciones\n",
        "http://www.es.wikipedia.org/wiki/Wikipedia:Libro_de_visitas\n",
        "http://www.es.wikipedia.org/wiki/Tiempo_universal_coordinado\n",
        "http://www.es.wikipedia.org/wiki/S%C3%A1bado\n",
        "http://www.es.wikipedia.org/wiki/8_de_marzo\n",
        "http://www.es.wikipedia.org/wiki/2014\n",
        "http://www.es.wikipedia.org/wiki/Especial:Estad%C3%ADsticas\n",
        "http://www.es.wikipedia.org/wiki/Wikipedia_en_espa%C3%B1ol\n",
        "http://www.es.wikipedia.org/wiki/Wikipedia:Wikiproyectos\n",
        "http://www.es.wikipedia.org/wiki/Portal:Comunidad\n",
        "http://www.es.wikipedia.org/wiki/Ayuda:C%C3%B3mo_puedes_colaborar\n",
        "http://www.es.wikipedia.org/wiki/Wikipedia:Bienvenidos_profesores\n",
        "http://www.es.wikipedia.org/wiki/Wikipedia:Bienvenidos_alumnos\n",
        "http://www.es.wikipedia.org/wiki/Ayuda:Tutorial\n",
        "http://www.es.wikipedia.org/wiki/Ayuda:Contenidos\n",
        "http://www.es.wikipedia.org/wiki/Wikipedia:Caf%C3%A9\n",
        "http://www.es.wikipedia.org/wiki/Ayuda:Preguntas_frecuentes\n",
        "http://www.es.wikipedia.org/wiki/Wikipedia:Los_cinco_pilares\n",
        "http://www.es.wikipedia.org/wiki/Especial:Buscar\n",
        "http://www.es.wikipedia.org/wiki/Wikipedia:Consultas\n",
        "http://www.es.wikipedia.org/wiki/Categor%C3%ADa:%C3%8Dndice_de_categor%C3%ADas\n",
        "http://www.es.wikipedia.org/wiki/Especial:Categor%C3%ADas\n",
        "http://www.es.wikipedia.org/wiki/Wikipedia:%C3%8Dndice_alfab%C3%A9tico\n",
        "http://www.es.wikipedia.org/wiki/Especial:Todas\n",
        "http://www.es.wikipedia.org/wiki/Portal:Portada\n",
        "http://www.es.wikipedia.org/wiki/Wikipedia:Contenidos\n",
        "http://www.es.wikipedia.org/wiki/Wikipedia:Art%C3%ADculos_destacados\n",
        "http://www.es.wikipedia.org/wiki/Archivo:Ahfaz_farmers1.jpg\n",
        "http://www.es.wikipedia.org/wiki/Revoluci%C3%B3n_Cultural\n",
        "http://www.es.wikipedia.org/wiki/Caracteres_chinos_simplificados\n",
        "http://www.es.wikipedia.org/wiki/Caracteres_chinos_tradicionales\n",
        "http://www.es.wikipedia.org/wiki/Pinyin\n",
        "http://www.es.wikipedia.org/wiki/Rep%C3%BAblica_Popular_China\n",
        "http://www.es.wikipedia.org/wiki/Partido_Comunista_de_China\n",
        "http://www.es.wikipedia.org/wiki/Mao_Zedong\n",
        "http://www.es.wikipedia.org/wiki/1966\n",
        "http://www.es.wikipedia.org/wiki/Capitalismo\n",
        "http://www.es.wikipedia.org/wiki/Guerra_Civil_China\n",
        "http://www.es.wikipedia.org/wiki/Banda_de_los_Cuatro\n",
        "http://www.es.wikipedia.org/wiki/Guardias_rojos_(China)\n",
        "http://www.es.wikipedia.org/wiki/Liu_Shaoqi\n",
        "http://www.es.wikipedia.org/wiki/Peng_Zhen\n",
        "http://www.es.wikipedia.org/wiki/Deng_Xiaoping\n",
        "http://www.es.wikipedia.org/wiki/Partido_Comunista_Chino\n",
        "http://www.es.wikipedia.org/wiki/Socialismo_con_caracter%C3%ADsticas_chinas\n",
        "http://www.es.wikipedia.org/wiki/Astorga\n",
        "http://www.es.wikipedia.org/wiki/Portu%C3%B1ol_riverense\n",
        "http://www.es.wikipedia.org/wiki/Robert_Oppenheimer\n",
        "http://www.es.wikipedia.org/wiki/Wikipedia:Art%C3%ADculos_buenos\n",
        "http://www.es.wikipedia.org/wiki/Don%27t_Let_Me_Be_the_Last_to_Know\n",
        "http://www.es.wikipedia.org/wiki/Idioma_espa%C3%B1ol\n",
        "http://www.es.wikipedia.org/wiki/Balada\n",
        "http://www.es.wikipedia.org/wiki/Pop\n",
        "http://www.es.wikipedia.org/wiki/Oriente\n",
        "http://www.es.wikipedia.org/wiki/Britney_Spears\n",
        "http://www.es.wikipedia.org/wiki/Oops!..._I_Did_It_Again\n",
        "http://www.es.wikipedia.org/wiki/Robert_Lange\n",
        "http://www.es.wikipedia.org/wiki/Composici%C3%B3n_musical\n",
        "http://www.es.wikipedia.org/wiki/Shania_Twain\n",
        "http://www.es.wikipedia.org/wiki/Keith_Scott\n",
        "http://www.es.wikipedia.org/wiki/Productor_discogr%C3%A1fico\n",
        "http://www.es.wikipedia.org/wiki/Letra_(m%C3%BAsica)\n",
        "http://www.es.wikipedia.org/wiki/Born_to_Make_You_Happy\n",
        "http://www.es.wikipedia.org/wiki/Conquista_normanda_de_Inglaterra\n",
        "http://www.es.wikipedia.org/wiki/Directorio_de_Omsk\n",
        "http://www.es.wikipedia.org/wiki/British_Airways\n"
       ]
      }
     ],
     "prompt_number": 72
    },
    {
     "cell_type": "code",
     "collapsed": false,
     "input": [
      "pagina=urllib.urlopen('http://www.es.wikipedia.org/')"
     ],
     "language": "python",
     "metadata": {},
     "outputs": [],
     "prompt_number": 51
    },
    {
     "cell_type": "code",
     "collapsed": false,
     "input": [
      "pagina=urllib.urlopen('https://www.ucm.es/unidad-de-igualdad/data/cont/media/www/pag-1465/d&iacute;ptico%20Igualdad,%20Nuevos%20Modelos%20Sociales%20Mujeres%20y%20Hombres%20abril%202014.pdf')"
     ],
     "language": "python",
     "metadata": {},
     "outputs": [],
     "prompt_number": 19
    },
    {
     "cell_type": "code",
     "collapsed": false,
     "input": [
      "texto=pagina.read()"
     ],
     "language": "python",
     "metadata": {},
     "outputs": [],
     "prompt_number": 52
    },
    {
     "cell_type": "code",
     "collapsed": false,
     "input": [
      "leidas"
     ],
     "language": "python",
     "metadata": {},
     "outputs": [
      {
       "metadata": {},
       "output_type": "pyout",
       "prompt_number": 54,
       "text": [
        "['http://www.es.wikipedia.org/',\n",
        " 'http://es.wikipedia.org/w/index.php?title=Wikipedia:Portada&amp;oldid=71839444']"
       ]
      }
     ],
     "prompt_number": 54
    },
    {
     "cell_type": "code",
     "collapsed": false,
     "input": [
      "'abcdee'.find('ee')"
     ],
     "language": "python",
     "metadata": {},
     "outputs": [
      {
       "metadata": {},
       "output_type": "pyout",
       "prompt_number": 55,
       "text": [
        "4"
       ]
      }
     ],
     "prompt_number": 55
    },
    {
     "cell_type": "code",
     "collapsed": false,
     "input": [],
     "language": "python",
     "metadata": {},
     "outputs": []
    }
   ],
   "metadata": {}
  }
 ]
>>>>>>> 1cc81c3a5282ecbc468884fda5337e338835026d
}