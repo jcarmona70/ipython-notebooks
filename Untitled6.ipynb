{
 "metadata": {
  "name": "Untitled6"
 }, 
 "nbformat": 2, 
 "worksheets": [
  {
   "cells": [
    {
     "cell_type": "code", 
     "collapsed": true, 
     "input": [
      "def devuelve_cambio(monedas,cambio):", 
      "    if len(monedas)==0:", 
      "        return cambio==0,[]", 
      "    elif cambio<=0:", 
      "        return False,[]", 
      "    else:", 
      "         posible,sol=devuelve_cambio(monedas[1:],cambio-monedas[0])", 
      "         if posible:", 
      "                return posible,[monedas[0]]+sol", 
      "         else:", 
      "                posible,sol=devuelve_cambio(monedas[1:],cambio)", 
      "                if posible:", 
      "                     return posible,sol", 
      "                else:", 
      "                    return posible,[]"
     ], 
     "language": "python", 
     "outputs": [], 
     "prompt_number": 3
    }, 
    {
     "cell_type": "code", 
     "collapsed": false, 
     "input": [
      "devuelve_cambio([50,20,20,20,2,2,2,2,2],60)"
     ], 
     "language": "python", 
     "outputs": [
      {
       "output_type": "pyout", 
       "prompt_number": 5, 
       "text": [
        "(True, [50, 2, 2, 2, 2, 2])"
       ]
      }
     ], 
     "prompt_number": 5
    }, 
    {
     "cell_type": "code", 
     "collapsed": true, 
     "input": [], 
     "language": "python", 
     "outputs": []
    }
   ]
  }
 ]
}