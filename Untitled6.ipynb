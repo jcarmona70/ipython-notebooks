{
 "metadata": {
  "name": ""
 },
 "nbformat": 3,
 "nbformat_minor": 0,
 "worksheets": [
  {
   "cells": [
    {
     "cell_type": "code",
     "collapsed": false,
     "input": [
      "s=raw_input('Hola')"
     ],
     "language": "python",
     "metadata": {},
     "outputs": [
      {
       "name": "stdout",
       "output_type": "stream",
       "stream": "stdout",
       "text": [
        "Holapepe\n"
       ]
      }
     ],
     "prompt_number": 1
    },
    {
     "cell_type": "code",
     "collapsed": false,
     "input": [
      "s"
     ],
     "language": "python",
     "metadata": {},
     "outputs": [
      {
       "metadata": {},
       "output_type": "pyout",
       "prompt_number": 2,
       "text": [
        "'pepe'"
       ]
      }
     ],
     "prompt_number": 2
    },
    {
     "cell_type": "code",
     "collapsed": false,
     "input": [
      "fichero=open('lista.txt','r')"
     ],
     "language": "python",
     "metadata": {},
     "outputs": [],
     "prompt_number": 3
    },
    {
     "cell_type": "code",
     "collapsed": false,
     "input": [
      "l=fichero.readlines()"
     ],
     "language": "python",
     "metadata": {},
     "outputs": [],
     "prompt_number": 4
    },
    {
     "cell_type": "code",
     "collapsed": false,
     "input": [
      "palabras=[]\n",
      "for linea in l:\n",
      "    palabras.extend(linea.split())"
     ],
     "language": "python",
     "metadata": {},
     "outputs": [],
     "prompt_number": 5
    },
    {
     "cell_type": "code",
     "collapsed": false,
     "input": [
      "len(palabras)"
     ],
     "language": "python",
     "metadata": {},
     "outputs": [
      {
       "metadata": {},
       "output_type": "pyout",
       "prompt_number": 6,
       "text": [
        "1250793"
       ]
      }
     ],
     "prompt_number": 6
    },
    {
     "cell_type": "code",
     "collapsed": false,
     "input": [
      "def quicksort(l,i,j):\n",
      "    if i<j:\n",
      "        p=pivotar(l,i,j)\n",
      "        quicksort(l,i,p-1)\n",
      "        quicksort(l,p+1,j)\n",
      "def pivotar(l,i,j):\n",
      "    #recoloca los elementos de l entre i..j\n",
      "    #coloca l[i] en la posicion p \n",
      "    #los menores que l[i] van en las posiciones i..p-1, y los mayores entre p+1..j\n",
      "    e=l[i]\n",
      "    p=i\n",
      "    b=j\n",
      "    #lo que sigue se cumple antes de entrar y al terminar cada paso del bucle:\n",
      "    #l[p]=e\n",
      "    #para i<=k<p l[k]<=e\n",
      "    #para b<k<=j l[k]>e\n",
      "    while b>p:\n",
      "        if l[p+1]>e:\n",
      "            l[p+1],l[b]=l[b],l[p+1]\n",
      "            b=b-1\n",
      "        elif l[p+1]<e:\n",
      "             l[p],l[p+1]=l[p+1],l[p]\n",
      "             p=p+1\n",
      "        else:\n",
      "            p=p+1\n",
      "    return p"
     ],
     "language": "python",
     "metadata": {},
     "outputs": [],
     "prompt_number": 11
    },
    {
     "cell_type": "code",
     "collapsed": false,
     "input": [
      "quicksort(palabras,0,len(l)-1)"
     ],
     "language": "python",
     "metadata": {},
     "outputs": [],
     "prompt_number": 12
    },
    {
     "cell_type": "code",
     "collapsed": false,
     "input": [
      "def my_split(s,sep):\n",
      "    result=[]\n",
      "    pos=0\n",
      "    while pos<len(s):\n",
      "        #nos colcamos en la siguiente letra (siguiente no separador)\n",
      "        while pos<len(s) and s[pos] in sep:\n",
      "            pos=pos+1\n",
      "        #palabra=''\n",
      "        #while pos<len(s) and s[pos] not in sep:\n",
      "        #    palabra=palabra+s[pos]\n",
      "        #    pos=pos+1\n",
      "        #if palabra!='':\n",
      "        #    result.append(palabra)\n",
      "        if pos<len(s):\n",
      "            pal_inic=pos\n",
      "            while pos<len(s) and s[pos] not in sep:\n",
      "                pos=pos+1\n",
      "            result.append(s[pal_inic:pos])\n",
      "            \n",
      "    return result\n"
     ],
     "language": "python",
     "metadata": {},
     "outputs": [],
     "prompt_number": "*"
    },
    {
     "cell_type": "code",
     "collapsed": false,
     "input": [
      "my_split('kjshskhdksadsalhksj . ,, lkjlkj,kkk,kkkk ,{sdkjs}popopo','{}, .')"
     ],
     "language": "python",
     "metadata": {},
     "outputs": [
      {
       "metadata": {},
       "output_type": "pyout",
       "prompt_number": 23,
       "text": [
        "['kjshskhdksadsalhksj', 'lkjlkj', 'kkk', 'kkkk', 'sdkjs', 'popopo']"
       ]
      }
     ],
     "prompt_number": 23
    },
    {
     "cell_type": "code",
     "collapsed": false,
     "input": [],
     "language": "python",
     "metadata": {},
     "outputs": []
    }
   ],
   "metadata": {}
  }
 ]
}