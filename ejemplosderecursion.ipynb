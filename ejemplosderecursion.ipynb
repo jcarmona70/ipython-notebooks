{
 "metadata": {
  "name": "ejemplos de recursi\u00f3n"
 }, 
 "nbformat": 2, 
 "worksheets": [
  {
   "cells": [
    {
     "cell_type": "markdown", 
     "source": [
      "queremos calcular mcd(a,b):", 
      "", 
      "si `b==0` ya hemos terminado: `mcd(a,b)=a`", 
      "", 
      "sean:", 
      "`c=a/b`, `r=a%b`", 
      "", 
      "entonces mcd(a,b)=mcd(b,r)"
     ]
    }, 
    {
     "cell_type": "code", 
     "collapsed": true, 
     "input": [
      "def mcd(a,b):", 
      "    #a,b n\u00fameros enteros", 
      "    #devuelve el m\u00e1ximo com\u00fan divisor de a y b", 
      "    if b==0:", 
      "        return a", 
      "    else:", 
      "        return mcd(b,a%b) # abs(a%b)<abs(b)"
     ], 
     "language": "python", 
     "outputs": [], 
     "prompt_number": 1
    }, 
    {
     "cell_type": "code", 
     "collapsed": false, 
     "input": [
      "mcd(1345*345,234578*345)"
     ], 
     "language": "python", 
     "outputs": [
      {
       "output_type": "pyout", 
       "prompt_number": 2, 
       "text": [
        "345"
       ]
      }
     ], 
     "prompt_number": 2
    }, 
    {
     "cell_type": "markdown", 
     "source": [
      "La versi\u00f3n iterativa es muy f\u00e1cil:"
     ]
    }, 
    {
     "cell_type": "code", 
     "collapsed": true, 
     "input": [
      "def mcd_iter(a,b):", 
      "    x,y=a,b", 
      "    while y!=0: ", 
      "        x,y=y,x%y #x,y van tomando los valores de los par\u00e1metros ", 
      "                  # de las llamadas recursivas hasta encontrarnos en el caso base ", 
      "    return x #como la recursi\u00f3n es final podemos ", 
      "             #devolver dir\u00e9ctamente el resultado del caso base "
     ], 
     "language": "python", 
     "outputs": [], 
     "prompt_number": 3
    }, 
    {
     "cell_type": "markdown", 
     "source": [
      "Queremos ahora calcular el mcd(a,b), d, y los coeficientes alpha y beta para que", 
      "", 
      "d=alpha*a+beta*b"
     ]
    }, 
    {
     "cell_type": "code", 
     "collapsed": true, 
     "input": [
      "def bezout(a,b):", 
      "    if b==0:", 
      "        d,alpha,beta=a,1,0", 
      "    else:", 
      "        d,alpha,beta=bezout(b,a%b)", 
      "        d,alpha,beta=d,beta,alpha-(a/b)*beta", 
      "    return d,alpha,beta"
     ], 
     "language": "python", 
     "outputs": [], 
     "prompt_number": 4
    }, 
    {
     "cell_type": "code", 
     "collapsed": false, 
     "input": [
      "a,b=123542,234521", 
      "d,alpha,beta=bezout(123542,234521)", 
      "print d", 
      "print alpha*a+beta*b"
     ], 
     "language": "python", 
     "outputs": [
      {
       "output_type": "stream", 
       "stream": "stdout", 
       "text": [
        "1", 
        "1"
       ]
      }
     ], 
     "prompt_number": 5
    }, 
    {
     "cell_type": "code", 
     "collapsed": true, 
     "input": [
      "def bezout_iter(a,b):", 
      "    x,y=a,b", 
      "    c=[]", 
      "    while y!=0:", 
      "        c.append(x/y)", 
      "        x,y=y,x%y", 
      "    d,alpha,beta=x,1,0", 
      "    while c!=[]:", 
      "        d,alpha,beta=d,beta,alpha-c[len(c)-1]*beta", 
      "        del c[len(c)-1]", 
      "    return d,alpha,beta"
     ], 
     "language": "python", 
     "outputs": [], 
     "prompt_number": 6
    }, 
    {
     "cell_type": "code", 
     "collapsed": false, 
     "input": [
      "a,b=123542,234521", 
      "d,alpha,beta=bezout_iter(123542,234521)", 
      "print d", 
      "print alpha*a+beta*b"
     ], 
     "language": "python", 
     "outputs": [
      {
       "output_type": "stream", 
       "stream": "stdout", 
       "text": [
        "1", 
        "1"
       ]
      }
     ], 
     "prompt_number": 7
    }, 
    {
     "cell_type": "code", 
     "collapsed": true, 
     "input": [
      "def bezout_iter1(a,b):", 
      "    gamma_ant,delta_ant=1,0", 
      "    gamma,delta=0,1", 
      "    c=a/b", 
      "    x,y=b,a%b", 
      "    while y!=0:", 
      "        gamma,delta,gamma_ant,delta_ant=gamma_ant-c*gamma,delta_ant-c*delta,gamma,delta", 
      "        c=x/y", 
      "        x,y=y,x%y", 
      "    return x,gamma,delta"
     ], 
     "language": "python", 
     "outputs": [], 
     "prompt_number": 8
    }, 
    {
     "cell_type": "code", 
     "collapsed": false, 
     "input": [
      "a,b=123542,234521", 
      "d,alpha,beta=bezout_iter1(123542,234521)", 
      "print d", 
      "print alpha*a+beta*b"
     ], 
     "language": "python", 
     "outputs": [
      {
       "output_type": "stream", 
       "stream": "stdout", 
       "text": [
        "1", 
        "1"
       ]
      }
     ], 
     "prompt_number": 9
    }, 
    {
     "cell_type": "code", 
     "collapsed": true, 
     "input": [
      "def pos_cambio(n,monedas):", 
      "    if len(monedas)==0:", 
      "        return n==0", 
      "    else:", 
      "        return pos_cambio(n-monedas[0],monedas[1:]) or pos_cambio(n,monedas[1:])"
     ], 
     "language": "python", 
     "outputs": [], 
     "prompt_number": 10
    }, 
    {
     "cell_type": "code", 
     "collapsed": true, 
     "input": [
      "def cambio(n,monedas):", 
      "    if len(monedas)==0:", 
      "        return n==0,[]", 
      "    else:", 
      "        posible,camb=cambio(n-monedas[0],monedas[1:])", 
      "        if posible:", 
      "            camb.append(monedas[0])", 
      "            return posible,camb", 
      "        else:", 
      "            return cambio(n,monedas[1:])", 
      "            "
     ], 
     "language": "python", 
     "outputs": [], 
     "prompt_number": 11
    }, 
    {
     "cell_type": "code", 
     "collapsed": false, 
     "input": [
      "print cambio(60,[50,20,20,20])", 
      "print cambio(60,[50,20,20,20,1,1,1,1,1,1,1,1,1,1])"
     ], 
     "language": "python", 
     "outputs": [
      {
       "output_type": "stream", 
       "stream": "stdout", 
       "text": [
        "(True, [20, 20, 20])", 
        "(True, [1, 1, 1, 1, 1, 1, 1, 1, 1, 1, 50])"
       ]
      }
     ], 
     "prompt_number": 12
    }, 
    {
     "cell_type": "markdown", 
     "source": [
      "Ejercicio: modificar cambio para que devuelva el minimo n\u00famero de monedas"
     ]
    }, 
    {
     "cell_type": "markdown", 
     "source": [
      "Si queremos evitar la copia de las listas:"
     ]
    }, 
    {
     "cell_type": "code", 
     "collapsed": true, 
     "input": [
      "def cambio1(n,monedas,i):", 
      "    if i>=len(monedas):", 
      "        return n==0,[]", 
      "    else:", 
      "        posible,camb=cambio1(n-monedas[i],monedas,i+1)", 
      "        if posible:", 
      "            camb.append(monedas[i])", 
      "            return posible,camb", 
      "        else:", 
      "            return cambio1(n,monedas,i+1)", 
      "            "
     ], 
     "language": "python", 
     "outputs": [], 
     "prompt_number": 13
    }, 
    {
     "cell_type": "code", 
     "collapsed": false, 
     "input": [
      "print cambio1(60,[50,20,20,20],0)", 
      "print cambio1(60,[50,20,20,20,1,1,1,1,1,1,1,1,1,1],0)", 
      "print cambio1(60,[50,20,20],0)"
     ], 
     "language": "python", 
     "outputs": [
      {
       "output_type": "stream", 
       "stream": "stdout", 
       "text": [
        "(True, [20, 20, 20])", 
        "(True, [1, 1, 1, 1, 1, 1, 1, 1, 1, 1, 50])", 
        "(False, [])"
       ]
      }
     ], 
     "prompt_number": 14
    }, 
    {
     "cell_type": "code", 
     "collapsed": true, 
     "input": [
      "def devolucion(n,valores,limites,i):", 
      "    if i>=len(valores):", 
      "        if n==0:", 
      "            return True,[0]*len(valores)", 
      "        else:", 
      "            return False,[0]*len(valores)", 
      "    else:", 
      "        max_monedas=min(n/valores[i],limites[i])", 
      "        enc_sol=False", 
      "        k=max_monedas", 
      "        while not enc_sol and k>=0:", 
      "             enc_sol,sol=devolucion(n-k*valores[i],valores,limites,i+1)", 
      "             sol[i]=k", 
      "             k=k-1", 
      "        return enc_sol,sol", 
      "            "
     ], 
     "language": "python", 
     "outputs": [], 
     "prompt_number": 15
    }, 
    {
     "cell_type": "code", 
     "collapsed": false, 
     "input": [
      "print devolucion(60,[50,20,10,5,2,1],[2,3,0,0,0,0],0)", 
      "print devolucion(60,[50,20,10,5,2,1],[2,3,0,1,0,5],0)"
     ], 
     "language": "python", 
     "outputs": [
      {
       "output_type": "stream", 
       "stream": "stdout", 
       "text": [
        "(True, [0, 3, 0, 0, 0, 0])", 
        "(True, [1, 0, 0, 1, 0, 5])"
       ]
      }
     ], 
     "prompt_number": 16
    }, 
    {
     "cell_type": "code", 
     "collapsed": true, 
     "input": [
      "def devolucion_min(n,valores,limites,i):", 
      "    if i>=len(valores):", 
      "        if n==0:", 
      "            return True,[0]*len(valores),0", 
      "        else:", 
      "            return False,[0]*len(valores),0", 
      "    else:", 
      "        max_monedas=min(n/valores[i],limites[i])", 
      "        enc_sol,encontrada=False,False", 
      "        k=max_monedas", 
      "        minim=n+1", 
      "        sol_min=[0]*len(valores)", 
      "        while k>=0:", 
      "             enc_sol,sol,num=devolucion_min(n-k*valores[i],valores,limites,i+1)", 
      "             if enc_sol:", 
      "                    encontrada=True", 
      "             sol[i]=k", 
      "             if enc_sol and num+k<minim:", 
      "                sol_min=sol", 
      "                minim=num+k", 
      "             k=k-1", 
      "        return encontrada,sol_min,minim", 
      "            "
     ], 
     "language": "python", 
     "outputs": [], 
     "prompt_number": 27
    }, 
    {
     "cell_type": "code", 
     "collapsed": false, 
     "input": [
      "print devolucion_min(60,[50,20,10,5,2,1],[2,3,0,0,0,0],0)", 
      "print devolucion_min(60,[50,20,10,5,2,1],[0,2,1,1,2,5],0)", 
      "print devolucion_min(60,[50,20,10,5,2,1],[1,2,1,1,2,5],0)"
     ], 
     "language": "python", 
     "outputs": [
      {
       "output_type": "stream", 
       "stream": "stdout", 
       "text": [
        "(True, [0, 3, 0, 0, 0, 0], 3)", 
        "(True, [0, 2, 1, 1, 2, 1], 7)", 
        "(True, [1, 0, 1, 0, 0, 0], 2)"
       ]
      }
     ], 
     "prompt_number": 29
    }, 
    {
     "cell_type": "code", 
     "collapsed": true, 
     "input": [], 
     "language": "python", 
     "outputs": []
    }
   ]
  }
 ]
}
