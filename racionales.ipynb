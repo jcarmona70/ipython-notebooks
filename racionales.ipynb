{
 "metadata": {
  "name": "racionales"
 }, 
 "nbformat": 2, 
 "worksheets": [
  {
   "cells": [
    {
     "cell_type": "code", 
     "collapsed": true, 
     "input": [
      "def mcd(a,b):", 
      "    if b==0:", 
      "        return a", 
      "    else:", 
      "        return mcd(b,a%b)", 
      "", 
      "class racional():", 
      "    def __init__(self,a,b):", 
      "        if b==0:", 
      "            raise Exception('division por cero al crear el racional('+str(a)+','+str(b)+')')", 
      "        else:", 
      "            d=mcd(a,b)", 
      "            self.num=a/d", 
      "            self.den=b/d", 
      "    ", 
      "    def __str__(self):", 
      "        return str(self.num)+'/'+str(self.den)", 
      "", 
      "    def suma(self,otro):", 
      "        if isinstance(otro,racional):", 
      "            return racional(self.num*otro.den+self.den*otro.num,self.num*self.den)", 
      "        else:", 
      "            raise Exception('No puedo sumar el racional '+str(self)+' y el '+str(type(otro))+' '+str(otro))", 
      "    ", 
      "    def __add__(self,otro):", 
      "        if isinstance(otro,racional):", 
      "            return racional(self.num*otro.den+self.den*otro.num,self.den*otro.den)", 
      "        else:", 
      "            raise Exception('No puedo sumar el racional '+str(self)+' y el '+str(type(otro))+' '+str(otro))", 
      "    def __mul__(self,otro):", 
      "        if isinstance(otro,racional):", 
      "            return racional(self.num*otro.num,self.den*otro.den)", 
      "        else:", 
      "            raise Exception('No puedo multiplicar el racional '+str(self)+' y el '+str(type(otro))+' '+str(otro))", 
      "    def __div__(self,otro):", 
      "        if isinstance(otro,racional):", 
      "            return racional(self.num*otro.den,self.den*otro.num)", 
      "        else:", 
      "            raise Exception('No puedo multiplicar el racional '+str(self)+' y el '+str(type(otro))+' '+str(otro))", 
      "        ", 
      "    def __eq__(self,otro):", 
      "        if isinstance(otro,racional):", 
      "            return self.num*otro.den-self.den*otro.num==0", 
      "        else:", 
      "            raise Exception('No puedo comparar el racional '+str(self)+' y el '+str(type(otro))+' '+str(otro))", 
      "        "
     ], 
     "language": "python", 
     "outputs": [], 
     "prompt_number": 13
    }, 
    {
     "cell_type": "code", 
     "collapsed": true, 
     "input": [
      "r=racional(23,23)"
     ], 
     "language": "python", 
     "outputs": [], 
     "prompt_number": 14
    }, 
    {
     "cell_type": "code", 
     "collapsed": false, 
     "input": [
      "s=racional(3,6)"
     ], 
     "language": "python", 
     "outputs": [], 
     "prompt_number": 15
    }, 
    {
     "cell_type": "code", 
     "collapsed": false, 
     "input": [
      "r==s"
     ], 
     "language": "python", 
     "outputs": [
      {
       "output_type": "pyout", 
       "prompt_number": 16, 
       "text": [
        "False"
       ]
      }
     ], 
     "prompt_number": 16
    }, 
    {
     "cell_type": "code", 
     "collapsed": false, 
     "input": [
      "print r*s"
     ], 
     "language": "python", 
     "outputs": [
      {
       "output_type": "stream", 
       "stream": "stdout", 
       "text": [
        "1/2"
       ]
      }
     ], 
     "prompt_number": 18
    }, 
    {
     "cell_type": "code", 
     "collapsed": false, 
     "input": [
      "a"
     ], 
     "language": "python", 
     "outputs": [
      {
       "output_type": "pyout", 
       "prompt_number": 28, 
       "text": [
        "int"
       ]
      }
     ], 
     "prompt_number": 28
    }, 
    {
     "cell_type": "code", 
     "collapsed": false, 
     "input": [
      "a.real"
     ], 
     "language": "python", 
     "outputs": [
      {
       "output_type": "pyout", 
       "prompt_number": 32, 
       "text": [
        "<attribute 'real' of 'int' objects>"
       ]
      }
     ], 
     "prompt_number": 32
    }, 
    {
     "cell_type": "code", 
     "collapsed": false, 
     "input": [
      "a"
     ], 
     "language": "python", 
     "outputs": [
      {
       "output_type": "pyout", 
       "prompt_number": 33, 
       "text": [
        "int"
       ]
      }
     ], 
     "prompt_number": 33
    }, 
    {
     "cell_type": "code", 
     "collapsed": true, 
     "input": [
      "z=complex(8,3)"
     ], 
     "language": "python", 
     "outputs": [], 
     "prompt_number": 46
    }, 
    {
     "cell_type": "code", 
     "collapsed": false, 
     "input": [
      "z"
     ], 
     "language": "python", 
     "outputs": [
      {
       "output_type": "pyout", 
       "prompt_number": 47, 
       "text": [
        "(8+3j)"
       ]
      }
     ], 
     "prompt_number": 47
    }, 
    {
     "cell_type": "code", 
     "collapsed": true, 
     "input": [], 
     "language": "python", 
     "outputs": []
    }
   ]
  }
 ]
}