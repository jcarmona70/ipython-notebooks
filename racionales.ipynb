{
 "metadata": {
  "name": "racionales"
 }, 
 "nbformat": 2, 
 "worksheets": [
  {
   "cells": [
    {
     "cell_type": "code", 
     "collapsed": true, 
     "input": [
      "def mcd(a,b):", 
      "    if b==0:", 
      "        return a", 
      "    else:", 
      "        return mcd(b,a%b)", 
      "", 
      "class racional():", 
      "    '''", 
      "     Clase para representar los racionales", 
      "    '''", 
      "    def __init__(self,a,b):", 
      "        '''", 
      "           a,b enteros. b!=0", 
      "           guarda la fracci\u00f3n irreducible", 
      "        '''", 
      "        if b==0:", 
      "            raise Exception('division por cero al crear el racional('+str(a)+','+str(b)+')')", 
      "        else:", 
      "            d=mcd(a,b)", 
      "            self.num=a/d", 
      "            self.den=b/d", 
      "    ", 
      "    def __str__(self):", 
      "        '''", 
      "         Representaci\u00f3n como string de un racional.", 
      "", 
      "         >>>r=racional(2,3)", 
      "         >>>print r", 
      "         2/3", 
      "        '''", 
      "        return str(self.num)+'/'+str(self.den)", 
      "", 
      "    ", 
      "    def __add__(self,otro):", 
      "        '''", 
      "        Suma para los racionales", 
      "", 
      "        El segundo argumento puede ser un entero", 
      "        ", 
      "        >>>print racional(3,4)+racional(1/4)", 
      "        1/1", 
      "        >>>print racional(3,4)+1", 
      "        7/4", 
      "        '''", 
      "        if isinstance(otro,racional):", 
      "            return racional(self.num*otro.den+self.den*otro.num,self.den*otro.den)", 
      "        elif isinstance(otro,int):", 
      "            return self+racional(otro,1)", 
      "        else:", 
      "            raise Exception('No puedo sumar el racional '+str(self)+' y el '+str(type(otro))+' '+str(otro))", 
      "    ", 
      "    def __radd__(self,otro):", 
      "        '''", 
      "        Suma \"a izquierda\" para los racionales.", 
      "        ", 
      "        permite sumar un entero m\u00e1s un racional en ese orden", 
      "", 
      "        >>>2+racional(3/4)", 
      "        11/4", 
      "", 
      "         2.__add__(racional(3,4)) llama a racional(3,4).__radd__(2)", 
      "        '''", 
      "        if isinstance(otro,int):", 
      "            return self+otro", 
      "        else:", 
      "            raise Exception('No puedo sumar el '+str(type(otro))+' '+str(otro)+' y el racional '+str(self))", 
      "    ", 
      "    def __mul__(self,otro):", 
      "        '''", 
      "         Producto para los racionales.", 
      "         El segundo factor puede ser un entero", 
      "        '''", 
      "        if isinstance(otro,racional):", 
      "            return racional(self.num*otro.num,self.den*otro.den)", 
      "        elif isinstance(otro,int):", 
      "            return self*racional(otro,1)", 
      "        else:", 
      "            raise Exception('No puedo multiplicar el racional '+str(self)+' y el '+str(type(otro))+' '+str(otro))", 
      "    def __rmul__(self,otro):", 
      "        '''", 
      "          Producto \"a izquiera\" para los racionales", 
      "        '''", 
      "        ", 
      "        if isinstance(otro,int):", 
      "            return self*otro", 
      "        else:", 
      "            raise Exception('No puedo multiplicar el '+str(type(otro))+' '+str(otro)+' y el racional '+str(self))", 
      "     ", 
      "    def __div__(self,otro):", 
      "        '''", 
      "         Cociente para los racionales.", 
      "         El divisor puede ser un entero", 
      "        '''", 
      "        if isinstance(otro,racional):", 
      "            if otro==0:", 
      "                raise Exception('division por cero')", 
      "            else:", 
      "                return racional(self.num*otro.den,self.den*otro.num)", 
      "        elif isinstance(otro,int):", 
      "            return self/racional(otro,1)", 
      "        else:", 
      "            raise Exception('No puedo dividir el racional '+str(self)+' y el '+str(type(otro))+' '+str(otro))", 
      "    ", 
      "    def __rdiv__(self,otro):", 
      "        '''", 
      "          Cociente \"a izquierda\" para los racionales", 
      "          Permite que el dividendo sea un entero", 
      "        '''", 
      "        if isinstance(otro,int):", 
      "            return racional(otro,1)/self", 
      "        else:", 
      "            raise Exception('No puedo dividir el '+str(type(otro))+' '+str(otro)+' y el racional '+str(self))", 
      "   ", 
      "     ", 
      "    def __eq__(self,otro):", 
      "        '''", 
      "           Igualdad para los racionales", 
      "           ", 
      "          >>>racional(4,3)==racional(1/4)", 
      "          False", 
      "          >>>racional(4/2)==2", 
      "          True", 
      "          >>>2==racional(4/2)", 
      "          True", 
      "", 
      "        '''", 
      "        if isinstance(otro,racional):", 
      "            return self.num*otro.den-self.den*otro.num==0", 
      "        elif isinstance(otro,int):", 
      "            return self==racional(otro,1)", 
      "        else:", 
      "            raise Exception('No puedo comparar el racional '+str(self)+' y el '+str(type(otro))+' '+str(otro))", 
      "    ", 
      "    def __lt__(self,otro):", 
      "        '''", 
      "          Operador < para los racionales", 
      "          ", 
      "          >>>racional(4/2)<racional(10,3)", 
      "          True", 
      "          >>>racional(4/2)<0", 
      "          False", 
      "", 
      "          podemos comparar enteros con racionales", 
      "     ", 
      "          >>>2<racional(10/3)", 
      "          True                     ", 
      "             2.__lt__(racional(10/3)) est\u00e1 llamando a racional(10/3).__gt__(2)", 
      "        '''", 
      "        if isinstance(otro,racional):", 
      "            return (self.num*otro.den-self.den*otro.num)<0", 
      "        elif isinstance(otro,int):", 
      "            return self<racional(otro,1)", 
      "        else:", 
      "            raise Exception('No puedo comparar el racional '+str(self)+' y el '+str(type(otro))+' '+str(otro))", 
      "    ", 
      "    def __gt__(self,otro):", 
      "        '''", 
      "          Operador > para los racionales", 
      "          ", 
      "          >>>racional(10,3)>racional(4,2)", 
      "          True", 
      "          >>>racional(4,2)>0", 
      "          True", 
      "", 
      "          podemos comparar enteros con racionales", 
      "     ", 
      "          >>>2>racional(10,3)", 
      "          False                    ", 
      "             2.__gt__(racional(10,3)) est\u00e1 llamando a racional(10,3).__lt__(2)", 
      "        '''", 
      "        if isinstance(otro,racional):", 
      "            return (self.num*otro.den-self.den*otro.num)>0", 
      "        elif isinstance(otro,int):", 
      "            return self>racional(otro,1)", 
      "        else:", 
      "            raise Exception('No puedo comparar el racional '+str(self)+' y el '+str(type(otro))+' '+str(otro))", 
      "    ", 
      "    def __le__(self,otro):", 
      "        '''", 
      "          Operador <= para los racionales", 
      "          ", 
      "          >>>racional(4,2)<=racional(10,3)", 
      "          True", 
      "          >>>racional(4,2)<=0", 
      "          False", 
      "", 
      "          podemos comparar enteros con racionales", 
      "     ", 
      "          >>>2<=racional(10,3)", 
      "          True                     ", 
      "             2.__le__(racional(10,3)) est\u00e1 llamando a racional(10,3).__ge__(2)", 
      "        '''", 
      "", 
      "        if isinstance(otro,racional):", 
      "            return (self.num*otro.den-self.den*otro.num)<=0", 
      "        elif isinstance(otro,int):", 
      "            return self<=racional(otro,1)", 
      "        else:", 
      "            raise Exception('No puedo comparar el racional '+str(self)+' y el '+str(type(otro))+' '+str(otro))", 
      "    ", 
      "    def __ge__(self,otro):", 
      "        '''", 
      "          Operador >= para los racionales", 
      "          ", 
      "          >>>racional(10,3)>=racional(4,2)", 
      "          True", 
      "          >>>racional(4,2)>=0", 
      "          True", 
      "", 
      "          podemos comparar enteros con racionales", 
      "     ", 
      "          >>>2>=racional(10,3)", 
      "          False                    ", 
      "             2.__ge__(racional(10,3)) est\u00e1 llamando a racional(10,3).__le__(2)", 
      "        '''", 
      "        if isinstance(otro,racional):", 
      "            return (self.num*otro.den-self.den*otro.num)>=0", 
      "        elif isinstance(otro,int):", 
      "            return self>=racional(otro,1)", 
      "        else:", 
      "            raise Exception('No puedo comparar el racional '+str(self)+' y el '+str(type(otro))+' '+str(otro))", 
      "    "
     ], 
     "language": "python", 
     "outputs": [], 
     "prompt_number": 27
    }, 
    {
     "cell_type": "code", 
     "collapsed": true, 
     "input": [
      "r=racional(5,7)", 
      "s=racional(0,2)", 
      "t=racional(10,3)"
     ], 
     "language": "python", 
     "outputs": [], 
     "prompt_number": 9
    }, 
    {
     "cell_type": "code", 
     "collapsed": false, 
     "input": [
      "print r+s"
     ], 
     "language": "python", 
     "outputs": [
      {
       "output_type": "stream", 
       "stream": "stdout", 
       "text": [
        "5/7"
       ]
      }
     ], 
     "prompt_number": 10
    }, 
    {
     "cell_type": "code", 
     "collapsed": false, 
     "input": [
      "print r/s "
     ], 
     "language": "python", 
     "outputs": [
      {
       "ename": "Exception", 
       "evalue": "division por cero", 
       "output_type": "pyerr", 
       "traceback": [
        "\u001b[0;31m---------------------------------------------------------------------------\u001b[0m\n\u001b[0;31mException\u001b[0m                                 Traceback (most recent call last)", 
        "\u001b[0;32m/home/jcarmona/ipython-notebooks/<ipython-input-14-93a883a13794>\u001b[0m in \u001b[0;36m<module>\u001b[0;34m()\u001b[0m\n\u001b[0;32m----> 1\u001b[0;31m \u001b[0;32mprint\u001b[0m \u001b[0mr\u001b[0m\u001b[0;34m/\u001b[0m\u001b[0ms\u001b[0m\u001b[0;34m\u001b[0m\u001b[0m\n\u001b[0m", 
        "\u001b[0;32m/home/jcarmona/ipython-notebooks/<ipython-input-5-5dbed203b751>\u001b[0m in \u001b[0;36m__div__\u001b[0;34m(self, otro)\u001b[0m\n\u001b[1;32m     51\u001b[0m         \u001b[0;32mif\u001b[0m \u001b[0misinstance\u001b[0m\u001b[0;34m(\u001b[0m\u001b[0motro\u001b[0m\u001b[0;34m,\u001b[0m\u001b[0mracional\u001b[0m\u001b[0;34m)\u001b[0m\u001b[0;34m:\u001b[0m\u001b[0;34m\u001b[0m\u001b[0m\n\u001b[1;32m     52\u001b[0m             \u001b[0;32mif\u001b[0m \u001b[0motro\u001b[0m\u001b[0;34m==\u001b[0m\u001b[0;36m0\u001b[0m\u001b[0;34m:\u001b[0m\u001b[0;34m\u001b[0m\u001b[0m\n\u001b[0;32m---> 53\u001b[0;31m                 \u001b[0;32mraise\u001b[0m \u001b[0mException\u001b[0m\u001b[0;34m(\u001b[0m\u001b[0;34m'division por cero'\u001b[0m\u001b[0;34m)\u001b[0m\u001b[0;34m\u001b[0m\u001b[0m\n\u001b[0m\u001b[1;32m     54\u001b[0m             \u001b[0;32melse\u001b[0m\u001b[0;34m:\u001b[0m\u001b[0;34m\u001b[0m\u001b[0m\n\u001b[1;32m     55\u001b[0m                 \u001b[0;32mreturn\u001b[0m \u001b[0mracional\u001b[0m\u001b[0;34m(\u001b[0m\u001b[0mself\u001b[0m\u001b[0;34m.\u001b[0m\u001b[0mnum\u001b[0m\u001b[0;34m*\u001b[0m\u001b[0motro\u001b[0m\u001b[0;34m.\u001b[0m\u001b[0mden\u001b[0m\u001b[0;34m,\u001b[0m\u001b[0mself\u001b[0m\u001b[0;34m.\u001b[0m\u001b[0mden\u001b[0m\u001b[0;34m*\u001b[0m\u001b[0motro\u001b[0m\u001b[0;34m.\u001b[0m\u001b[0mnum\u001b[0m\u001b[0;34m)\u001b[0m\u001b[0;34m\u001b[0m\u001b[0m\n", 
        "\u001b[0;31mException\u001b[0m: division por cero"
       ]
      }
     ], 
     "prompt_number": 14
    }, 
    {
     "cell_type": "code", 
     "collapsed": false, 
     "input": [
      "print r*t"
     ], 
     "language": "python", 
     "outputs": [
      {
       "output_type": "stream", 
       "stream": "stdout", 
       "text": [
        "50/21"
       ]
      }
     ], 
     "prompt_number": 15
    }, 
    {
     "cell_type": "code", 
     "collapsed": false, 
     "input": [
      "print r+s==r"
     ], 
     "language": "python", 
     "outputs": [
      {
       "output_type": "stream", 
       "stream": "stdout", 
       "text": [
        "True"
       ]
      }
     ], 
     "prompt_number": 16
    }, 
    {
     "cell_type": "code", 
     "collapsed": false, 
     "input": [
      "print racional(6,7)*2"
     ], 
     "language": "python", 
     "outputs": [
      {
       "output_type": "stream", 
       "stream": "stdout", 
       "text": [
        "12/7"
       ]
      }
     ], 
     "prompt_number": 18
    }, 
    {
     "cell_type": "code", 
     "collapsed": false, 
     "input": [
      "print 2*racional(6,7)"
     ], 
     "language": "python", 
     "outputs": [
      {
       "output_type": "stream", 
       "stream": "stdout", 
       "text": [
        "12/7"
       ]
      }
     ], 
     "prompt_number": 19
    }, 
    {
     "cell_type": "code", 
     "collapsed": false, 
     "input": [
      "s==0"
     ], 
     "language": "python", 
     "outputs": [
      {
       "output_type": "pyout", 
       "prompt_number": 20, 
       "text": [
        "True"
       ]
      }
     ], 
     "prompt_number": 20
    }, 
    {
     "cell_type": "code", 
     "collapsed": false, 
     "input": [
      "t>=0"
     ], 
     "language": "python", 
     "outputs": [
      {
       "output_type": "pyout", 
       "prompt_number": 21, 
       "text": [
        "True"
       ]
      }
     ], 
     "prompt_number": 21
    }, 
    {
     "cell_type": "code", 
     "collapsed": false, 
     "input": [
      "0==s"
     ], 
     "language": "python", 
     "outputs": [
      {
       "output_type": "pyout", 
       "prompt_number": 22, 
       "text": [
        "True"
       ]
      }
     ], 
     "prompt_number": 22
    }, 
    {
     "cell_type": "code", 
     "collapsed": false, 
     "input": [
      "0>=t"
     ], 
     "language": "python", 
     "outputs": [
      {
       "output_type": "pyout", 
       "prompt_number": 23, 
       "text": [
        "False"
       ]
      }
     ], 
     "prompt_number": 23
    }, 
    {
     "cell_type": "code", 
     "collapsed": false, 
     "input": [
      "racional(8,9)/0"
     ], 
     "language": "python", 
     "outputs": [
      {
       "ename": "Exception", 
       "evalue": "division por cero", 
       "output_type": "pyerr", 
       "traceback": [
        "\u001b[0;31m---------------------------------------------------------------------------\u001b[0m\n\u001b[0;31mException\u001b[0m                                 Traceback (most recent call last)", 
        "\u001b[0;32m/home/jcarmona/ipython-notebooks/<ipython-input-24-b1be8dee337d>\u001b[0m in \u001b[0;36m<module>\u001b[0;34m()\u001b[0m\n\u001b[0;32m----> 1\u001b[0;31m \u001b[0mracional\u001b[0m\u001b[0;34m(\u001b[0m\u001b[0;36m8\u001b[0m\u001b[0;34m,\u001b[0m\u001b[0;36m9\u001b[0m\u001b[0;34m)\u001b[0m\u001b[0;34m/\u001b[0m\u001b[0;36m0\u001b[0m\u001b[0;34m\u001b[0m\u001b[0m\n\u001b[0m", 
        "\u001b[0;32m/home/jcarmona/ipython-notebooks/<ipython-input-5-5dbed203b751>\u001b[0m in \u001b[0;36m__div__\u001b[0;34m(self, otro)\u001b[0m\n\u001b[1;32m     55\u001b[0m                 \u001b[0;32mreturn\u001b[0m \u001b[0mracional\u001b[0m\u001b[0;34m(\u001b[0m\u001b[0mself\u001b[0m\u001b[0;34m.\u001b[0m\u001b[0mnum\u001b[0m\u001b[0;34m*\u001b[0m\u001b[0motro\u001b[0m\u001b[0;34m.\u001b[0m\u001b[0mden\u001b[0m\u001b[0;34m,\u001b[0m\u001b[0mself\u001b[0m\u001b[0;34m.\u001b[0m\u001b[0mden\u001b[0m\u001b[0;34m*\u001b[0m\u001b[0motro\u001b[0m\u001b[0;34m.\u001b[0m\u001b[0mnum\u001b[0m\u001b[0;34m)\u001b[0m\u001b[0;34m\u001b[0m\u001b[0m\n\u001b[1;32m     56\u001b[0m         \u001b[0;32melif\u001b[0m \u001b[0misinstance\u001b[0m\u001b[0;34m(\u001b[0m\u001b[0motro\u001b[0m\u001b[0;34m,\u001b[0m\u001b[0mint\u001b[0m\u001b[0;34m)\u001b[0m\u001b[0;34m:\u001b[0m\u001b[0;34m\u001b[0m\u001b[0m\n\u001b[0;32m---> 57\u001b[0;31m             \u001b[0;32mreturn\u001b[0m \u001b[0mself\u001b[0m\u001b[0;34m/\u001b[0m\u001b[0mracional\u001b[0m\u001b[0;34m(\u001b[0m\u001b[0motro\u001b[0m\u001b[0;34m,\u001b[0m\u001b[0;36m1\u001b[0m\u001b[0;34m)\u001b[0m\u001b[0;34m\u001b[0m\u001b[0m\n\u001b[0m\u001b[1;32m     58\u001b[0m         \u001b[0;32melse\u001b[0m\u001b[0;34m:\u001b[0m\u001b[0;34m\u001b[0m\u001b[0m\n\u001b[1;32m     59\u001b[0m             \u001b[0;32mraise\u001b[0m \u001b[0mException\u001b[0m\u001b[0;34m(\u001b[0m\u001b[0;34m'No puedo dividir el racional '\u001b[0m\u001b[0;34m+\u001b[0m\u001b[0mstr\u001b[0m\u001b[0;34m(\u001b[0m\u001b[0mself\u001b[0m\u001b[0;34m)\u001b[0m\u001b[0;34m+\u001b[0m\u001b[0;34m' y el '\u001b[0m\u001b[0;34m+\u001b[0m\u001b[0mstr\u001b[0m\u001b[0;34m(\u001b[0m\u001b[0mtype\u001b[0m\u001b[0;34m(\u001b[0m\u001b[0motro\u001b[0m\u001b[0;34m)\u001b[0m\u001b[0;34m)\u001b[0m\u001b[0;34m+\u001b[0m\u001b[0;34m' '\u001b[0m\u001b[0;34m+\u001b[0m\u001b[0mstr\u001b[0m\u001b[0;34m(\u001b[0m\u001b[0motro\u001b[0m\u001b[0;34m)\u001b[0m\u001b[0;34m)\u001b[0m\u001b[0;34m\u001b[0m\u001b[0m\n", 
        "\u001b[0;32m/home/jcarmona/ipython-notebooks/<ipython-input-5-5dbed203b751>\u001b[0m in \u001b[0;36m__div__\u001b[0;34m(self, otro)\u001b[0m\n\u001b[1;32m     51\u001b[0m         \u001b[0;32mif\u001b[0m \u001b[0misinstance\u001b[0m\u001b[0;34m(\u001b[0m\u001b[0motro\u001b[0m\u001b[0;34m,\u001b[0m\u001b[0mracional\u001b[0m\u001b[0;34m)\u001b[0m\u001b[0;34m:\u001b[0m\u001b[0;34m\u001b[0m\u001b[0m\n\u001b[1;32m     52\u001b[0m             \u001b[0;32mif\u001b[0m \u001b[0motro\u001b[0m\u001b[0;34m==\u001b[0m\u001b[0;36m0\u001b[0m\u001b[0;34m:\u001b[0m\u001b[0;34m\u001b[0m\u001b[0m\n\u001b[0;32m---> 53\u001b[0;31m                 \u001b[0;32mraise\u001b[0m \u001b[0mException\u001b[0m\u001b[0;34m(\u001b[0m\u001b[0;34m'division por cero'\u001b[0m\u001b[0;34m)\u001b[0m\u001b[0;34m\u001b[0m\u001b[0m\n\u001b[0m\u001b[1;32m     54\u001b[0m             \u001b[0;32melse\u001b[0m\u001b[0;34m:\u001b[0m\u001b[0;34m\u001b[0m\u001b[0m\n\u001b[1;32m     55\u001b[0m                 \u001b[0;32mreturn\u001b[0m \u001b[0mracional\u001b[0m\u001b[0;34m(\u001b[0m\u001b[0mself\u001b[0m\u001b[0;34m.\u001b[0m\u001b[0mnum\u001b[0m\u001b[0;34m*\u001b[0m\u001b[0motro\u001b[0m\u001b[0;34m.\u001b[0m\u001b[0mden\u001b[0m\u001b[0;34m,\u001b[0m\u001b[0mself\u001b[0m\u001b[0;34m.\u001b[0m\u001b[0mden\u001b[0m\u001b[0;34m*\u001b[0m\u001b[0motro\u001b[0m\u001b[0;34m.\u001b[0m\u001b[0mnum\u001b[0m\u001b[0;34m)\u001b[0m\u001b[0;34m\u001b[0m\u001b[0m\n", 
        "\u001b[0;31mException\u001b[0m: division por cero"
       ]
      }
     ], 
     "prompt_number": 24
    }, 
    {
     "cell_type": "code", 
     "collapsed": true, 
     "input": [], 
     "language": "python", 
     "outputs": []
    }
   ]
  }
 ]
}