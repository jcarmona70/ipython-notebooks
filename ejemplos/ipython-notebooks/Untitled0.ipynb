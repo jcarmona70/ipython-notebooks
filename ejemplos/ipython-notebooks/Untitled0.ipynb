{
 "metadata": {
  "name": ""
 },
 "nbformat": 3,
 "nbformat_minor": 0,
 "worksheets": [
  {
   "cells": [
    {
     "cell_type": "code",
     "collapsed": false,
     "input": [
      "\n",
      "\n",
      "\n",
      "\n",
      "\n",
      "\n",
      "\n",
      "\n",
      "\n",
      "\n",
      "\n",
      "\n",
      "\n",
      "\n",
      "\n",
      "\n",
      "\n",
      "\n",
      "\n",
      "\n",
      "\n",
      "\n",
      "\n",
      "\n",
      "\n",
      "\n",
      "\n",
      "\n",
      "\n",
      "\n",
      "\n",
      "\n",
      "\n",
      "\n",
      "\n",
      "\n",
      "\n",
      "\n",
      "\n",
      "\n",
      "\n",
      "\n",
      "\n",
      "\n",
      "\n",
      "\n",
      "\n",
      "\n",
      "\n",
      "\n",
      "\n",
      "\n",
      "\n",
      "\n",
      "\n",
      "\n",
      "\n",
      "\n",
      "\n",
      "\n",
      "import mathplotlib"
     ],
     "language": "python",
     "metadata": {},
     "outputs": [
      {
       "ename": "ImportError",
       "evalue": "No module named mathplotlib",
       "output_type": "pyerr",
       "traceback": [
        "\u001b[1;31m---------------------------------------------------------------------------\u001b[0m\n\u001b[1;31mImportError\u001b[0m                               Traceback (most recent call last)",
        "\u001b[1;32m<ipython-input-1-afd18e13cbb4>\u001b[0m in \u001b[0;36m<module>\u001b[1;34m()\u001b[0m\n\u001b[1;32m----> 1\u001b[1;33m \u001b[1;32mimport\u001b[0m \u001b[0mmathplotlib\u001b[0m\u001b[1;33m\u001b[0m\u001b[0m\n\u001b[0m",
        "\u001b[1;31mImportError\u001b[0m: No module named mathplotlib"
       ]
      }
     ],
     "prompt_number": 1
    },
    {
     "cell_type": "code",
     "collapsed": false,
     "input": [
      "ls"
     ],
     "language": "python",
     "metadata": {},
     "outputs": [
      {
       "output_type": "stream",
       "stream": "stdout",
       "text": [
        "Acividades2013-14.pdf\r\n",
        "\u001b[0m\u001b[01;34mActas\u001b[0m/\r\n",
        "Algoritmo_de_Identificacion_de_Fuente_en_Imagenes_Digitales_de_Dispositivos_Moviles.pdf\r\n",
        "\u001b[01;34manaconda\u001b[0m/\r\n",
        "aviso Grupo1.odt\r\n",
        "aviso GrupoA.odt\r\n",
        "\u001b[01;34mBooks\u001b[0m/\r\n",
        "cambio.py\r\n",
        "C:\\nppdf32Log\\debuglog.txt\r\n",
        "codigosSolos.txt\r\n",
        "codigos.txt\r\n",
        "concurso de traslados 11-12.pdf\r\n",
        "concurso de traslados 11-12.txt\r\n",
        "correosC\r\n",
        "correosGrupoA.csv\r\n",
        "correosGrupoA.ods\r\n",
        "correosGrupoA.xls\r\n",
        "\u001b[01;34mCosas antiguas\u001b[0m/\r\n",
        "\u001b[01;34mDesarrollo\u001b[0m/\r\n",
        "\u001b[01;34mDescargas\u001b[0m/\r\n",
        "devolucionDefinitivo.py\r\n",
        "Devolver_monedas_entrega_1_modificado.py\r\n",
        "\u001b[01;34mDiciembre\u001b[0m/\r\n",
        "\u001b[01;34mdocencia\u001b[0m/\r\n",
        "\u001b[01;34mDocumentos\u001b[0m/\r\n",
        "\u001b[01;34mDropbox\u001b[0m/\r\n",
        "Ejercicio1.py\r\n",
        "Ejercicio2.py\r\n",
        "entregaEjercicio1.py\r\n",
        "entregaEjercicio2.py\r\n",
        "\u001b[01;34menvs\u001b[0m/\r\n",
        "\u001b[01;34mEscritorio\u001b[0m/\r\n",
        "estado1\r\n",
        "esta si que si.py\r\n",
        "examples.desktop\r\n",
        "\u001b[01;34mexercita\u001b[0m/\r\n",
        "\u001b[01;34mexercita-db\u001b[0m/\r\n",
        "\u001b[01;34mFin de semana 23_25 abril 2012\u001b[0m/\r\n",
        "\u001b[01;35mFirefox_wallpaper.png\u001b[0m\r\n",
        "\u001b[01;35mfracta2.jpeg\u001b[0m\r\n",
        "\u001b[01;35mfractal1.jpeg\u001b[0m\r\n",
        "\u001b[01;35mfractalTmp.jpg\u001b[0m\r\n",
        "grupoD3.ods\r\n",
        "hj.py\r\n",
        "\u001b[01;34mhome antiguo\u001b[0m/\r\n",
        "\u001b[01;34mIm\u00e1genes\u001b[0m/\r\n",
        "\u001b[01;31minfor13-14.zip\u001b[0m\r\n",
        "\u001b[01;34mipython-notebooks\u001b[0m/\r\n",
        "\u001b[01;34mipython-notebooks1\u001b[0m/\r\n",
        "Jean-Luc Chabert, C. Weeks, E. Barbin, J. Borowczyk, J.-L. Chabert, M. Guillemot, A. Michel-Pajus, A. Djebbar, J.-C. Martzloff-A history of algorithms-Springer (1999).djvu\r\n",
        "Lista2\u00baPrimaria.ods\r\n",
        "Lista2\u00baPrimaria.xlsx\r\n",
        "Listas(3).ipynb\r\n",
        "\u001b[01;34mlistas ammppa\u001b[0m/\r\n",
        "Listas.ipynb\r\n",
        "listas.pdf\r\n",
        "Martin Aigner, G\u00fcnter M. Ziegler, Karl H. Hofmann-Proofs from THE BOOK-Springer (2010).pdf\r\n",
        "missfont.log\r\n",
        "monods.py\r\n",
        "monods.sage\r\n",
        "\u001b[01;34mM\u00fasica\u001b[0m/\r\n",
        "NewtonFractal-Copy0.ipynb\r\n",
        "NewtonFractal-Copy1.ipynb\r\n",
        "NewtonFractal-Enunciado.ipynb\r\n",
        "NewtonFractal-Enunciado.pdf\r\n",
        "NewtonFractal.ipynb\r\n",
        "NewtonFractal.pdf\r\n",
        "newton_fractal.py\r\n",
        "newton.py\r\n",
        "nicomaco.py\r\n",
        "nicomaco.py~\r\n",
        "\u001b[01;34mPhotos\u001b[0m/\r\n",
        "\u001b[01;34mPlantillas\u001b[0m/\r\n",
        "practica1.1-1.py\r\n",
        "practica1cambiodemoneda-antonio_antoranz_esteban.py\r\n",
        "Practica2.ipynb\r\n",
        "Practica2.pdf\r\n",
        "Practica_4-septiembre-1.py\r\n",
        "Practica_4-septiembre-1.py~\r\n",
        "Practica_4-septiembre-3.py\r\n",
        "Practica_4-septiembre.py\r\n",
        "practica.py\r\n",
        "preba_pers.py\r\n",
        "\u001b[01;34mprebas\u001b[0m/\r\n",
        "Primera prueba.ipynb\r\n",
        "primerosPasos.py\r\n",
        "programa.py\r\n",
        "pruebadevolucion.py\r\n",
        "prueba.py\r\n",
        "pruebas.py\r\n",
        "\u001b[01;34mP\u00fablico\u001b[0m/\r\n",
        "raices.py\r\n",
        "Ranarama.py\r\n",
        "\u001b[01;34msage-5.11-linux-64bit-ubuntu_12.04.2_lts-x86_64-Linux\u001b[0m/\r\n",
        "salida.pdf\r\n",
        "Scott Chacon-Pro Git-Apress (2009).pdf\r\n",
        "tecnico.txt\r\n",
        "tecnico.txt~\r\n",
        "Untitled0.ipynb\r\n",
        "Untitled1.ipynb\r\n",
        "Untitled2.ipynb\r\n",
        "Untitled3.ipynb\r\n",
        "Untitled4.ipynb\r\n",
        "Varianza.ipynb\r\n",
        "\u001b[01;34mV\u00eddeos\u001b[0m/\r\n",
        "WOED_Cambiado.xlsx\r\n",
        "WOED.xls\r\n"
       ]
      }
     ],
     "prompt_number": 4
    },
    {
     "cell_type": "code",
     "collapsed": false,
     "input": [
      "help"
     ],
     "language": "python",
     "metadata": {},
     "outputs": [
      {
       "metadata": {},
       "output_type": "pyout",
       "prompt_number": 5,
       "text": [
        "Type help() for interactive help, or help(object) for help about object."
       ]
      }
     ],
     "prompt_number": 5
    },
    {
     "cell_type": "code",
     "collapsed": false,
     "input": [
      "help ls"
     ],
     "language": "python",
     "metadata": {},
     "outputs": [
      {
       "ename": "SyntaxError",
       "evalue": "invalid syntax (<ipython-input-6-f32af3367e94>, line 1)",
       "output_type": "pyerr",
       "traceback": [
        "\u001b[1;36m  File \u001b[1;32m\"<ipython-input-6-f32af3367e94>\"\u001b[1;36m, line \u001b[1;32m1\u001b[0m\n\u001b[1;33m    help ls\u001b[0m\n\u001b[1;37m          ^\u001b[0m\n\u001b[1;31mSyntaxError\u001b[0m\u001b[1;31m:\u001b[0m invalid syntax\n"
       ]
      }
     ],
     "prompt_number": 6
    },
    {
     "cell_type": "code",
     "collapsed": false,
     "input": [
      "cd Descargas"
     ],
     "language": "python",
     "metadata": {},
     "outputs": [
      {
       "output_type": "stream",
       "stream": "stdout",
       "text": [
        "/home/jcarmona/Descargas\n"
       ]
      }
     ],
     "prompt_number": 7
    },
    {
     "cell_type": "code",
     "collapsed": false,
     "input": [
      "dir"
     ],
     "language": "python",
     "metadata": {},
     "outputs": [
      {
       "metadata": {},
       "output_type": "pyout",
       "prompt_number": 8,
       "text": [
        "<function dir>"
       ]
      }
     ],
     "prompt_number": 8
    },
    {
     "cell_type": "code",
     "collapsed": false,
     "input": [
      "ls"
     ],
     "language": "python",
     "metadata": {},
     "outputs": [
      {
       "output_type": "stream",
       "stream": "stdout",
       "text": [
        "6731i_Manual.pdf\r\n",
        "9702019.pdf\r\n",
        "\u001b[0m\u001b[01;34madapro\u001b[0m/\r\n",
        "\u001b[01;31madapro.zip\u001b[0m\r\n",
        "Agenda_cultural_enero_febrero_2014_ES.pdf\r\n",
        "AI07212.pdf\r\n",
        "Alekseev V.B.-Abel\u2019s Theorem in Problems and Solutions. Based on the lectures of Professor V.I. Arnold (2004).pdf\r\n",
        "Anaconda-1.7.0-Linux-x86_64.sh\r\n",
        "\u001b[01;32mAnaconda-1.8.0-Linux-x86_64.sh\u001b[0m*\r\n",
        "ANEXO_III_Normativa_Permisos_y_Licencias_PDI_.pdf\r\n",
        "ApleTree(1).xlsx\r\n",
        "ApleTree(2).xlsx\r\n",
        "ApleTree.xlsx\r\n",
        "aprenda-a-pensar-como-un-programador-con-python.pdf\r\n",
        "arnold.pdf\r\n",
        "calendar2014-small.pdf\r\n",
        "Carl F. Gauss, W.C. Waterhouse, Arthur A. Clarke, J. Brinkhuis, C. Greiter-Disquisitiones Arithmeticae-Springer (1986).djvu\r\n",
        "COMEDOR.pdf\r\n",
        "contacts.csv\r\n",
        "datos.pdf\r\n",
        "DEFINITIVO_python\r\n",
        "DEFINITIVO_python.py\r\n",
        "DEFINITIVO_python.py~\r\n",
        "developer.pdf\r\n",
        "Elias Wegert -Visual complex functions. An introduction with phase portraits-Birkha\u0308user (2012).pdf\r\n",
        "entregaEjercicio1\r\n",
        "extra.txt\r\n",
        "Futbol Peques.pdf\r\n",
        "GeneraListas-Diciembre.pdf\r\n",
        "getreport\r\n",
        "\u001b[01;31mgoogle-chrome-stable_current_amd64.deb\u001b[0m\r\n",
        "install.exe\r\n",
        "JCDiciembreProv.xlsx\r\n",
        "[John_Willard_Milnor,_Dale_Husemoller]_Symmetric_b(BookFi.org).pdf\r\n",
        "\u001b[01;35mLinear Vector Spaces - I-mod01lec02.mp4\u001b[0m\r\n",
        "Listas(1).ipynb\r\n",
        "Listas.ipynb\r\n",
        "math0401021.pdf\r\n",
        "math0510049.pdf\r\n",
        "MemoriaFRACTALGo.pdf\r\n",
        "NewtonFractal(1).ipynb\r\n",
        "NewtonFractal(2).ipynb\r\n",
        "NewtonFractal(3).ipynb\r\n",
        "NewtonFractal(4).ipynb\r\n",
        "NewtonFractal(5).ipynb\r\n",
        "NewtonFractal-Enunciado(1).ipynb\r\n",
        "NewtonFractal-Enunciado(2).ipynb\r\n",
        "NewtonFractal-Enunciado.ipynb\r\n",
        "NewtonFractal.ipynb\r\n",
        "Normativa_Permisos_y_Licencias_PDI_.pdf\r\n",
        "POSTERCI_2013.pdf\r\n",
        "Practica\r\n",
        "practica1cambiodemoneda-antonio_antoranz_esteban\r\n",
        "Practica2.ipynb\r\n",
        "Practica2.pdf\r\n",
        "practicamonedas(1).py\r\n",
        "practicamonedas.py\r\n",
        "Practica.py\r\n",
        "Primera prueba.ipynb\r\n",
        "primerosPasos(1).py\r\n",
        "primerosPasos.py\r\n",
        "README_ES.txt\r\n",
        "README_PT.txt\r\n",
        "README.txt\r\n",
        "[Reed_Jacobson]_Microsoft_Office_Excel_2007_Visual(BookFi.org).pdf\r\n",
        "[Robin_Hartshorne]_Geometry_Euclid_and_Beyond(BookFi.org).pdf\r\n",
        "sabias que....8 Acci\u00f3n Social.pdf\r\n",
        "Scott Chacon-Pro Git-Apress (2009).pdf\r\n",
        "(Texts in Computational Science and Engineering) Hans Petter Langtangen-Python Scripting For Computational Science-Springer Berlin Heidelberg (2009).pdf\r\n",
        "(Texts in Computational Science and Engineering) Hans Petter Langtangen-Python Scripting For Computational Science-Springer Berlin Heidelberg (2009).pdf.part\r\n",
        "\u001b[01;35mThe Idea of a Riemann Surface-mod01lec01.mp4\u001b[0m\r\n",
        "Thomas H Cormen, Charles E Leiserson, Ronald L Rivest, Clifford Stein-Introduction to Algorithms-McGraw-Hill Science_Engineering_Math (2001).pdf\r\n",
        "Thomas H. Cormen, Charles E. Leiserson, Ronald L. Rivest, Clifford Stein-Introduction to Algorithms -MIT (2009).pdf\r\n",
        "Thomas H. Cormen, Charles E. Leiserson, Ronald L. Rivest, Clifford Stein-Introduction to Algorithms -MIT (2009).pdf.part\r\n",
        "Untitled3.ipynb\r\n",
        "Varianza.ipynb\r\n",
        "VoronoiGraph.sws\r\n"
       ]
      }
     ],
     "prompt_number": 9
    },
    {
     "cell_type": "code",
     "collapsed": false,
     "input": [
      "import os"
     ],
     "language": "python",
     "metadata": {},
     "outputs": [],
     "prompt_number": 10
    },
    {
     "cell_type": "code",
     "collapsed": false,
     "input": [
      "os.exec('acroread')"
     ],
     "language": "python",
     "metadata": {},
     "outputs": [
      {
       "ename": "SyntaxError",
       "evalue": "invalid syntax (<ipython-input-12-4c6fd13cfd8f>, line 1)",
       "output_type": "pyerr",
       "traceback": [
        "\u001b[1;36m  File \u001b[1;32m\"<ipython-input-12-4c6fd13cfd8f>\"\u001b[1;36m, line \u001b[1;32m1\u001b[0m\n\u001b[1;33m    os.exec('acroread')\u001b[0m\n\u001b[1;37m          ^\u001b[0m\n\u001b[1;31mSyntaxError\u001b[0m\u001b[1;31m:\u001b[0m invalid syntax\n"
       ]
      }
     ],
     "prompt_number": 12
    },
    {
     "cell_type": "code",
     "collapsed": false,
     "input": [
      "os.execv('acroread',[])"
     ],
     "language": "python",
     "metadata": {},
     "outputs": [
      {
       "ename": "ValueError",
       "evalue": "execv() arg 2 must not be empty",
       "output_type": "pyerr",
       "traceback": [
        "\u001b[1;31m---------------------------------------------------------------------------\u001b[0m\n\u001b[1;31mValueError\u001b[0m                                Traceback (most recent call last)",
        "\u001b[1;32m<ipython-input-15-08bbb05774b7>\u001b[0m in \u001b[0;36m<module>\u001b[1;34m()\u001b[0m\n\u001b[1;32m----> 1\u001b[1;33m \u001b[0mos\u001b[0m\u001b[1;33m.\u001b[0m\u001b[0mexecv\u001b[0m\u001b[1;33m(\u001b[0m\u001b[1;34m'acroread'\u001b[0m\u001b[1;33m,\u001b[0m\u001b[1;33m[\u001b[0m\u001b[1;33m]\u001b[0m\u001b[1;33m)\u001b[0m\u001b[1;33m\u001b[0m\u001b[0m\n\u001b[0m",
        "\u001b[1;31mValueError\u001b[0m: execv() arg 2 must not be empty"
       ]
      }
     ],
     "prompt_number": 15
    },
    {
     "cell_type": "code",
     "collapsed": false,
     "input": [
      "os.system(\"acroread\")"
     ],
     "language": "python",
     "metadata": {},
     "outputs": [
      {
       "metadata": {},
       "output_type": "pyout",
       "prompt_number": 16,
       "text": [
        "0"
       ]
      }
     ],
     "prompt_number": 16
    },
    {
     "cell_type": "code",
     "collapsed": false,
     "input": [],
     "language": "python",
     "metadata": {},
     "outputs": []
    }
   ],
   "metadata": {}
  }
 ]
}