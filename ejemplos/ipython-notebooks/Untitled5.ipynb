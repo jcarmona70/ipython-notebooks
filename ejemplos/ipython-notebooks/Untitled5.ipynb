{
 "metadata": {
  "name": ""
 },
 "nbformat": 3,
 "nbformat_minor": 0,
 "worksheets": [
  {
   "cells": [
    {
     "cell_type": "code",
     "collapsed": false,
     "input": [
      "def f(x):\n",
      "    return x**4-1\n",
      "def derf(x):\n",
      "    return 4*(x**3)\n",
      "\n",
      "def newton(f,derf,z1,epsilon, max_steps):\n",
      "    step=1\n",
      "    z1=z1\n",
      "    while abs(f(z1))>=epsilon and step<max_steps:\n",
      "        \n",
      "        step=step+1\n",
      "        z1=z1-(f(z1)/derf(z1))\n",
      "    return z1,step\n"
     ],
     "language": "python",
     "metadata": {},
     "outputs": [],
     "prompt_number": 5
    },
    {
     "cell_type": "code",
     "collapsed": false,
     "input": [
      "newton(f,derf,complex(80.,80.),2**(-32),50)"
     ],
     "language": "python",
     "metadata": {},
     "outputs": [
      {
       "metadata": {},
       "output_type": "pyout",
       "prompt_number": 8,
       "text": [
        "((-0.5825545494493184-0.5825545494493184j), 50)"
       ]
      }
     ],
     "prompt_number": 8
    },
    {
     "cell_type": "code",
     "collapsed": false,
     "input": [],
     "language": "python",
     "metadata": {},
     "outputs": []
    }
   ],
   "metadata": {}
  }
 ]
}