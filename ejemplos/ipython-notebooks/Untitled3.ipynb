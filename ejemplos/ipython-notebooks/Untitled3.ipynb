{
 "metadata": {
  "name": ""
 },
 "nbformat": 3,
 "nbformat_minor": 0,
 "worksheets": [
  {
   "cells": [
    {
     "cell_type": "code",
     "collapsed": false,
     "input": [
      "import Image"
     ],
     "language": "python",
     "metadata": {},
     "outputs": [],
     "prompt_number": 2
    },
    {
     "cell_type": "code",
     "collapsed": false,
     "input": [
      "im=Image.open(\"/usr/share/pixmaps/faces/penguin.jpg\")"
     ],
     "language": "python",
     "metadata": {},
     "outputs": [],
     "prompt_number": 4
    },
    {
     "cell_type": "code",
     "collapsed": false,
     "input": [
      "im.show()"
     ],
     "language": "python",
     "metadata": {},
     "outputs": [],
     "prompt_number": 5
    },
    {
     "cell_type": "code",
     "collapsed": false,
     "input": [
      "im1=Image.new(\"RGB\",(512,512),\"white\")"
     ],
     "language": "python",
     "metadata": {},
     "outputs": [],
     "prompt_number": 9
    },
    {
     "cell_type": "code",
     "collapsed": false,
     "input": [
      "im1.show()"
     ],
     "language": "python",
     "metadata": {},
     "outputs": [],
     "prompt_number": 10
    },
    {
     "cell_type": "code",
     "collapsed": false,
     "input": [
      "im1.putpixel((10,10),(100,0,0))"
     ],
     "language": "python",
     "metadata": {},
     "outputs": [],
     "prompt_number": 12
    },
    {
     "cell_type": "code",
     "collapsed": false,
     "input": [
      "im1.show()"
     ],
     "language": "python",
     "metadata": {},
     "outputs": [],
     "prompt_number": 13
    },
    {
     "cell_type": "code",
     "collapsed": false,
     "input": [
      "def newton(f,derf,z0,epsilon,max_steps):\n",
      "    steps=0\n",
      "    z=z0\n",
      "    if abs(derf(z))!=0:\n",
      "        inc=-f(z)/derf(z)\n",
      "            #print z\n",
      "    else:\n",
      "        steps=max_steps\n",
      "    while steps<max_steps and  abs(f(z))>epsilon:\n",
      "        z=z+inc\n",
      "        steps=steps+1\n",
      "        if abs(derf(z))!=0:\n",
      "            inc=-f(z)/derf(z)\n",
      "            #print z\n",
      "        else:\n",
      "            steps=max_steps\n",
      "    return z,steps"
     ],
     "language": "python",
     "metadata": {},
     "outputs": [],
     "prompt_number": 140
    },
    {
     "cell_type": "code",
     "collapsed": false,
     "input": [
      "def f(z):\n",
      "    return z**4-1\n",
      "def derf(z):\n",
      "    return 4*(z**3)\n"
     ],
     "language": "python",
     "metadata": {},
     "outputs": [],
     "prompt_number": 141
    },
    {
     "cell_type": "code",
     "collapsed": false,
     "input": [
      "f(complex(2,3.34))/derf(complex(2,3.34))"
     ],
     "language": "python",
     "metadata": {},
     "outputs": [
      {
       "metadata": {},
       "output_type": "pyout",
       "prompt_number": 126,
       "text": [
        "(0.5042323695029843+0.8352025420944892j)"
       ]
      }
     ],
     "prompt_number": 126
    },
    {
     "cell_type": "code",
     "collapsed": false,
     "input": [
      "newton(f,derf,complex(1,1),2**(-16),100000)"
     ],
     "language": "python",
     "metadata": {},
     "outputs": [
      {
       "metadata": {},
       "output_type": "pyout",
       "prompt_number": 147,
       "text": [
        "((0.9285569827082226+0.9285569827082226j), 100000)"
       ]
      }
     ],
     "prompt_number": 147
    },
    {
     "cell_type": "code",
     "collapsed": false,
     "input": [
      "def mas_cercana(z,l):\n",
      "    result=0\n",
      "    dist=abs(z-l[0])\n",
      "    for i in range(1,len(l)):\n",
      "        dist_act=abs(z-l[i])\n",
      "        if dist_act<dist:\n",
      "            result=i\n",
      "            dist=dist_act\n",
      "    return result\n",
      "\n",
      "def newton_fractal(f,derf,roots,colors,max_img,max_real,prec):\n",
      "    xpoints=2*int(round(max_real/prec))\n",
      "    ypoints=2*int(round(max_real/prec))\n",
      "    im=Image.new(\"RGB\",(xpoints+1,ypoints+1),\"white\")\n",
      "    cont=0\n",
      "    for x in xrange(xpoints+1):\n",
      "        for y in xrange(ypoints+1):\n",
      "            z0=complex((x-xpoints/2)*prec,(ypoints/2-y)*prec)\n",
      "            aprox,steps=newton(f,derf,z0,2**(-32),100)\n",
      "            if steps<100:\n",
      "                im.putpixel((x,y),colors[mas_cercana(aprox,roots)])\n",
      "            #cont=cont+1\n",
      "            #if cont%10000==0:\n",
      "            #   print steps,x,y\n",
      "            #   print aprox\n",
      "    return im"
     ],
     "language": "python",
     "metadata": {},
     "outputs": [],
     "prompt_number": 97
    },
    {
     "cell_type": "code",
     "collapsed": false,
     "input": [
      "\n",
      "newton(f,derf,complex(-0.5,-0.5),2**(-16),100)"
     ],
     "language": "python",
     "metadata": {},
     "outputs": [
      {
       "metadata": {},
       "output_type": "pyout",
       "prompt_number": 154,
       "text": [
        "((-12.36541472801669-12.36541472801669j), 100)"
       ]
      }
     ],
     "prompt_number": 154
    },
    {
     "cell_type": "code",
     "collapsed": false,
     "input": [
      "r1=newton(f,derf,complex(-10,10),2**(-32),100000)[0]"
     ],
     "language": "python",
     "metadata": {},
     "outputs": [],
     "prompt_number": 107
    },
    {
     "cell_type": "code",
     "collapsed": false,
     "input": [
      "r2=newton(f,derf,complex(5),2**(-32),100000)[0]"
     ],
     "language": "python",
     "metadata": {},
     "outputs": [],
     "prompt_number": 108
    },
    {
     "cell_type": "code",
     "collapsed": false,
     "input": [
      "r0,r1,r2"
     ],
     "language": "python",
     "metadata": {},
     "outputs": [
      {
       "metadata": {},
       "output_type": "pyout",
       "prompt_number": 109,
       "text": [
        "((52527.226529652224+52527.226529652224j),\n",
        " (52527.226529652224-52527.226529652224j),\n",
        " (1.0000000000000002+0j))"
       ]
      }
     ],
     "prompt_number": 109
    },
    {
     "cell_type": "code",
     "collapsed": false,
     "input": [
      "raices=[complex(1,0),complex(-1,0),complex(0,1),complex(0,-1)]\n",
      "import Image\n",
      "fractal=newton_fractal(f,derf,raices,[(255,0,0),(0,255,0),(0,0,255),(255,0,255)],2,2,0.005)"
     ],
     "language": "python",
     "metadata": {},
     "outputs": [],
     "prompt_number": 151
    },
    {
     "cell_type": "code",
     "collapsed": false,
     "input": [
      "\n",
      "fractal.show()"
     ],
     "language": "python",
     "metadata": {},
     "outputs": [],
     "prompt_number": 152
    },
    {
     "cell_type": "code",
     "collapsed": false,
     "input": [
      "fractal"
     ],
     "language": "python",
     "metadata": {},
     "outputs": []
    },
    {
     "cell_type": "code",
     "collapsed": false,
     "input": [],
     "language": "python",
     "metadata": {},
     "outputs": []
    }
   ],
   "metadata": {}
  }
 ]
}