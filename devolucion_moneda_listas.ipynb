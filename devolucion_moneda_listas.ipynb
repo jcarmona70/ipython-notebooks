{
 "metadata": {
  "name": "devolucion_moneda_listas"
 },
 "nbformat": 3,
 "nbformat_minor": 0,
 "worksheets": [
  {
   "cells": [
    {
     "cell_type": "markdown",
     "metadata": {
      "slideshow": {
       "slide_type": "notes"
      }
     },
     "source": "Una soluci\u00f3n al problema de devoluci\u00f3n de cambio.\nEl programa pide una cantidad en Euros y escribe \nla cantidad de monedas de cada tipo para devolver el cambio."
    },
    {
     "cell_type": "code",
     "collapsed": false,
     "input": "def escribe_cambio(num_mon,valor):\n    if num_mon==1:\n        if valor==200:\n            print \"  \",num_mon,\"moneda de 2 Euros\"\n        elif valor==100:\n            print \"  \",num_mon,\"moneda de 1 Euro\"\n        elif valor==1:\n            print \"  \",num_mon,\"moneda de 1 Centimo\"\n        else:\n            print \"  \",num_mon,\"moneda de \"+str(valor)+\" Centimos\"\n    elif num_mon!=0:\n        if valor==200:\n            print \"  \",num_mon,\"monedas de 2 Euros\"\n        elif valor==100:\n            print \"  \",num_mon,\"monedas de 1 Euro\"\n        elif valor==1:\n            print \"  \",num_mon,\"monedas de 1 Centimo\"\n        else:\n            print \"  \",num_mon,\"monedas de \"+str(valor)+\" Centimos\"\n\ncambio=float(raw_input(\"Introduce el cambio en Euros (por ejemplo 2.35):\"))\ncentimos=int(round(cambio*100))\nm2e=centimos/200    #monedas de 2 euros\nresto=centimos%200  #lo que nos queda por devolver\n#lo mismo para el resto de monedas\nm1e=resto/100\nresto=resto%100\n\nm50cent=resto/50\nresto=resto%50\n\nm20cent=resto/20\nresto=resto%20\n\nm10cent=resto/10\nresto=resto%10\n\nm5cent=resto/5\nresto=resto%5\n\nm2cent=resto/2\nresto=resto%2\n\nm1cent=resto\nresto=0\n\nprint \"Su cambio:\"\nescribe_cambio(m2e,200)\nescribe_cambio(m1e,100)\nescribe_cambio(m50cent,50)\nescribe_cambio(m20cent,20)\nescribe_cambio(m10cent,10)\nescribe_cambio(m5cent,5)\nescribe_cambio(m2cent,2)\nescribe_cambio(m1cent,1)",
     "language": "python",
     "metadata": {
      "slideshow": {
       "slide_type": "slide"
      }
     },
     "outputs": [
      {
       "name": "stdout",
       "output_type": "stream",
       "stream": "stdout",
       "text": "Introduce el cambio en Euros (por ejemplo 2.35):12.57\n"
      },
      {
       "output_type": "stream",
       "stream": "stdout",
       "text": "Su cambio:\n   6 monedas de 2 Euros\n   1 moneda de 50 Centimos\n   1 moneda de 5 Centimos\n   1 moneda de 2 Centimos\n"
      }
     ],
     "prompt_number": 1
    },
    {
     "cell_type": "markdown",
     "metadata": {},
     "source": "Cambio con l\u00edmite de monedas."
    },
    {
     "cell_type": "code",
     "collapsed": false,
     "input": "def pedir_limite(moneda):\n    lim=int(raw_input(\"Introduce el numero de monedas de \"+moneda+\":\"))\n    return lim\n\ndef minimo(x,y):\n    if x<=y:\n        result=x\n    else:\n        result=y\n    return result\n\ncambio=float(raw_input(\"Introduce el cambio en Euros (por ejemplo 2.35):\"))\ncentimos=int(round(cambio*100))\nprint \"Necesito saber el numero de monedas disponibles\"\nlim2e=pedir_limite(\"2 Euros\")\nlim1e=pedir_limite(\"1 Euro\")\nlim50cent=pedir_limite(\"50 Centimos\")\nlim20cent=pedir_limite(\"20 Centimos\")\nlim10cent=pedir_limite(\"10 Centimos\")\nlim5cent=pedir_limite(\"5 Centimos\")\nlim2cent=pedir_limite(\"2 Centimos\")\nlim1cent=pedir_limite(\"1 Centimo\")\nm2e=minimo(centimos/200,lim2e)#monedas de 2 euros\nresto=centimos-m2e*200  #lo que nos queda por devolver\n#lo mismo para el resto de monedas\nm1e=minimo(resto/100,lim1e)\nresto=resto-m1e*100\n\nm50cent=minimo(resto/50,lim50cent)\nresto=resto-m50cent*50\n\nm20cent=minimo(resto/20,lim20cent)\nresto=resto-m20cent*20\n\nm10cent=minimo(resto/10,lim10cent)\nresto=resto-m10cent*10\n\nm5cent=minimo(resto/5,lim5cent)\nresto=resto-m5cent*5\n\nm2cent=minimo(resto/2,lim2cent)\nresto=resto-m2cent*2\n\nm1cent=min(resto,lim1cent)\nresto=resto-m1cent\n\nprint \"Su cambio:\"\nescribe_cambio(m2e,200)\nescribe_cambio(m1e,100)\nescribe_cambio(m50cent,50)\nescribe_cambio(m20cent,20)\nescribe_cambio(m10cent,10)\nescribe_cambio(m5cent,5)\nescribe_cambio(m2cent,2)\nescribe_cambio(m1cent,1)\nif resto!=0:\n    print \"Quedan \"+str(resto)+\" Centimos por devolver. \"\n    print \"Puede ser porque no es posible o porque mi algor\u00edtmo no es suficientemente bueno\"",
     "language": "python",
     "metadata": {},
     "outputs": [
      {
       "name": "stdout",
       "output_type": "stream",
       "stream": "stdout",
       "text": "Introduce el cambio en Euros (por ejemplo 2.35):56.79\n"
      },
      {
       "output_type": "stream",
       "stream": "stdout",
       "text": "Necesito saber el numero de monedas disponibles\n"
      },
      {
       "name": "stdout",
       "output_type": "stream",
       "stream": "stdout",
       "text": "Introduce el numero de monedas de 2 Euros:2\n"
      },
      {
       "name": "stdout",
       "output_type": "stream",
       "stream": "stdout",
       "text": "Introduce el numero de monedas de 1 Euro:3\n"
      },
      {
       "name": "stdout",
       "output_type": "stream",
       "stream": "stdout",
       "text": "Introduce el numero de monedas de 50 Centimos:3\n"
      },
      {
       "name": "stdout",
       "output_type": "stream",
       "stream": "stdout",
       "text": "Introduce el numero de monedas de 20 Centimos:3\n"
      },
      {
       "name": "stdout",
       "output_type": "stream",
       "stream": "stdout",
       "text": "Introduce el numero de monedas de 10 Centimos:3\n"
      },
      {
       "name": "stdout",
       "output_type": "stream",
       "stream": "stdout",
       "text": "Introduce el numero de monedas de 5 Centimos:3\n"
      },
      {
       "name": "stdout",
       "output_type": "stream",
       "stream": "stdout",
       "text": "Introduce el numero de monedas de 2 Centimos:3\n"
      },
      {
       "name": "stdout",
       "output_type": "stream",
       "stream": "stdout",
       "text": "Introduce el numero de monedas de 1 Centimo:3\n"
      },
      {
       "output_type": "stream",
       "stream": "stdout",
       "text": "Su cambio:\n   2 monedas de 2 Euros\n   3 monedas de 1 Euro\n   3 monedas de 50 Centimos\n   3 monedas de 20 Centimos\n   3 monedas de 10 Centimos\n   3 monedas de 5 Centimos\n   3 monedas de 2 Centimos\n   3 monedas de 1 Centimo\nQuedan 4715 Centimos por devolver.\nPuede ser porque no es posible o porque mi algor\u00edtmo no es suficientemente bueno\n"
      }
     ],
     "prompt_number": 2
    },
    {
     "cell_type": "markdown",
     "metadata": {},
     "source": "Un procedimiento puede mejorar la forma de probar nuestro programa una y otra vez."
    },
    {
     "cell_type": "code",
     "collapsed": false,
     "input": "def cambio_moneda():\n    cambio=float(raw_input(\"Introduce el cambio en Euros (por ejemplo 2.35):\"))\n    centimos=int(round(cambio*100))\n    m2e=centimos/200    #monedas de 2 euros\n    resto=centimos%200  #lo que nos queda por devolver\n    #lo mismo para el resto de monedas\n    m1e=resto/100\n    resto=resto%100\n    \n    m50cent=resto/50\n    resto=resto%50\n    \n    m20cent=resto/20\n    resto=resto%20\n    \n    m10cent=resto/10\n    resto=resto%10\n    \n    m5cent=resto/5\n    resto=resto%5\n    \n    m2cent=resto/2\n    resto=resto%2\n    \n    m1cent=resto\n    resto=0\n    \n    print \"Su cambio:\"\n    escribe_cambio(m2e,200)\n    escribe_cambio(m1e,100)\n    escribe_cambio(m50cent,50)\n    escribe_cambio(m20cent,20)\n    escribe_cambio(m10cent,10)\n    escribe_cambio(m5cent,5)\n    escribe_cambio(m2cent,2)\n    escribe_cambio(m1cent,1)",
     "language": "python",
     "metadata": {},
     "outputs": [],
     "prompt_number": 3
    },
    {
     "cell_type": "code",
     "collapsed": false,
     "input": "cambio_moneda()",
     "language": "python",
     "metadata": {},
     "outputs": [
      {
       "name": "stdout",
       "output_type": "stream",
       "stream": "stdout",
       "text": "Introduce el cambio en Euros (por ejemplo 2.35):23.67\n"
      },
      {
       "output_type": "stream",
       "stream": "stdout",
       "text": "Su cambio:\n   11 monedas de 2 Euros\n   1 moneda de 1 Euro\n   1 moneda de 50 Centimos\n   1 moneda de 10 Centimos\n   1 moneda de 5 Centimos\n   1 moneda de 2 Centimos\n"
      }
     ],
     "prompt_number": 4
    },
    {
     "cell_type": "markdown",
     "metadata": {},
     "source": "Incluso podemos indicar el valor del cambio como par\u00e1metro."
    },
    {
     "cell_type": "code",
     "collapsed": false,
     "input": "def cambio_moneda(cambio):\n    centimos=int(round(cambio*100))\n    m2e=centimos/200    #monedas de 2 euros\n    resto=centimos%200  #lo que nos queda por devolver\n    #lo mismo para el resto de monedas\n    m1e=resto/100\n    resto=resto%100\n    \n    m50cent=resto/50\n    resto=resto%50\n    \n    m20cent=resto/20\n    resto=resto%20\n    \n    m10cent=resto/10\n    resto=resto%10\n    \n    m5cent=resto/5\n    resto=resto%5\n    \n    m2cent=resto/2\n    resto=resto%2\n    \n    m1cent=resto\n    resto=0\n    \n    print \"Su cambio:\"\n    escribe_cambio(m2e,200)\n    escribe_cambio(m1e,100)\n    escribe_cambio(m50cent,50)\n    escribe_cambio(m20cent,20)\n    escribe_cambio(m10cent,10)\n    escribe_cambio(m5cent,5)\n    escribe_cambio(m2cent,2)\n    escribe_cambio(m1cent,1)",
     "language": "python",
     "metadata": {},
     "outputs": [],
     "prompt_number": 5
    },
    {
     "cell_type": "code",
     "collapsed": false,
     "input": "cambio_moneda(34.54)",
     "language": "python",
     "metadata": {},
     "outputs": [
      {
       "output_type": "stream",
       "stream": "stdout",
       "text": "Su cambio:\n   17 monedas de 2 Euros\n   1 moneda de 50 Centimos\n   2 monedas de 2 Centimos\n"
      }
     ],
     "prompt_number": 6
    },
    {
     "cell_type": "markdown",
     "metadata": {},
     "source": "Si queremos que una funci\u00f3n que devuelva la soluci\u00f3n necesitamos recurrir a las listas. "
    },
    {
     "cell_type": "code",
     "collapsed": false,
     "input": "def cambio_moneda(cambio):\n    centimos=int(round(cambio*100))\n    m2e=centimos/200    #monedas de 2 euros\n    resto=centimos%200  #lo que nos queda por devolver\n    #lo mismo para el resto de monedas\n    m1e=resto/100\n    resto=resto%100\n    \n    m50cent=resto/50\n    resto=resto%50\n    \n    m20cent=resto/20\n    resto=resto%20\n    \n    m10cent=resto/10\n    resto=resto%10\n    \n    m5cent=resto/5\n    resto=resto%5\n    \n    m2cent=resto/2\n    resto=resto%2\n    \n    m1cent=resto\n    resto=0\n    return [m2e,m1e,m50cent,m20cent,m10cent,m5cent,m2cent,m1cent]",
     "language": "python",
     "metadata": {},
     "outputs": [],
     "prompt_number": 7
    },
    {
     "cell_type": "code",
     "collapsed": false,
     "input": "cambio_moneda(34.56)",
     "language": "python",
     "metadata": {},
     "outputs": [
      {
       "metadata": {},
       "output_type": "pyout",
       "prompt_number": 8,
       "text": "[17, 0, 1, 0, 0, 1, 0, 1]"
      }
     ],
     "prompt_number": 8
    },
    {
     "cell_type": "markdown",
     "metadata": {},
     "source": "Usando las listas las cosas quedan mejor, una sucesi\u00f3n de instrucciones muy parecidas se sustituyen por un bucle. Adem\u00e1s la funci\u00f3n vale para cualquier sistema monetario (suficientemente bueno como para que nuestro algoritmo funcione)"
    },
    {
     "cell_type": "code",
     "collapsed": false,
     "input": "def cambio_moneda(cambio,valores):\n    #cambio es un entero positivo\n    #valores en una lista de enteros mayores que cero ordenados de mayor a menor, \n    #representan el valor de las monedas en un sistema monetario.\n    #devuelve una lista, monedas, que contiene el numero de monedas de cada tipo a devolver.\n    #monedas[i] es el n\u00famero de monedas de valor valores[i] que debemos devolver.\n    resto=cambio\n    monedas=[0]*len(valores) # en monedas vamos a almacenar el n\u00famero de monedas de cada valor\n                             # monedas[i] ser\u00e1 el n\u00famero de monedas de valor valores[i] a devolver\n    for i in range(len(valores)):\n        monedas[i]=resto/valores[i]\n        resto=resto%valores[i]\n    return monedas",
     "language": "python",
     "metadata": {},
     "outputs": [],
     "prompt_number": 9
    },
    {
     "cell_type": "code",
     "collapsed": false,
     "input": "def cambio_interactivo():\n    cambio=float(raw_input(\"Introduce el cambio en Euros (por ejemplo 2.35):\"))\n    valores=[200,100,50,20,10,5,2,1]\n    centimos=int(round(cambio*100))\n    monedas=cambio_moneda(centimos,[200,100,50,20,10,5,2,1])\n    escribe(monedas,valores)\n\ndef escribe(monedas,valores):\n    print \"Su cambio:\"\n    for i in range(len(valores)):\n        escribe_cambio(monedas[i],valores[i])\n\ndef escribe_cambio(num_mon,valor):\n    if num_mon==1:\n        if valor==200:\n            print \"  \",num_mon,\"moneda de 2 Euros\"\n        elif valor==100:\n            print \"  \",num_mon,\"moneda de 1 Euro\"\n        elif valor==1:\n            print \"  \",num_mon,\"moneda de 1 Centimo\"\n        else:\n            print \"  \",num_mon,\"moneda de \"+str(valor)+\" Centimos\"\n    elif num_mon!=0:\n        if valor==200:\n            print \"  \",num_mon,\"monedas de 2 Euros\"\n        elif valor==100:\n            print \"  \",num_mon,\"monedas de 1 Euro\"\n        elif valor==1:\n            print \"  \",num_mon,\"monedas de 1 Centimo\"\n        else:\n            print \"  \",num_mon,\"monedas de \"+str(valor)+\" Centimos\"\n",
     "language": "python",
     "metadata": {},
     "outputs": [],
     "prompt_number": 10
    },
    {
     "cell_type": "code",
     "collapsed": false,
     "input": "cambio_interactivo()",
     "language": "python",
     "metadata": {},
     "outputs": [
      {
       "name": "stdout",
       "output_type": "stream",
       "stream": "stdout",
       "text": "Introduce el cambio en Euros (por ejemplo 2.35):34.90\n"
      },
      {
       "output_type": "stream",
       "stream": "stdout",
       "text": "Su cambio:\n   17 monedas de 2 Euros\n   1 moneda de 50 Centimos\n   2 monedas de 20 Centimos\n"
      }
     ],
     "prompt_number": 11
    },
    {
     "cell_type": "code",
     "collapsed": false,
     "input": "",
     "language": "python",
     "metadata": {},
     "outputs": [],
     "prompt_number": 11
    }
   ],
   "metadata": {}
  }
 ]
}