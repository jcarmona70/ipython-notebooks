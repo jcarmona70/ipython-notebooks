{
 "metadata": {
  "name": ""
 },
 "nbformat": 3,
 "nbformat_minor": 0,
 "worksheets": [
  {
   "cells": [
    {
     "cell_type": "code",
     "collapsed": false,
     "input": [
      "import urllib"
     ],
     "language": "python",
     "metadata": {},
     "outputs": [],
     "prompt_number": 6
    },
    {
     "cell_type": "code",
     "collapsed": false,
     "input": [
      "pagina=urllib.urlopen('http://www.google.es/')"
     ],
     "language": "python",
     "metadata": {},
     "outputs": [],
     "prompt_number": 30
    },
    {
     "cell_type": "code",
     "collapsed": false,
     "input": [
      "l=pagina.readlines()\n",
      "pagina.close()"
     ],
     "language": "python",
     "metadata": {},
     "outputs": [],
     "prompt_number": 3
    },
    {
     "cell_type": "code",
     "collapsed": false,
     "input": [
      "len(l)"
     ],
     "language": "python",
     "metadata": {},
     "outputs": [
      {
       "metadata": {},
       "output_type": "pyout",
       "prompt_number": 4,
       "text": [
        "188"
       ]
      }
     ],
     "prompt_number": 4
    },
    {
     "cell_type": "code",
     "collapsed": false,
     "input": [
      "pagina=urllib.urlopen('http://www.ucm.es')"
     ],
     "language": "python",
     "metadata": {},
     "outputs": [],
     "prompt_number": 43
    },
    {
     "cell_type": "code",
     "collapsed": false,
     "input": [
      "l=pagina.read()\n",
      "pagina.close()"
     ],
     "language": "python",
     "metadata": {},
     "outputs": [],
     "prompt_number": 44
    },
    {
     "cell_type": "code",
     "collapsed": false,
     "input": [
      "len(l)"
     ],
     "language": "python",
     "metadata": {},
     "outputs": [
      {
       "metadata": {},
       "output_type": "pyout",
       "prompt_number": 45,
       "text": [
        "13369"
       ]
      }
     ],
     "prompt_number": 45
    },
    {
     "cell_type": "code",
     "collapsed": false,
     "input": [
      "def enlaces(s,root):\n",
      "    result=[]\n",
      "    next_label=s.find('<a href')\n",
      "    while next_label!=-1:\n",
      "        inic_url=s.find(\"\\\"\",next_label)+1\n",
      "        fin_url=s.find(\"\\\"\",inic_url)\n",
      "        enlace=s[inic_url:fin_url]\n",
      "        if enlace[0:4]=='http':\n",
      "          result.append(s[inic_url:fin_url])\n",
      "        elif enlace[0]=='/':\n",
      "          result.append(root+s[inic_url:fin_url])\n",
      "        else:\n",
      "          result.append(root+'/'+s[inic_url:fin_url])  \n",
      "        next_label=s.find('<a href',fin_url)\n",
      "    return result\n"
     ],
     "language": "python",
     "metadata": {},
     "outputs": [],
     "prompt_number": 7
    },
    {
     "cell_type": "code",
     "collapsed": false,
     "input": [
      "links=enlaces(l,'http://www.ucm.es')"
     ],
     "language": "python",
     "metadata": {},
     "outputs": [],
     "prompt_number": 54
    },
    {
     "cell_type": "code",
     "collapsed": false,
     "input": [
      "len(links)"
     ],
     "language": "python",
     "metadata": {},
     "outputs": [
      {
       "metadata": {},
       "output_type": "pyout",
       "prompt_number": 55,
       "text": [
        "36"
       ]
      }
     ],
     "prompt_number": 55
    },
    {
     "cell_type": "code",
     "collapsed": false,
     "input": [
      "links"
     ],
     "language": "python",
     "metadata": {},
     "outputs": [
      {
       "metadata": {},
       "output_type": "pyout",
       "prompt_number": 56,
       "text": [
        "['https://www.ucm.es/english',\n",
        " 'https://www.ucm.es/login_sso/',\n",
        " 'http://www.campusmoncloa.es/',\n",
        " 'http://www.ucm.es/gobierno',\n",
        " 'http://www.ucm.es/centros',\n",
        " 'http://www.ucm.es/servicios_1',\n",
        " 'http://www.ucm.es/unidad-de-igualdad',\n",
        " 'http://www.ucm.es/estudios-ofertados',\n",
        " 'http://www.ucm.es/acceso',\n",
        " 'http://www.ucm.es/coie',\n",
        " 'http://www.ucm.es/becas-ayudas',\n",
        " 'http://www.ucm.es/investigar-investigacion',\n",
        " 'http://biblioteca.ucm.es',\n",
        " 'http://www.ucm.es/publicaciones_2',\n",
        " 'http://www.ucm.es/movilidad-mobility',\n",
        " 'http://www.ucm.es/convenios',\n",
        " 'http://www.ucm.es/programas-europeos',\n",
        " 'http://www.ucm.es/agenda-1',\n",
        " 'http://www.ucm.es/deportes_2',\n",
        " 'http://www.ucm.es/cultura_2',\n",
        " 'http://www.ucm.es/ayudas-al-estudio',\n",
        " 'http://www.ucm.es/noticias/reunion-del-claustro-universitario.-martes-11-de-marzo,-a-las-10-horas,-en-odontologia',\n",
        " 'http://www.ucm.es/noticias/la-complutense-entre-las-4-mejores-universidades-espanolas,-segun-el-qs-world-ranking',\n",
        " 'http://www.ucm.es/noticias/convocadas-las-ayudas-extraordinarias-al-estudio-para-el-curso-2013-2014',\n",
        " 'http://www.ucm.es/noticias',\n",
        " 'http://www.ucm.es/rss/rss.php?weid=3',\n",
        " 'http://www.ucm.es/info/tribunacomplutense/',\n",
        " 'http://www.ucm.es/contacto_ucm',\n",
        " 'http://www.ucm.es/aviso-legal',\n",
        " 'http://www.ucm.es/e-sede',\n",
        " 'http://www.ucm.es/ucm-en-linea',\n",
        " 'http://www.ucm.es/empleo-ucm',\n",
        " 'http://www.ucm.es/fundacion',\n",
        " 'http://www.ucm.es/cursosdeverano',\n",
        " 'http://www.fpcm.es/',\n",
        " 'http://www.universia.es/']"
       ]
      }
     ],
     "prompt_number": 56
    },
    {
     "cell_type": "code",
     "collapsed": false,
     "input": [
      "def aniadir_enlaces(l,url):\n",
      "    pagina=urllib.urlopen(url)\n",
      "    #pagina=urllib.urlopen('http://www.ucm.es')\n",
      "    texto=pagina.read()\n",
      "    pagina.close()\n",
      "    new_enlaces=enlaces(texto,url)\n",
      "    l.extend(new_enlaces)"
     ],
     "language": "python",
     "metadata": {},
     "outputs": [],
     "prompt_number": 8
    },
    {
     "cell_type": "code",
     "collapsed": false,
     "input": [
      "l=[]\n",
      "aniadir_enlaces(l,'http://www.ucm.es')"
     ],
     "language": "python",
     "metadata": {},
     "outputs": [],
     "prompt_number": 14
    },
    {
     "cell_type": "code",
     "collapsed": false,
     "input": [
      "pagina=urllib.urlopen('http://www.ucm.es/noticias/convocadas-las-ayudas-extraordinarias-al-estudio-para-el-curso-2013-2014')"
     ],
     "language": "python",
     "metadata": {},
     "outputs": [],
     "prompt_number": 11
    },
    {
     "cell_type": "code",
     "collapsed": false,
     "input": [
      "l=pagina.read()\n",
      "pagina.close()"
     ],
     "language": "python",
     "metadata": {},
     "outputs": [],
     "prompt_number": 12
    },
    {
     "cell_type": "code",
     "collapsed": false,
     "input": [
      "len(l)"
     ],
     "language": "python",
     "metadata": {},
     "outputs": [
      {
       "metadata": {},
       "output_type": "pyout",
       "prompt_number": 13,
       "text": [
        "11949"
       ]
      }
     ],
     "prompt_number": 13
    },
    {
     "cell_type": "code",
     "collapsed": false,
     "input": [
      "l"
     ],
     "language": "python",
     "metadata": {},
     "outputs": [],
     "prompt_number": 5
    },
    {
     "cell_type": "code",
     "collapsed": false,
     "input": [],
     "language": "python",
     "metadata": {},
     "outputs": []
    }
   ],
   "metadata": {}
  }
 ]
}